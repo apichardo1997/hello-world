{
  "cells": [
    {
      "cell_type": "markdown",
      "metadata": {
        "id": "view-in-github",
        "colab_type": "text"
      },
      "source": [
        "<a href=\"https://colab.research.google.com/github/apichardo1997/hello-world/blob/main/W1_Python_Basics_complete.ipynb\" target=\"_parent\"><img src=\"https://colab.research.google.com/assets/colab-badge.svg\" alt=\"Open In Colab\"/></a>"
      ]
    },
    {
      "cell_type": "code",
      "execution_count": 120,
      "metadata": {
        "id": "-tE19vcb95nZ"
      },
      "outputs": [],
      "source": [
        "from IPython.display import Image\n",
        "from IPython.core.display import HTML"
      ]
    },
    {
      "cell_type": "code",
      "execution_count": null,
      "metadata": {
        "colab": {
          "base_uri": "https://localhost:8080/"
        },
        "id": "aEGLSin195na",
        "outputId": "0368b83e-faa2-4d30-d3ae-594674a5e867"
      },
      "outputs": [
        {
          "output_type": "execute_result",
          "data": {
            "text/plain": [
              "['Audio',\n",
              " 'Code',\n",
              " 'DisplayHandle',\n",
              " 'DisplayObject',\n",
              " 'FileLink',\n",
              " 'FileLinks',\n",
              " 'GeoJSON',\n",
              " 'HTML',\n",
              " 'IFrame',\n",
              " 'Image',\n",
              " 'JSON',\n",
              " 'Javascript',\n",
              " 'Latex',\n",
              " 'Markdown',\n",
              " 'Math',\n",
              " 'Pretty',\n",
              " 'ProgressBar',\n",
              " 'SVG',\n",
              " 'ScribdDocument',\n",
              " 'TextDisplayObject',\n",
              " 'Video',\n",
              " 'VimeoVideo',\n",
              " 'YouTubeVideo',\n",
              " '__builtins__',\n",
              " '__cached__',\n",
              " '__doc__',\n",
              " '__file__',\n",
              " '__loader__',\n",
              " '__name__',\n",
              " '__package__',\n",
              " '__spec__',\n",
              " 'clear_output',\n",
              " 'display',\n",
              " 'display_html',\n",
              " 'display_javascript',\n",
              " 'display_jpeg',\n",
              " 'display_json',\n",
              " 'display_latex',\n",
              " 'display_markdown',\n",
              " 'display_pdf',\n",
              " 'display_png',\n",
              " 'display_pretty',\n",
              " 'display_svg',\n",
              " 'publish_display_data',\n",
              " 'set_matplotlib_close',\n",
              " 'set_matplotlib_formats',\n",
              " 'update_display']"
            ]
          },
          "metadata": {},
          "execution_count": 21
        }
      ],
      "source": [
        "import IPython.display\n",
        "dir(IPython.display)"
      ]
    },
    {
      "cell_type": "code",
      "execution_count": null,
      "metadata": {
        "id": "N2blQ46T95nb"
      },
      "outputs": [],
      "source": [
        "firstName='David'"
      ]
    },
    {
      "cell_type": "markdown",
      "metadata": {
        "id": "FvNu5EaI95nb"
      },
      "source": [
        "# Naming Rules & Conventions\n",
        "\n",
        "There are only two hard things in Computer Science: cache invalidation and naming things.\n",
        "\n",
        "— Phil Karlton\n",
        "\n",
        "Variables names must start with a letter or an underscore, such as:\n",
        "\n",
        "    _underscore\n",
        "    underscore_\n",
        "    \n",
        "The remainder of your variable name may consist of letters, numbers and underscores.\n",
        "\n",
        "    password1\n",
        "    n00b\n",
        "    un_der_scores\n",
        "    \n",
        "Names are case sensitive.\n",
        "\n",
        "    case_sensitive, CASE_SENSITIVE, and Case_Sensitive are each a different variable."
      ]
    },
    {
      "cell_type": "code",
      "execution_count": 121,
      "metadata": {
        "scrolled": false,
        "colab": {
          "base_uri": "https://localhost:8080/",
          "height": 184
        },
        "id": "nxOCVyCR95nc",
        "outputId": "d444386d-3f13-478c-c4e0-59a9d65b6c54"
      },
      "outputs": [
        {
          "output_type": "stream",
          "name": "stdout",
          "text": [
            "A\n"
          ]
        },
        {
          "output_type": "error",
          "ename": "NameError",
          "evalue": "name 'ASHARE' is not defined",
          "traceback": [
            "\u001b[0;31m---------------------------------------------------------------------------\u001b[0m",
            "\u001b[0;31mNameError\u001b[0m                                 Traceback (most recent call last)",
            "\u001b[0;32m<ipython-input-121-24d61daa9219>\u001b[0m in \u001b[0;36m<cell line: 0>\u001b[0;34m()\u001b[0m\n\u001b[1;32m      2\u001b[0m \u001b[0mb\u001b[0m \u001b[0;34m=\u001b[0m \u001b[0;36m5\u001b[0m\u001b[0;34m\u001b[0m\u001b[0;34m\u001b[0m\u001b[0m\n\u001b[1;32m      3\u001b[0m \u001b[0mprint\u001b[0m\u001b[0;34m(\u001b[0m\u001b[0mashare\u001b[0m\u001b[0;34m)\u001b[0m\u001b[0;34m\u001b[0m\u001b[0;34m\u001b[0m\u001b[0m\n\u001b[0;32m----> 4\u001b[0;31m \u001b[0mprint\u001b[0m\u001b[0;34m(\u001b[0m\u001b[0mASHARE\u001b[0m\u001b[0;34m)\u001b[0m\u001b[0;34m\u001b[0m\u001b[0;34m\u001b[0m\u001b[0m\n\u001b[0m",
            "\u001b[0;31mNameError\u001b[0m: name 'ASHARE' is not defined"
          ]
        }
      ],
      "source": [
        "ashare = 'A'\n",
        "b = 5\n",
        "print(ashare)\n",
        "print(ASHARE)"
      ]
    },
    {
      "cell_type": "markdown",
      "metadata": {
        "id": "2H4HZJQD95nc"
      },
      "source": [
        "# The Conventions\n",
        "Readability is very important.\n",
        "\n",
        "    student_name  --- good one\n",
        "    studentname\n",
        "    studentName  --- ok\n",
        "\n",
        "Self-explained names are good\n",
        "\n",
        "    total_student_number   --- good one\n",
        "    class_size\n",
        "\n",
        "Avoid using the lowercase letter ‘l’, uppercase ‘O’, and uppercase ‘I’. Why? Because the l and the I look a lot like each other and the number 1. And O looks a lot like 0."
      ]
    },
    {
      "cell_type": "markdown",
      "metadata": {
        "id": "9DNEOXWP95nc"
      },
      "source": [
        "# python keywords\n",
        "DO NOT use these keywords as name for variable/function/class."
      ]
    },
    {
      "cell_type": "code",
      "execution_count": null,
      "metadata": {
        "colab": {
          "base_uri": "https://localhost:8080/"
        },
        "id": "6I2jTT3c95nc",
        "outputId": "b2b70b88-980f-447d-b27f-98ede23bb1b3"
      },
      "outputs": [
        {
          "output_type": "stream",
          "name": "stdout",
          "text": [
            "['False', 'None', 'True', 'and', 'as', 'assert', 'async', 'await', 'break', 'class', 'continue', 'def', 'del', 'elif', 'else', 'except', 'finally', 'for', 'from', 'global', 'if', 'import', 'in', 'is', 'lambda', 'nonlocal', 'not', 'or', 'pass', 'raise', 'return', 'try', 'while', 'with', 'yield']\n"
          ]
        }
      ],
      "source": [
        "import keyword\n",
        "print(keyword.kwlist)"
      ]
    },
    {
      "cell_type": "markdown",
      "metadata": {
        "id": "NovQfM5E95nc"
      },
      "source": [
        "# Comments\n",
        "1. single line comment starts with #\n",
        "2. multiple line comments may have multiple #，or ''' or \"\"\""
      ]
    },
    {
      "cell_type": "code",
      "execution_count": null,
      "metadata": {
        "id": "apMOUeMp95nc"
      },
      "outputs": [],
      "source": [
        "# my first comment\n",
        "# my second comment\n",
        "'''\n",
        "I have too many things to say here\n",
        "but you can skip itsjfasfsaf\n",
        "df\n",
        "a\n",
        "fsd\n",
        "ag\n",
        "\n",
        "You will miss nothing\n",
        "'''\n",
        "\n",
        "studentRules = \"\"\"\n",
        "rules\n",
        "1. don't come late\n",
        "2. bring your id\n",
        "3. \"hello\"\n",
        "\"\"\""
      ]
    },
    {
      "cell_type": "code",
      "execution_count": null,
      "metadata": {
        "colab": {
          "base_uri": "https://localhost:8080/"
        },
        "id": "tZOEEMwU95nd",
        "outputId": "7882e9f3-e00d-40eb-c7f9-940f533d824a"
      },
      "outputs": [
        {
          "output_type": "stream",
          "name": "stdout",
          "text": [
            "\n",
            "rules\n",
            "1. don't come late\n",
            "2. bring your id\n",
            "3. \"hello\"\n",
            "\n"
          ]
        }
      ],
      "source": [
        "print(studentRules)"
      ]
    },
    {
      "cell_type": "code",
      "execution_count": null,
      "metadata": {
        "colab": {
          "base_uri": "https://localhost:8080/",
          "height": 34
        },
        "id": "ywyS88Lb95nd",
        "outputId": "3e2c3bdd-fa23-401a-a35b-784d3c2ab47a"
      },
      "outputs": [
        {
          "output_type": "execute_result",
          "data": {
            "text/plain": [
              "'\"hello\"'"
            ],
            "application/vnd.google.colaboratory.intrinsic+json": {
              "type": "string"
            }
          },
          "metadata": {},
          "execution_count": 24
        }
      ],
      "source": [
        "x=\"\\\"hello\\\"\"\n",
        "x"
      ]
    },
    {
      "cell_type": "markdown",
      "metadata": {
        "id": "aPUksI_D95nd"
      },
      "source": [
        "# Indentation\n",
        "All statements with the same distance to the right belong to the same block of code, i.e. the statements within a block line up vertically. The block ends at a line less indented or the end of the file. If a block has to be more deeply nested, it is simply indented further to the right."
      ]
    },
    {
      "cell_type": "code",
      "execution_count": null,
      "metadata": {
        "colab": {
          "base_uri": "https://localhost:8080/",
          "height": 216
        },
        "id": "h6BKunr195nd",
        "outputId": "13f13b59-4f29-4b1c-ae2f-14f64695d264"
      },
      "outputs": [
        {
          "output_type": "execute_result",
          "data": {
            "text/html": [
              "<img src=\"https://www.python-course.eu/images/blocks.png\"/>"
            ],
            "text/plain": [
              "<IPython.core.display.Image object>"
            ]
          },
          "metadata": {},
          "execution_count": 25
        }
      ],
      "source": [
        "Image(url= \"https://www.python-course.eu/images/blocks.png\")"
      ]
    },
    {
      "cell_type": "code",
      "execution_count": null,
      "metadata": {
        "colab": {
          "base_uri": "https://localhost:8080/"
        },
        "id": "qdVUb0vd95nd",
        "outputId": "6ea16e28-4c90-4ce4-ff89-cc5c0ca0258f"
      },
      "outputs": [
        {
          "output_type": "stream",
          "name": "stdout",
          "text": [
            "True\n"
          ]
        }
      ],
      "source": [
        "if True:\n",
        "    print('True')\n",
        "else:\n",
        "    print(\"False\")"
      ]
    },
    {
      "cell_type": "code",
      "execution_count": null,
      "metadata": {
        "colab": {
          "base_uri": "https://localhost:8080/"
        },
        "id": "i1LLWZ1M95ne",
        "outputId": "2c22c096-af2d-4fb8-cb2e-c0a1e2e3285c"
      },
      "outputs": [
        {
          "output_type": "stream",
          "name": "stdout",
          "text": [
            "True\n"
          ]
        }
      ],
      "source": [
        "if True:\n",
        "    print('True')\n",
        "else:\n",
        "    print(\"False\")"
      ]
    },
    {
      "cell_type": "markdown",
      "metadata": {
        "id": "RMm0RyOV95ne"
      },
      "source": [
        "# What if you write a very long line of code?\n",
        "break it by \\"
      ]
    },
    {
      "cell_type": "code",
      "execution_count": null,
      "metadata": {
        "colab": {
          "base_uri": "https://localhost:8080/"
        },
        "id": "O-jMnSuT95ne",
        "outputId": "4ca3e266-a8b3-4b4a-d5ee-933c5fe49f77"
      },
      "outputs": [
        {
          "output_type": "stream",
          "name": "stdout",
          "text": [
            "6\n"
          ]
        }
      ],
      "source": [
        "a, b, c = 1, 2, 3\n",
        "totable = a + b + c\n",
        "total = a + \\\n",
        "        b + \\\n",
        "        c\n",
        "# if use ( ), then you don't need \\\n",
        "total = (a+\n",
        "         b+\n",
        "         c)\n",
        "print(total)"
      ]
    },
    {
      "cell_type": "markdown",
      "metadata": {
        "id": "xscGuHjj95nf"
      },
      "source": [
        "in [], {}, or () you don't need \\\n",
        "```\n",
        "name = 'Tom'\n",
        "```"
      ]
    },
    {
      "cell_type": "code",
      "execution_count": null,
      "metadata": {
        "colab": {
          "base_uri": "https://localhost:8080/"
        },
        "id": "ys2owM0h95nf",
        "outputId": "5978bee8-588e-4f7a-ee22-c0bfac50c635"
      },
      "outputs": [
        {
          "output_type": "stream",
          "name": "stdout",
          "text": [
            "['itemone', 'itemtwo', 'itemthree']\n"
          ]
        }
      ],
      "source": [
        "total = ['itemone',\n",
        "         'itemtwo',\n",
        "         'itemthree']\n",
        "print(total)"
      ]
    },
    {
      "cell_type": "code",
      "execution_count": null,
      "metadata": {
        "colab": {
          "base_uri": "https://localhost:8080/"
        },
        "id": "k5pNBmCb95nf",
        "outputId": "7aa35d14-c63a-46db-cb7b-42694cfc42cc"
      },
      "outputs": [
        {
          "output_type": "stream",
          "name": "stdout",
          "text": [
            "wwww\n",
            "ww\tww\n",
            "wwww\\nww\\tww\n"
          ]
        }
      ],
      "source": [
        "what = 'wwww\\nww\\tww'\n",
        "print(what)\n",
        "# raw\n",
        "what = r'wwww\\nww\\tww'\n",
        "print(what)"
      ]
    },
    {
      "cell_type": "markdown",
      "metadata": {
        "id": "jk2PFSCH95nf"
      },
      "source": [
        "### The good news is, most of the modern IDEs can help you reformat code."
      ]
    },
    {
      "cell_type": "markdown",
      "metadata": {
        "id": "WOuDoxdt95nf"
      },
      "source": [
        "# types of number\n",
        "\n",
        "1. int\n",
        "2. bool, True or False\n",
        "3. float, 1.23、3E-2\n",
        "4. complex, 1 + 2j、 1.1 + 2.2j"
      ]
    },
    {
      "cell_type": "code",
      "execution_count": null,
      "metadata": {
        "colab": {
          "base_uri": "https://localhost:8080/"
        },
        "id": "Q4owJQP095nf",
        "outputId": "f1a5d3c8-31a7-4eb7-cdf1-cc288ea88793"
      },
      "outputs": [
        {
          "output_type": "execute_result",
          "data": {
            "text/plain": [
              "int"
            ]
          },
          "metadata": {},
          "execution_count": 31
        }
      ],
      "source": [
        "x=2\n",
        "type(x)"
      ]
    },
    {
      "cell_type": "code",
      "execution_count": null,
      "metadata": {
        "colab": {
          "base_uri": "https://localhost:8080/"
        },
        "id": "qpBSzaUy95nf",
        "outputId": "08be85ec-d135-4f21-a77a-45bcc4e95197"
      },
      "outputs": [
        {
          "output_type": "execute_result",
          "data": {
            "text/plain": [
              "float"
            ]
          },
          "metadata": {},
          "execution_count": 32
        }
      ],
      "source": [
        "x=3.4\n",
        "type(x)"
      ]
    },
    {
      "cell_type": "code",
      "execution_count": null,
      "metadata": {
        "colab": {
          "base_uri": "https://localhost:8080/"
        },
        "id": "T3FjnE4095nf",
        "outputId": "3a9c1fee-d2e8-4c01-f40a-1d39003628c5"
      },
      "outputs": [
        {
          "output_type": "stream",
          "name": "stdout",
          "text": [
            "<class 'bool'>\n",
            "True\n",
            "<class 'int'>\n",
            "2\n",
            "ok\n",
            "<class 'str'>\n"
          ]
        }
      ],
      "source": [
        "isok = True\n",
        "print(type(isok))\n",
        "print(isok)\n",
        "\n",
        "x=2\n",
        "print(type(x))\n",
        "print(x)\n",
        "\n",
        "if isok:\n",
        "    print('ok')\n",
        "\n",
        "x='c'\n",
        "print(type(x))"
      ]
    },
    {
      "cell_type": "code",
      "execution_count": null,
      "metadata": {
        "colab": {
          "base_uri": "https://localhost:8080/"
        },
        "id": "FYypjKae95ng",
        "outputId": "af251d4e-89c7-469c-813e-4548ae564604"
      },
      "outputs": [
        {
          "output_type": "stream",
          "name": "stdout",
          "text": [
            "ok\n",
            "strange\n",
            "not\n"
          ]
        }
      ],
      "source": [
        "# in python, non-zero is True. 0 and None are False\n",
        "is_ok = 1\n",
        "not_ok = 0\n",
        "if is_ok:\n",
        "    print('ok')\n",
        "\n",
        "strange = -1\n",
        "if strange:\n",
        "    print('strange')\n",
        "else:\n",
        "    print('normal')\n",
        "\n",
        "none = None\n",
        "if none:\n",
        "    print('none')\n",
        "else:\n",
        "    print('not')"
      ]
    },
    {
      "cell_type": "markdown",
      "metadata": {
        "id": "H6WIe8rt95ng"
      },
      "source": [
        "# string\n",
        "\n",
        "Strings can be created using single quotes or double quotes or even triple quotes.\n",
        "\n",
        "String in single quotes cannot hold any other single quoted character in it otherwise an error arises because the compiler won’t recognize where to start and end the string.\n",
        "\n",
        "Double quotes is preferred, because it helps in creation of Strings with single quotes in them.\n",
        "\n",
        "For strings which contain Double quoted words in them, use of triple quotes is suggested. Along with this, triple quotes also allow the creation of multiline strings.\n",
        "\n",
        "Python does not have a character data type, a single character is simply a string with a length of 1"
      ]
    },
    {
      "cell_type": "code",
      "execution_count": null,
      "metadata": {
        "colab": {
          "base_uri": "https://localhost:8080/",
          "height": 34
        },
        "id": "AKiVVgrY95ng",
        "outputId": "991bc08a-6399-41bd-f05b-88807d0ce5f3"
      },
      "outputs": [
        {
          "output_type": "execute_result",
          "data": {
            "text/plain": [
              "\"this's good\""
            ],
            "application/vnd.google.colaboratory.intrinsic+json": {
              "type": "string"
            }
          },
          "metadata": {},
          "execution_count": 35
        }
      ],
      "source": [
        "# word = 'this is good'\n",
        "word = 'this\\'s good'\n",
        "word = \"this's good\"\n",
        "word"
      ]
    },
    {
      "cell_type": "code",
      "execution_count": null,
      "metadata": {
        "colab": {
          "base_uri": "https://localhost:8080/"
        },
        "id": "TZkzirj395ng",
        "outputId": "09488559-fb3a-46ba-f3de-8acd033e6c3d"
      },
      "outputs": [
        {
          "output_type": "stream",
          "name": "stdout",
          "text": [
            "this's good\n",
            "This's good\n",
            "\n",
            "hello\n",
            "\"hello\"\n",
            "how's going\n",
            "\n"
          ]
        }
      ],
      "source": [
        "sentence = \"This's good\"\n",
        "paragraph = \"\"\"\n",
        "hello\n",
        "\"hello\"\n",
        "how's going\n",
        "\"\"\"\n",
        "print(word)\n",
        "print(sentence)\n",
        "print(paragraph)"
      ]
    },
    {
      "cell_type": "code",
      "execution_count": null,
      "metadata": {
        "colab": {
          "base_uri": "https://localhost:8080/",
          "height": 34
        },
        "id": "BEKGV2z795ng",
        "outputId": "89af2058-f9ef-492c-d194-1e987fee6ee0"
      },
      "outputs": [
        {
          "output_type": "execute_result",
          "data": {
            "text/plain": [
              "'=================================================='"
            ],
            "application/vnd.google.colaboratory.intrinsic+json": {
              "type": "string"
            }
          },
          "metadata": {},
          "execution_count": 37
        }
      ],
      "source": [
        "# indexing，a : b，slice from a to b-1\n",
        "mystr='='\n",
        "mystr*50"
      ]
    },
    {
      "cell_type": "code",
      "execution_count": null,
      "metadata": {
        "colab": {
          "base_uri": "https://localhost:8080/",
          "height": 34
        },
        "id": "P2NOoDWP95ng",
        "outputId": "bb13760d-04b6-4592-d3cb-a87903cbe2b4"
      },
      "outputs": [
        {
          "output_type": "execute_result",
          "data": {
            "text/plain": [
              "'my number is 8.9'"
            ],
            "application/vnd.google.colaboratory.intrinsic+json": {
              "type": "string"
            }
          },
          "metadata": {},
          "execution_count": 38
        }
      ],
      "source": [
        "x=8.9\n",
        "\"my number is \" + str(x)"
      ]
    },
    {
      "cell_type": "code",
      "execution_count": null,
      "metadata": {
        "scrolled": true,
        "colab": {
          "base_uri": "https://localhost:8080/"
        },
        "id": "xUViQ6om95ng",
        "outputId": "7673933d-ac6d-4c0d-d6b4-fb0a6921772b"
      },
      "outputs": [
        {
          "output_type": "stream",
          "name": "stdout",
          "text": [
            "123456\n",
            "1234\n",
            "1\n",
            "345\n",
            "3456\n",
            "123456123456123456123456123456123456123456123456123456123456\n",
            "123456hello\n",
            "a: hello\n",
            "------------------------------\n",
            "hello\n",
            "runoob\n",
            "hello\\nrunoob\n"
          ]
        }
      ],
      "source": [
        "mystr='123456'\n",
        "print(mystr)                 # print it\n",
        "print(mystr[0:-2])           # -1 means the last char, -2 is the next to last, and so on.\n",
        "print(mystr[0])              # the first char\n",
        "print(mystr[2:5])            # from index 2 to 4\n",
        "print(mystr[2:])             # all starting from the 3rd\n",
        "print(mystr * 10)             # repeat the string 10 times\n",
        "print(mystr + 'hello')        # concatenate strings\n",
        "\n",
        "mystr = \"a: {0}\".format('hello')\n",
        "print(mystr)\n",
        "print('------------------------------')\n",
        "\n",
        "print('hello\\nrunoob')      # \\n is new line\n",
        "print(r'hello\\nrunoob')     # use raw string"
      ]
    },
    {
      "cell_type": "code",
      "execution_count": null,
      "metadata": {
        "colab": {
          "base_uri": "https://localhost:8080/",
          "height": 168
        },
        "id": "TR27bI9995ng",
        "outputId": "bc45e833-eecd-4c8d-bd96-126d2d2f7d6c"
      },
      "outputs": [
        {
          "output_type": "error",
          "ename": "TypeError",
          "evalue": "can't multiply sequence by non-int of type 'float'",
          "traceback": [
            "\u001b[0;31m---------------------------------------------------------------------------\u001b[0m",
            "\u001b[0;31mTypeError\u001b[0m                                 Traceback (most recent call last)",
            "\u001b[0;32m<ipython-input-58-9091d4c54055>\u001b[0m in \u001b[0;36m<cell line: 0>\u001b[0;34m()\u001b[0m\n\u001b[0;32m----> 1\u001b[0;31m \u001b[0;34m'a'\u001b[0m\u001b[0;34m*\u001b[0m\u001b[0;36m5.7\u001b[0m\u001b[0;34m\u001b[0m\u001b[0;34m\u001b[0m\u001b[0m\n\u001b[0m",
            "\u001b[0;31mTypeError\u001b[0m: can't multiply sequence by non-int of type 'float'"
          ]
        }
      ],
      "source": [
        "'a'*5.7"
      ]
    },
    {
      "cell_type": "markdown",
      "metadata": {
        "id": "dzRyKcDO95ng"
      },
      "source": [
        "#### Binary operators and comparisons"
      ]
    },
    {
      "cell_type": "code",
      "execution_count": null,
      "metadata": {
        "colab": {
          "base_uri": "https://localhost:8080/"
        },
        "id": "jggjg1Bt95ng",
        "outputId": "faa7a830-dffb-4809-8265-6f388329b64b"
      },
      "outputs": [
        {
          "output_type": "execute_result",
          "data": {
            "text/plain": [
              "False"
            ]
          },
          "metadata": {},
          "execution_count": 59
        }
      ],
      "source": [
        "5 - 7\n",
        "12 + 21.5\n",
        "5 <= 2"
      ]
    },
    {
      "cell_type": "code",
      "execution_count": null,
      "metadata": {
        "colab": {
          "base_uri": "https://localhost:8080/"
        },
        "id": "hDbA9yZJ95ng",
        "outputId": "2ac6c21c-cf4e-4162-8208-93ba317ce7c8"
      },
      "outputs": [
        {
          "output_type": "execute_result",
          "data": {
            "text/plain": [
              "False"
            ]
          },
          "metadata": {},
          "execution_count": 60
        }
      ],
      "source": [
        "x=[1, 2, 3]\n",
        "y=[1, 2, 3]\n",
        "\n",
        "# x ------------> [1, 2, 3] at address 1\n",
        "# y ------------> [1, 2, 3] at address 2\n",
        "x is y"
      ]
    },
    {
      "cell_type": "code",
      "execution_count": null,
      "metadata": {
        "colab": {
          "base_uri": "https://localhost:8080/"
        },
        "id": "fOaMU7oT95ng",
        "outputId": "c366015d-a4ee-47b9-98e9-3b5afa1c3eaa"
      },
      "outputs": [
        {
          "output_type": "execute_result",
          "data": {
            "text/plain": [
              "True"
            ]
          },
          "metadata": {},
          "execution_count": 61
        }
      ],
      "source": [
        "x==y"
      ]
    },
    {
      "cell_type": "code",
      "execution_count": null,
      "metadata": {
        "colab": {
          "base_uri": "https://localhost:8080/"
        },
        "id": "uxLGWry695ng",
        "outputId": "92f6e6b8-970f-4987-bec2-1cfd446c0083"
      },
      "outputs": [
        {
          "output_type": "execute_result",
          "data": {
            "text/plain": [
              "True"
            ]
          },
          "metadata": {},
          "execution_count": 62
        }
      ],
      "source": [
        "x=2\n",
        "y=2\n",
        "\n",
        "#   x -----> 2  <------y\n",
        "x is y"
      ]
    },
    {
      "cell_type": "code",
      "execution_count": null,
      "metadata": {
        "colab": {
          "base_uri": "https://localhost:8080/"
        },
        "id": "D7g0m_qN95nh",
        "outputId": "4214109a-142f-40a7-c8e4-ec145455d82c"
      },
      "outputs": [
        {
          "output_type": "execute_result",
          "data": {
            "text/plain": [
              "False"
            ]
          },
          "metadata": {},
          "execution_count": 63
        }
      ],
      "source": [
        "y=3\n",
        "x is y\n",
        "\n",
        "# #   x -----> 2     y -----> 3"
      ]
    },
    {
      "cell_type": "code",
      "execution_count": null,
      "metadata": {
        "colab": {
          "base_uri": "https://localhost:8080/"
        },
        "id": "HXpcEILn95nh",
        "outputId": "6260e52b-ef29-4c2d-e1b8-b7b4602ba240"
      },
      "outputs": [
        {
          "output_type": "execute_result",
          "data": {
            "text/plain": [
              "False"
            ]
          },
          "metadata": {},
          "execution_count": 65
        }
      ],
      "source": [
        "x==y"
      ]
    },
    {
      "cell_type": "code",
      "execution_count": null,
      "metadata": {
        "colab": {
          "base_uri": "https://localhost:8080/"
        },
        "id": "yt0tu8Iq95nh",
        "outputId": "2dbb61eb-27c5-4e7f-b81c-98676b235357"
      },
      "outputs": [
        {
          "output_type": "stream",
          "name": "stdout",
          "text": [
            "True\n",
            "False\n"
          ]
        }
      ],
      "source": [
        "a = [1, 2, 3]\n",
        "b = a\n",
        "c = list(a)\n",
        "print(a is b)\n",
        "print(a is c) #compare the memory address"
      ]
    },
    {
      "cell_type": "code",
      "execution_count": null,
      "metadata": {
        "colab": {
          "base_uri": "https://localhost:8080/"
        },
        "id": "D8LweKQ_95nh",
        "outputId": "953f0033-1c45-4403-bf26-cfd17bf3879c"
      },
      "outputs": [
        {
          "output_type": "execute_result",
          "data": {
            "text/plain": [
              "True"
            ]
          },
          "metadata": {},
          "execution_count": 67
        }
      ],
      "source": [
        "a == c  #compare the values"
      ]
    },
    {
      "cell_type": "code",
      "execution_count": null,
      "metadata": {
        "colab": {
          "base_uri": "https://localhost:8080/"
        },
        "id": "pkCyVnyp95nh",
        "outputId": "c2d4355b-73dd-4668-a1ab-441f8bbd0f4a"
      },
      "outputs": [
        {
          "output_type": "execute_result",
          "data": {
            "text/plain": [
              "True"
            ]
          },
          "metadata": {},
          "execution_count": 68
        }
      ],
      "source": [
        "a = None\n",
        "b = None\n",
        "a is b"
      ]
    },
    {
      "cell_type": "markdown",
      "metadata": {
        "id": "qkuum4BQ95nh"
      },
      "source": [
        "#### Mutable and immutable objects"
      ]
    },
    {
      "cell_type": "code",
      "execution_count": null,
      "metadata": {
        "colab": {
          "base_uri": "https://localhost:8080/"
        },
        "id": "iMXIDNb095nh",
        "outputId": "0c6560ee-4baa-4fac-9c90-ec07dc9ea655"
      },
      "outputs": [
        {
          "output_type": "execute_result",
          "data": {
            "text/plain": [
              "['foo', 2, (3, 4)]"
            ]
          },
          "metadata": {},
          "execution_count": 69
        }
      ],
      "source": [
        "a_list = ['foo', 2, [4, 5]]\n",
        "a_list[2] = (3, 4)\n",
        "a_list"
      ]
    },
    {
      "cell_type": "code",
      "execution_count": null,
      "metadata": {
        "colab": {
          "base_uri": "https://localhost:8080/",
          "height": 184
        },
        "id": "nwVgHTiQ95nh",
        "outputId": "badc1136-8343-482a-b286-d3d436bb71cd"
      },
      "outputs": [
        {
          "output_type": "error",
          "ename": "TypeError",
          "evalue": "'tuple' object does not support item assignment",
          "traceback": [
            "\u001b[0;31m---------------------------------------------------------------------------\u001b[0m",
            "\u001b[0;31mTypeError\u001b[0m                                 Traceback (most recent call last)",
            "\u001b[0;32m<ipython-input-70-2c9bddc8679c>\u001b[0m in \u001b[0;36m<cell line: 0>\u001b[0;34m()\u001b[0m\n\u001b[1;32m      1\u001b[0m \u001b[0ma_tuple\u001b[0m \u001b[0;34m=\u001b[0m \u001b[0;34m(\u001b[0m\u001b[0;36m3\u001b[0m\u001b[0;34m,\u001b[0m \u001b[0;36m5\u001b[0m\u001b[0;34m,\u001b[0m \u001b[0;34m(\u001b[0m\u001b[0;36m4\u001b[0m\u001b[0;34m,\u001b[0m \u001b[0;36m5\u001b[0m\u001b[0;34m)\u001b[0m\u001b[0;34m)\u001b[0m\u001b[0;34m\u001b[0m\u001b[0;34m\u001b[0m\u001b[0m\n\u001b[0;32m----> 2\u001b[0;31m \u001b[0ma_tuple\u001b[0m\u001b[0;34m[\u001b[0m\u001b[0;36m1\u001b[0m\u001b[0;34m]\u001b[0m \u001b[0;34m=\u001b[0m \u001b[0;34m'four'\u001b[0m\u001b[0;34m\u001b[0m\u001b[0;34m\u001b[0m\u001b[0m\n\u001b[0m",
            "\u001b[0;31mTypeError\u001b[0m: 'tuple' object does not support item assignment"
          ]
        }
      ],
      "source": [
        "a_tuple = (3, 5, (4, 5))\n",
        "a_tuple[1] = 'four'"
      ]
    },
    {
      "cell_type": "markdown",
      "metadata": {
        "id": "c9H1zBHC95nh"
      },
      "source": [
        "### Scalar Types"
      ]
    },
    {
      "cell_type": "markdown",
      "metadata": {
        "id": "663nPybg95ni"
      },
      "source": [
        "#### Numeric types"
      ]
    },
    {
      "cell_type": "code",
      "execution_count": null,
      "metadata": {
        "colab": {
          "base_uri": "https://localhost:8080/"
        },
        "id": "aa4zD0Li95ni",
        "outputId": "5cbbfaea-c199-41e2-81ac-62d849be9b6a"
      },
      "outputs": [
        {
          "output_type": "execute_result",
          "data": {
            "text/plain": [
              "4501955341022038108275559824081901248200602347154284947559058317826595688781079603189522930806934795033769015163261104729024795603266239367649278801844811506725414634247400597491396165462720155908195727989687411182876647134402836769914617104804390003085937226825526078721170879428093199397255022894780513605397694281691445707165556091537413911279085995342578225854617994005799421979106913620211940516130440221637530263988628867208499074426329679803724317011961095984841222819810707950637459564080111472493568227708377343522505126017494584247908230953845935401397833508048529968999953435242101196280778602770006574038568941738016494797765870006012191238789683470869042255832257117627905287451806925747724877840032152608992001"
            ]
          },
          "metadata": {},
          "execution_count": 71
        }
      ],
      "source": [
        "ival = 17239871\n",
        "ival ** 100"
      ]
    },
    {
      "cell_type": "code",
      "execution_count": null,
      "metadata": {
        "id": "s6VVU2pk95ni"
      },
      "outputs": [],
      "source": [
        "fval = 7.243\n",
        "fval2 = 6.78e-5"
      ]
    },
    {
      "cell_type": "code",
      "execution_count": null,
      "metadata": {
        "colab": {
          "base_uri": "https://localhost:8080/"
        },
        "id": "wYicn7vu95ni",
        "outputId": "398e3f0e-a05d-4bcf-f2bd-c9e2259fa968"
      },
      "outputs": [
        {
          "output_type": "execute_result",
          "data": {
            "text/plain": [
              "1.5"
            ]
          },
          "metadata": {},
          "execution_count": 73
        }
      ],
      "source": [
        "3 / 2 # in python 2, it will be different 3/2 gets 1"
      ]
    },
    {
      "cell_type": "code",
      "execution_count": null,
      "metadata": {
        "colab": {
          "base_uri": "https://localhost:8080/"
        },
        "id": "RtTKth3o95ni",
        "outputId": "8bce596e-d0b2-416b-82a7-2c996c2edd66"
      },
      "outputs": [
        {
          "output_type": "execute_result",
          "data": {
            "text/plain": [
              "1"
            ]
          },
          "metadata": {},
          "execution_count": 74
        }
      ],
      "source": [
        "3 // 2"
      ]
    },
    {
      "cell_type": "code",
      "execution_count": null,
      "metadata": {
        "colab": {
          "base_uri": "https://localhost:8080/"
        },
        "id": "SUMG6hRC95ni",
        "outputId": "96a13ec1-c80c-4f4b-fae2-d6f41dbda56d"
      },
      "outputs": [
        {
          "output_type": "execute_result",
          "data": {
            "text/plain": [
              "2.7142857142857144"
            ]
          },
          "metadata": {},
          "execution_count": 75
        }
      ],
      "source": [
        "19/7"
      ]
    },
    {
      "cell_type": "code",
      "execution_count": null,
      "metadata": {
        "colab": {
          "base_uri": "https://localhost:8080/"
        },
        "id": "GLFAt0M295ni",
        "outputId": "2cd25c49-b305-44bb-e734-ad8992fe42c2"
      },
      "outputs": [
        {
          "output_type": "execute_result",
          "data": {
            "text/plain": [
              "2"
            ]
          },
          "metadata": {},
          "execution_count": 76
        }
      ],
      "source": [
        "19//7"
      ]
    },
    {
      "cell_type": "markdown",
      "metadata": {
        "id": "22sZ6Shx95ni"
      },
      "source": [
        "#### Dates and times"
      ]
    },
    {
      "cell_type": "code",
      "execution_count": null,
      "metadata": {
        "colab": {
          "base_uri": "https://localhost:8080/"
        },
        "id": "K4F2AWGH95ni",
        "outputId": "98b499e7-1f3e-41df-c793-ad2b97efd949"
      },
      "outputs": [
        {
          "output_type": "execute_result",
          "data": {
            "text/plain": [
              "30"
            ]
          },
          "metadata": {},
          "execution_count": 77
        }
      ],
      "source": [
        "from datetime import datetime, date, time\n",
        "dt = datetime(2011, 10, 29, 20, 30, 21)\n",
        "dt.day\n",
        "dt.minute"
      ]
    },
    {
      "cell_type": "code",
      "execution_count": null,
      "metadata": {
        "colab": {
          "base_uri": "https://localhost:8080/"
        },
        "id": "r5zoYrcm95ni",
        "outputId": "60bc261e-e9d4-427d-e7ef-d3969c02ef0a"
      },
      "outputs": [
        {
          "output_type": "execute_result",
          "data": {
            "text/plain": [
              "datetime.time(20, 30, 21)"
            ]
          },
          "metadata": {},
          "execution_count": 78
        }
      ],
      "source": [
        "dt.date()\n",
        "dt.time()"
      ]
    },
    {
      "cell_type": "code",
      "execution_count": null,
      "metadata": {
        "colab": {
          "base_uri": "https://localhost:8080/",
          "height": 34
        },
        "id": "zgUg2gds95ni",
        "outputId": "b1f195c4-e9e0-4911-c72e-9f2933d6e52f"
      },
      "outputs": [
        {
          "output_type": "execute_result",
          "data": {
            "text/plain": [
              "'10/29/2011 20:30'"
            ],
            "application/vnd.google.colaboratory.intrinsic+json": {
              "type": "string"
            }
          },
          "metadata": {},
          "execution_count": 79
        }
      ],
      "source": [
        "dt.strftime('%m/%d/%Y %H:%M')"
      ]
    },
    {
      "cell_type": "code",
      "execution_count": null,
      "metadata": {
        "colab": {
          "base_uri": "https://localhost:8080/"
        },
        "id": "ttRHbNat95ni",
        "outputId": "0c3563c6-c889-4e10-f514-2e7394a6e592"
      },
      "outputs": [
        {
          "output_type": "execute_result",
          "data": {
            "text/plain": [
              "datetime.datetime(2009, 10, 31, 0, 0)"
            ]
          },
          "metadata": {},
          "execution_count": 80
        }
      ],
      "source": [
        "datetime.strptime('20091031', '%Y%m%d')"
      ]
    },
    {
      "cell_type": "code",
      "execution_count": null,
      "metadata": {
        "colab": {
          "base_uri": "https://localhost:8080/"
        },
        "id": "IdmxkdKC95ni",
        "outputId": "d79b9be7-f9b0-4ddc-eb2b-3574fcfcf58d"
      },
      "outputs": [
        {
          "output_type": "execute_result",
          "data": {
            "text/plain": [
              "datetime.datetime(2011, 10, 29, 20, 0)"
            ]
          },
          "metadata": {},
          "execution_count": 81
        }
      ],
      "source": [
        "dt.replace(minute=0, second=0)"
      ]
    },
    {
      "cell_type": "code",
      "execution_count": null,
      "metadata": {
        "colab": {
          "base_uri": "https://localhost:8080/"
        },
        "id": "Z5PESvhR95ni",
        "outputId": "68854755-8d2e-4d8a-9a91-fa5ec64cc0ed"
      },
      "outputs": [
        {
          "output_type": "stream",
          "name": "stdout",
          "text": [
            "17 days, 1:59:39\n",
            "<class 'datetime.timedelta'>\n"
          ]
        }
      ],
      "source": [
        "dt2 = datetime(2011, 11, 15, 22, 30)\n",
        "delta = dt2 - dt\n",
        "print(delta)\n",
        "print(type(delta))"
      ]
    },
    {
      "cell_type": "code",
      "execution_count": null,
      "metadata": {
        "colab": {
          "base_uri": "https://localhost:8080/"
        },
        "id": "OJUV7vSh95nj",
        "outputId": "c614aea1-3a6b-4a9b-d5d2-365f0ed28215"
      },
      "outputs": [
        {
          "output_type": "execute_result",
          "data": {
            "text/plain": [
              "datetime.datetime(2011, 11, 15, 22, 30)"
            ]
          },
          "metadata": {},
          "execution_count": 83
        }
      ],
      "source": [
        "dt\n",
        "dt + delta"
      ]
    },
    {
      "cell_type": "markdown",
      "metadata": {
        "id": "jsxW9bJB95nj"
      },
      "source": [
        "# Multiple statements in one line, seperated by ;"
      ]
    },
    {
      "cell_type": "code",
      "execution_count": null,
      "metadata": {
        "colab": {
          "base_uri": "https://localhost:8080/"
        },
        "id": "2MCPtnv095nj",
        "outputId": "752bd3bc-159a-47c7-c358-74dd7ac08300"
      },
      "outputs": [
        {
          "output_type": "stream",
          "name": "stdout",
          "text": [
            "test\n"
          ]
        },
        {
          "output_type": "execute_result",
          "data": {
            "text/plain": [
              "5"
            ]
          },
          "metadata": {},
          "execution_count": 84
        }
      ],
      "source": [
        "import sys; x = 'test'; sys.stdout.write(x + '\\n')"
      ]
    },
    {
      "cell_type": "markdown",
      "metadata": {
        "id": "tCBKparE95nj"
      },
      "source": [
        "# Control flow"
      ]
    },
    {
      "cell_type": "code",
      "execution_count": null,
      "metadata": {
        "colab": {
          "base_uri": "https://localhost:8080/"
        },
        "id": "3Ubm0Zsz95nj",
        "outputId": "2873c41b-2a86-401d-ecc1-4716a0349923"
      },
      "outputs": [
        {
          "output_type": "stream",
          "name": "stdout",
          "text": [
            "False\n",
            "True\n",
            "20 > 0\n"
          ]
        }
      ],
      "source": [
        "condition1 = 0 > 20\n",
        "condition2 = 20 > 0\n",
        "print(condition1)\n",
        "print(condition2)\n",
        "if condition1 :\n",
        "    print('0 > 20')\n",
        "elif condition2 :\n",
        "    print('20 > 0')\n",
        "else :\n",
        "    print('no result')"
      ]
    },
    {
      "cell_type": "code",
      "execution_count": null,
      "metadata": {
        "colab": {
          "base_uri": "https://localhost:8080/"
        },
        "id": "NpIXPENP95nj",
        "outputId": "63ba883e-3135-48ac-9245-6e13875776bf"
      },
      "outputs": [
        {
          "output_type": "stream",
          "name": "stdout",
          "text": [
            "(0, 0)\n",
            "(1, 0)\n",
            "(1, 1)\n",
            "(2, 0)\n",
            "(2, 1)\n",
            "(2, 2)\n",
            "(3, 0)\n",
            "(3, 1)\n",
            "(3, 2)\n",
            "(3, 3)\n"
          ]
        }
      ],
      "source": [
        "for i in range(4):\n",
        "    for j in range(4):\n",
        "        if j > i:\n",
        "            break\n",
        "        print((i, j))"
      ]
    },
    {
      "cell_type": "markdown",
      "metadata": {
        "id": "iAMmMlQ795nj"
      },
      "source": [
        "# print\n",
        "print always prints new line at the end by default，<font color='red'>You can change it by end=\"\"</font>"
      ]
    },
    {
      "cell_type": "code",
      "execution_count": null,
      "metadata": {
        "colab": {
          "base_uri": "https://localhost:8080/"
        },
        "id": "3-QhmMHQ95nj",
        "outputId": "c61279ff-24ad-48ca-e3ad-06f554f0a73c"
      },
      "outputs": [
        {
          "output_type": "stream",
          "name": "stdout",
          "text": [
            "a\n",
            "b\n",
            "---------\n",
            "ab#####\n",
            "a b\n",
            "a b\n"
          ]
        }
      ],
      "source": [
        "x=\"a\"\n",
        "y=\"b\"\n",
        "# print new line at end\n",
        "print( x )\n",
        "print( y )\n",
        "\n",
        "print('---------')\n",
        "# no new line at end\n",
        "print( x, end=\"\" )\n",
        "print( y, end=\"\" )\n",
        "print('#####')\n",
        "print(x, y)\n",
        "print('{0} {1}'.format(x, y)) # string template"
      ]
    },
    {
      "cell_type": "code",
      "execution_count": null,
      "metadata": {
        "colab": {
          "base_uri": "https://localhost:8080/"
        },
        "id": "d8vt4Z9195nj",
        "outputId": "910e7590-ad74-457d-8d91-136428ea93a1"
      },
      "outputs": [
        {
          "output_type": "stream",
          "name": "stdout",
          "text": [
            "Hello david li. How are you?\n"
          ]
        }
      ],
      "source": [
        "first_name='david'\n",
        "last_name='li'\n",
        "greeting='Hello {0} {1}. How are you?'.format(first_name, last_name)\n",
        "print(greeting)"
      ]
    },
    {
      "cell_type": "code",
      "execution_count": null,
      "metadata": {
        "colab": {
          "base_uri": "https://localhost:8080/"
        },
        "id": "HBnwiVEE95nj",
        "outputId": "fed92c1a-0c35-44a5-b14d-2851059647c0"
      },
      "outputs": [
        {
          "output_type": "stream",
          "name": "stdout",
          "text": [
            "Hello david li. How are you?\n"
          ]
        }
      ],
      "source": [
        "greeting='Hello '+first_name+ ' ' +last_name+\". How are you?\"\n",
        "print(greeting)"
      ]
    },
    {
      "cell_type": "markdown",
      "metadata": {
        "id": "_c2ixlGO95nj"
      },
      "source": [
        "# import and from...import\n",
        "1. import or from...import\n",
        "2. import somemodule\n",
        "3. from somemodule import somefunction\n",
        "4. from somemodule import firstfunc, secondfunc, thirdfunc\n",
        "5. from somemodule import *\n",
        "6. give a short name for Numpy, Pandas,\n",
        "```\n",
        "import numpy as np\n",
        "import pandas as pd\n",
        "```\n",
        "7. some ML libraries have too many modules, so use \"from...import\" is prefered：\n",
        "```\n",
        "from sklearn.ensemble import RandomForestClassifier, GradientBoostingClassifier\n",
        "```"
      ]
    },
    {
      "cell_type": "code",
      "execution_count": null,
      "metadata": {
        "id": "HNeSV12t95nj"
      },
      "outputs": [],
      "source": [
        "import numpy as np\n",
        "np.random.seed(12345)\n",
        "np.set_printoptions(precision=4, suppress=True)"
      ]
    },
    {
      "cell_type": "code",
      "execution_count": null,
      "metadata": {
        "colab": {
          "base_uri": "https://localhost:8080/"
        },
        "id": "iVKaxccy95nj",
        "outputId": "fc201899-39e0-4aee-e8d7-d12740e1862c"
      },
      "outputs": [
        {
          "output_type": "execute_result",
          "data": {
            "text/plain": [
              "{0: -0.20470765948471295,\n",
              " 1: 0.47894333805754824,\n",
              " 2: -0.5194387150567381,\n",
              " 3: -0.55573030434749,\n",
              " 4: 1.9657805725027142,\n",
              " 5: 1.3934058329729904,\n",
              " 6: 0.09290787674371767}"
            ]
          },
          "metadata": {},
          "execution_count": 92
        }
      ],
      "source": [
        "import numpy as np\n",
        "data = {i : np.random.randn() for i in range(7)}\n",
        "data"
      ]
    },
    {
      "cell_type": "code",
      "execution_count": null,
      "metadata": {
        "colab": {
          "base_uri": "https://localhost:8080/"
        },
        "id": "yYcpeAkn95nj",
        "outputId": "385d2f99-0979-40a3-a4d8-514c05d0208d"
      },
      "outputs": [
        {
          "output_type": "execute_result",
          "data": {
            "text/plain": [
              "[0.2817461528302025,\n",
              " 0.7690225676118387,\n",
              " 1.2464347363862822,\n",
              " 1.0071893575830049,\n",
              " -1.2962211091122635,\n",
              " 0.274991633432124,\n",
              " 0.22891287893531592]"
            ]
          },
          "metadata": {},
          "execution_count": 93
        }
      ],
      "source": [
        "[np.random.randn() for i in range(7)]"
      ]
    },
    {
      "cell_type": "code",
      "execution_count": null,
      "metadata": {
        "colab": {
          "base_uri": "https://localhost:8080/"
        },
        "id": "hzY0N7DO95nj",
        "outputId": "1daaf52c-0687-490d-ead5-0507f5cb5889"
      },
      "outputs": [
        {
          "output_type": "execute_result",
          "data": {
            "text/plain": [
              "[0, 1, 4, 9, 16, 25, 36]"
            ]
          },
          "metadata": {},
          "execution_count": 94
        }
      ],
      "source": [
        "[i*i for i in range(7)]"
      ]
    },
    {
      "cell_type": "markdown",
      "metadata": {
        "id": "B5zSe7CN95nj"
      },
      "source": [
        "#### Variables and argument passing"
      ]
    },
    {
      "cell_type": "code",
      "execution_count": null,
      "metadata": {
        "scrolled": true,
        "colab": {
          "base_uri": "https://localhost:8080/"
        },
        "id": "4GHMyCaD95nk",
        "outputId": "25756ae7-0bfb-47f9-d33b-07f877ee531a"
      },
      "outputs": [
        {
          "output_type": "stream",
          "name": "stdout",
          "text": [
            "[['aaa', 'bbb', 'werer']]\n",
            "[['aaa', 'bbb', 'werer'], ['bb', 'cc', 'www']]\n"
          ]
        }
      ],
      "source": [
        "a = []\n",
        "a.append(['aaa', 'bbb', 'werer'])\n",
        "print(a)\n",
        "a.append(['bb', 'cc', 'www'])\n",
        "print(a)"
      ]
    },
    {
      "cell_type": "code",
      "execution_count": null,
      "metadata": {
        "colab": {
          "base_uri": "https://localhost:8080/"
        },
        "id": "PZq0lvwd95nk",
        "outputId": "d6168fae-29a1-481e-aa47-0941c8a24fe7"
      },
      "outputs": [
        {
          "output_type": "stream",
          "name": "stdout",
          "text": [
            "['aaa', 'bbb', 'werer']\n",
            "['aaa', 'bbb', 'werer', 'bb', 'cc', 'www']\n"
          ]
        }
      ],
      "source": [
        "a = []\n",
        "a.extend(['aaa', 'bbb', 'werer'])\n",
        "print(a)\n",
        "a.extend(['bb', 'cc', 'www'])\n",
        "print(a)"
      ]
    },
    {
      "cell_type": "code",
      "execution_count": null,
      "metadata": {
        "id": "NrQN9FXl95nk"
      },
      "outputs": [],
      "source": [
        "a = [1, 2, 3]"
      ]
    },
    {
      "cell_type": "code",
      "execution_count": null,
      "metadata": {
        "id": "d-B-GhH195nk"
      },
      "outputs": [],
      "source": [
        "b = a"
      ]
    },
    {
      "cell_type": "code",
      "execution_count": null,
      "metadata": {
        "colab": {
          "base_uri": "https://localhost:8080/"
        },
        "id": "_rf9nNKm95nk",
        "outputId": "87413541-0616-4afe-eb7f-b44f137fe6c0"
      },
      "outputs": [
        {
          "output_type": "execute_result",
          "data": {
            "text/plain": [
              "[1, 2, 3, 4]"
            ]
          },
          "metadata": {},
          "execution_count": 99
        }
      ],
      "source": [
        "a.append(4)\n",
        "b"
      ]
    },
    {
      "cell_type": "code",
      "execution_count": null,
      "metadata": {
        "id": "yfEAIGcl95nk"
      },
      "outputs": [],
      "source": [
        "def append_element(some_list, element):\n",
        "    some_list.append(element)"
      ]
    },
    {
      "cell_type": "code",
      "execution_count": null,
      "metadata": {
        "colab": {
          "base_uri": "https://localhost:8080/"
        },
        "id": "L5HLPfat95nk",
        "outputId": "1af50128-f09d-443f-9bf2-30b24ba5259e"
      },
      "outputs": [
        {
          "output_type": "execute_result",
          "data": {
            "text/plain": [
              "[1, 2, 3, 4]"
            ]
          },
          "metadata": {},
          "execution_count": 101
        }
      ],
      "source": [
        "data = [1, 2, 3]\n",
        "append_element(data, 4)\n",
        "data"
      ]
    },
    {
      "cell_type": "code",
      "execution_count": null,
      "metadata": {
        "colab": {
          "base_uri": "https://localhost:8080/"
        },
        "id": "yyo_M1LM95nk",
        "outputId": "40061bf7-5494-48e8-c8fc-08173d62e50b"
      },
      "outputs": [
        {
          "output_type": "execute_result",
          "data": {
            "text/plain": [
              "8"
            ]
          },
          "metadata": {},
          "execution_count": 102
        }
      ],
      "source": [
        "def add_element(x, element):\n",
        "    x=x+element\n",
        "    # allocate address and put 9 over there then forget\n",
        "\n",
        "x=8\n",
        "add_element(x, 1)\n",
        "x"
      ]
    },
    {
      "cell_type": "markdown",
      "metadata": {
        "id": "WLhuLTZ795nk"
      },
      "source": [
        "#### Dynamic references, strong types"
      ]
    },
    {
      "cell_type": "code",
      "execution_count": null,
      "metadata": {
        "colab": {
          "base_uri": "https://localhost:8080/"
        },
        "id": "Xqk5NNKb95nk",
        "outputId": "b0bddb26-3aeb-430c-dfb8-7d41f2d5e2d6"
      },
      "outputs": [
        {
          "output_type": "stream",
          "name": "stdout",
          "text": [
            "<class 'int'>\n",
            "<class 'str'>\n"
          ]
        }
      ],
      "source": [
        "a = 5\n",
        "print(type(a))\n",
        "a = 'foo'\n",
        "print(type(a))"
      ]
    },
    {
      "cell_type": "code",
      "execution_count": null,
      "metadata": {
        "id": "mvvbb_9n95nk"
      },
      "outputs": [],
      "source": [
        "int_a=5\n",
        "str_a='foo'\n",
        "\n",
        "int_a=\"foo\""
      ]
    },
    {
      "cell_type": "code",
      "execution_count": null,
      "metadata": {
        "colab": {
          "base_uri": "https://localhost:8080/",
          "height": 34
        },
        "id": "X66Phfiz95nk",
        "outputId": "676b52f4-caf9-4791-be10-80a2f53ad61d"
      },
      "outputs": [
        {
          "output_type": "execute_result",
          "data": {
            "text/plain": [
              "'result is 5'"
            ],
            "application/vnd.google.colaboratory.intrinsic+json": {
              "type": "string"
            }
          },
          "metadata": {},
          "execution_count": 105
        }
      ],
      "source": [
        "# javascript can do it\n",
        "'result is ' + str(5)"
      ]
    },
    {
      "cell_type": "code",
      "execution_count": null,
      "metadata": {
        "colab": {
          "base_uri": "https://localhost:8080/"
        },
        "id": "EURfplz895nk",
        "outputId": "d009e336-90db-4ba1-9100-8b9749e9f759"
      },
      "outputs": [
        {
          "output_type": "stream",
          "name": "stdout",
          "text": [
            "a is <class 'float'>, b is <class 'int'>\n"
          ]
        },
        {
          "output_type": "execute_result",
          "data": {
            "text/plain": [
              "2.25"
            ]
          },
          "metadata": {},
          "execution_count": 106
        }
      ],
      "source": [
        "a = 4.5\n",
        "b = 2\n",
        "# String formatting, to be visited later\n",
        "print('a is {0}, b is {1}'.format(type(a), type(b)))\n",
        "a / b"
      ]
    },
    {
      "cell_type": "code",
      "execution_count": null,
      "metadata": {
        "colab": {
          "base_uri": "https://localhost:8080/"
        },
        "id": "iv-mizT895nk",
        "outputId": "94e3b819-8f6f-4f0a-da7d-467e17de09f3"
      },
      "outputs": [
        {
          "output_type": "execute_result",
          "data": {
            "text/plain": [
              "True"
            ]
          },
          "metadata": {},
          "execution_count": 107
        }
      ],
      "source": [
        "a = 5\n",
        "isinstance(a, int)"
      ]
    },
    {
      "cell_type": "code",
      "execution_count": null,
      "metadata": {
        "colab": {
          "base_uri": "https://localhost:8080/"
        },
        "id": "z6Oqyv5f95nk",
        "outputId": "36fa6bf8-e266-4dc5-e508-d10f4671415c"
      },
      "outputs": [
        {
          "output_type": "execute_result",
          "data": {
            "text/plain": [
              "True"
            ]
          },
          "metadata": {},
          "execution_count": 108
        }
      ],
      "source": [
        "a = 5\n",
        "isinstance(a, (int, float))"
      ]
    },
    {
      "cell_type": "code",
      "execution_count": null,
      "metadata": {
        "colab": {
          "base_uri": "https://localhost:8080/"
        },
        "id": "qn6rNADs95nk",
        "outputId": "194b1aa1-d635-40a3-de10-17e9795765f9"
      },
      "outputs": [
        {
          "output_type": "execute_result",
          "data": {
            "text/plain": [
              "True"
            ]
          },
          "metadata": {},
          "execution_count": 109
        }
      ],
      "source": [
        "b = 4.5\n",
        "isinstance(b, (int, float))"
      ]
    },
    {
      "cell_type": "markdown",
      "metadata": {
        "id": "XwBtn7q-95nk"
      },
      "source": [
        "#### Attributes and methods"
      ]
    },
    {
      "cell_type": "markdown",
      "metadata": {
        "id": "UsporbRv95nk"
      },
      "source": [
        "```python\n",
        "In [1]: a = 'foo'\n",
        "\n",
        "In [2]: a.<Press Tab>\n",
        "a.capitalize  a.format      a.isupper     a.rindex      a.strip\n",
        "a.center      a.index       a.join        a.rjust       a.swapcase\n",
        "a.count       a.isalnum     a.ljust       a.rpartition  a.title\n",
        "a.decode      a.isalpha     a.lower       a.rsplit      a.translate\n",
        "a.encode      a.isdigit     a.lstrip      a.rstrip      a.upper\n",
        "a.endswith    a.islower     a.partition   a.split       a.zfill\n",
        "a.expandtabs  a.isspace     a.replace     a.splitlines\n",
        "a.find        a.istitle     a.rfind       a.startswith\n",
        "```"
      ]
    },
    {
      "cell_type": "code",
      "execution_count": null,
      "metadata": {
        "colab": {
          "base_uri": "https://localhost:8080/",
          "height": 34
        },
        "id": "vDgAPZGU95nl",
        "outputId": "556ae135-fd2c-4ad7-9b1a-79b488533518"
      },
      "outputs": [
        {
          "output_type": "execute_result",
          "data": {
            "text/plain": [
              "'FOO'"
            ],
            "application/vnd.google.colaboratory.intrinsic+json": {
              "type": "string"
            }
          },
          "metadata": {},
          "execution_count": 110
        }
      ],
      "source": [
        "a = 'foo'\n",
        "a.upper()"
      ]
    },
    {
      "cell_type": "code",
      "execution_count": null,
      "metadata": {
        "colab": {
          "base_uri": "https://localhost:8080/",
          "height": 34
        },
        "id": "WTIirtl095nl",
        "outputId": "dd4c1caf-42bd-446c-f648-c79798f5e865"
      },
      "outputs": [
        {
          "output_type": "execute_result",
          "data": {
            "text/plain": [
              "'FOO'"
            ],
            "application/vnd.google.colaboratory.intrinsic+json": {
              "type": "string"
            }
          },
          "metadata": {},
          "execution_count": 111
        }
      ],
      "source": [
        "getattr(a, \"upper\")()"
      ]
    },
    {
      "cell_type": "code",
      "execution_count": null,
      "metadata": {
        "colab": {
          "base_uri": "https://localhost:8080/"
        },
        "id": "lXCJMA5295nl",
        "outputId": "0329c829-00dc-4ac5-b72f-d4352c0c11b7"
      },
      "outputs": [
        {
          "output_type": "execute_result",
          "data": {
            "text/plain": [
              "<function str.split(sep=None, maxsplit=-1)>"
            ]
          },
          "metadata": {},
          "execution_count": 112
        }
      ],
      "source": [
        "getattr(a, 'split')"
      ]
    },
    {
      "cell_type": "markdown",
      "metadata": {
        "id": "2QZf8OxB95nl"
      },
      "source": [
        "#### range"
      ]
    },
    {
      "cell_type": "code",
      "execution_count": null,
      "metadata": {
        "colab": {
          "base_uri": "https://localhost:8080/"
        },
        "id": "xZXmB4Ms95nl",
        "outputId": "42efe88f-e3c2-4932-ca50-2c12f4d7b3ca"
      },
      "outputs": [
        {
          "output_type": "execute_result",
          "data": {
            "text/plain": [
              "range(0, 100)"
            ]
          },
          "metadata": {},
          "execution_count": 113
        }
      ],
      "source": [
        "range(100)"
      ]
    },
    {
      "cell_type": "code",
      "execution_count": null,
      "metadata": {
        "colab": {
          "base_uri": "https://localhost:8080/"
        },
        "id": "9lHMsLPV95nl",
        "outputId": "29c6b36d-c143-4d52-ea55-ce251f1a717a"
      },
      "outputs": [
        {
          "output_type": "stream",
          "name": "stdout",
          "text": [
            "0\n",
            "1\n",
            "2\n",
            "3\n",
            "4\n",
            "5\n",
            "6\n",
            "7\n",
            "8\n",
            "9\n"
          ]
        }
      ],
      "source": [
        "for i in range(10):\n",
        "    print(i)"
      ]
    },
    {
      "cell_type": "code",
      "execution_count": null,
      "metadata": {
        "colab": {
          "base_uri": "https://localhost:8080/"
        },
        "id": "81QqZx1u95nl",
        "outputId": "4bf96f1e-2858-4822-e5db-2f0dc46acb4d"
      },
      "outputs": [
        {
          "output_type": "execute_result",
          "data": {
            "text/plain": [
              "range(0, 10000000)"
            ]
          },
          "metadata": {},
          "execution_count": 115
        }
      ],
      "source": [
        "range(10000000)"
      ]
    },
    {
      "cell_type": "code",
      "execution_count": null,
      "metadata": {
        "colab": {
          "base_uri": "https://localhost:8080/"
        },
        "id": "qC3JWDLD95nl",
        "outputId": "447e7a42-8104-44e7-d590-5b9e8cb7f3dd"
      },
      "outputs": [
        {
          "output_type": "execute_result",
          "data": {
            "text/plain": [
              "[0, 1, 2, 3, 4, 5, 6, 7, 8, 9]"
            ]
          },
          "metadata": {},
          "execution_count": 116
        }
      ],
      "source": [
        "list(range(10))"
      ]
    },
    {
      "cell_type": "code",
      "execution_count": null,
      "metadata": {
        "colab": {
          "base_uri": "https://localhost:8080/"
        },
        "id": "PSjyCoQy95nl",
        "outputId": "5ed22317-5f0f-4546-8024-a8699b06f6f0"
      },
      "outputs": [
        {
          "output_type": "execute_result",
          "data": {
            "text/plain": [
              "[0, 2, 4, 6, 8]"
            ]
          },
          "metadata": {},
          "execution_count": 117
        }
      ],
      "source": [
        "list(range(0, 10, 2))"
      ]
    },
    {
      "cell_type": "code",
      "execution_count": null,
      "metadata": {
        "colab": {
          "base_uri": "https://localhost:8080/"
        },
        "id": "h4lxbuXn95nl",
        "outputId": "6110f38a-8fcd-4307-bf88-1e10de972c98"
      },
      "outputs": [
        {
          "output_type": "execute_result",
          "data": {
            "text/plain": [
              "[5, 4, 3, 2, 1]"
            ]
          },
          "metadata": {},
          "execution_count": 118
        }
      ],
      "source": [
        "list(range(5, 0, -1))"
      ]
    },
    {
      "cell_type": "markdown",
      "metadata": {
        "id": "RlAcn8dQ95nl"
      },
      "source": [
        "#### Ternary expressions"
      ]
    },
    {
      "cell_type": "code",
      "execution_count": null,
      "metadata": {
        "colab": {
          "base_uri": "https://localhost:8080/"
        },
        "id": "P1rQaNbr95nl",
        "outputId": "2649f6b7-b1bd-404e-9656-2f5fe894ea0f"
      },
      "outputs": [
        {
          "output_type": "stream",
          "name": "stdout",
          "text": [
            "Non-negative\n"
          ]
        }
      ],
      "source": [
        "# in java or c++,    y = x>0? 10:9\n",
        "x = 5\n",
        "y='Non-negative' if x >= 0 else 'Negative'\n",
        "# in java or c++ （bool:onevalue, anothervalue）\n",
        "print(y)"
      ]
    },
    {
      "cell_type": "markdown",
      "metadata": {
        "id": "nVCjW9EC95nl"
      },
      "source": [
        "## More python basics\n",
        "\n",
        "### https://docs.python.org/3/tutorial/"
      ]
    },
    {
      "cell_type": "markdown",
      "metadata": {
        "id": "GncOvKNg95nl"
      },
      "source": [
        "## Lab exercise today:\n",
        "\n",
        "0. Install anaconda and launch Jupyter notebook.\n",
        "\n",
        "1. Write a python function to tell if a given interger x is a prime number.\n",
        "\n",
        "2. Write a python function to compute the sum of 1, 2, 3, ... to x by a given integer x."
      ]
    },
    {
      "cell_type": "code",
      "source": [],
      "metadata": {
        "id": "xU2uldO1IMtT"
      },
      "execution_count": null,
      "outputs": []
    },
    {
      "cell_type": "code",
      "execution_count": null,
      "metadata": {
        "id": "gwcfBRD495nl"
      },
      "outputs": [],
      "source": [
        "#ap ≡ a (mod p).\n",
        "\n",
        "a= 5"
      ]
    },
    {
      "cell_type": "code",
      "execution_count": null,
      "metadata": {
        "colab": {
          "base_uri": "https://localhost:8080/"
        },
        "id": "Rndv5O2995nl",
        "outputId": "33c6cae0-e780-4b8b-8060-3b5c4ed8d4b1"
      },
      "outputs": [
        {
          "output_type": "execute_result",
          "data": {
            "text/plain": [
              "3.0"
            ]
          },
          "metadata": {},
          "execution_count": 51
        }
      ],
      "source": [
        "import math\n",
        "math.sqrt(9)"
      ]
    },
    {
      "cell_type": "code",
      "execution_count": null,
      "metadata": {
        "id": "KFCwRsxl95nl"
      },
      "outputs": [],
      "source": [
        "def check_prime(x):\n",
        "    isprime = True\n",
        "    for i in range(2, int(math.sqrt(x))+1):\n",
        "        if x % i == 0:\n",
        "            isprime = False\n",
        "            break\n",
        "    result=\"Prime\" if isprime else \"Not Prime\"\n",
        "    return result"
      ]
    },
    {
      "cell_type": "code",
      "execution_count": null,
      "metadata": {
        "scrolled": true,
        "colab": {
          "base_uri": "https://localhost:8080/",
          "height": 34
        },
        "id": "tRhJ7qdw95nl",
        "outputId": "1aab7ef0-2094-4ca3-fe54-5bee8048ae22"
      },
      "outputs": [
        {
          "output_type": "execute_result",
          "data": {
            "text/plain": [
              "'Prime'"
            ],
            "application/vnd.google.colaboratory.intrinsic+json": {
              "type": "string"
            }
          },
          "metadata": {},
          "execution_count": 53
        }
      ],
      "source": [
        "check_prime(103)"
      ]
    },
    {
      "cell_type": "code",
      "execution_count": null,
      "metadata": {
        "id": "2AqneADo95nl"
      },
      "outputs": [],
      "source": [
        "def mysum(x):\n",
        "    return sum(range(x+1))"
      ]
    },
    {
      "cell_type": "code",
      "execution_count": null,
      "metadata": {
        "id": "y9mvw0Ke95nl"
      },
      "outputs": [],
      "source": [
        "mysum=lambda x: sum(range(x+1))"
      ]
    },
    {
      "cell_type": "code",
      "execution_count": null,
      "metadata": {
        "colab": {
          "base_uri": "https://localhost:8080/"
        },
        "id": "aYecP3Ky95nm",
        "outputId": "bc6b7cc7-e2b5-440e-8ba7-431ceccd7105"
      },
      "outputs": [
        {
          "output_type": "execute_result",
          "data": {
            "text/plain": [
              "5050"
            ]
          },
          "metadata": {},
          "execution_count": 56
        }
      ],
      "source": [
        "mysum(100)"
      ]
    }
  ],
  "metadata": {
    "kernelspec": {
      "display_name": "Python 3 (ipykernel)",
      "language": "python",
      "name": "python3"
    },
    "language_info": {
      "codemirror_mode": {
        "name": "ipython",
        "version": 3
      },
      "file_extension": ".py",
      "mimetype": "text/x-python",
      "name": "python",
      "nbconvert_exporter": "python",
      "pygments_lexer": "ipython3",
      "version": "3.11.4"
    },
    "colab": {
      "provenance": [],
      "include_colab_link": true
    }
  },
  "nbformat": 4,
  "nbformat_minor": 0
}