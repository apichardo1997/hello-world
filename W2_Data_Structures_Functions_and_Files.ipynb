{
  "cells": [
    {
      "cell_type": "markdown",
      "metadata": {
        "id": "view-in-github",
        "colab_type": "text"
      },
      "source": [
        "<a href=\"https://colab.research.google.com/github/apichardo1997/hello-world/blob/main/W2_Data_Structures_Functions_and_Files.ipynb\" target=\"_parent\"><img src=\"https://colab.research.google.com/assets/colab-badge.svg\" alt=\"Open In Colab\"/></a>"
      ]
    },
    {
      "cell_type": "markdown",
      "metadata": {
        "id": "uUUYkfuERr32"
      },
      "source": [
        "# Variable type\n",
        "1. In Python, variable is a tag, it doesn't have type by itself. However the object in the memory that the variable refers has type.\n",
        "2. Assignment operator is =, which is not really assignment but put a tag on this object."
      ]
    },
    {
      "cell_type": "code",
      "execution_count": 1,
      "metadata": {
        "colab": {
          "base_uri": "https://localhost:8080/"
        },
        "id": "LPTorfu1Rr33",
        "outputId": "f6ae3d11-3218-4d36-8f80-ac504df9354a"
      },
      "outputs": [
        {
          "output_type": "stream",
          "name": "stdout",
          "text": [
            "100 76.5 David\n",
            "100\n",
            "100 lbs\n"
          ]
        }
      ],
      "source": [
        "counter = 100 #int\n",
        "weight = 76.5 #the tag \"weight\" now is on a float object whose type is float\n",
        "name = 'David' #string\n",
        "print(counter, weight, name)\n",
        "age = 100\n",
        "print(age)\n",
        "\n",
        "weight=\"100 lbs\" #move the tag \"weight\" to a different object whose type is string\n",
        "print(weight)"
      ]
    },
    {
      "cell_type": "code",
      "execution_count": 2,
      "metadata": {
        "colab": {
          "base_uri": "https://localhost:8080/"
        },
        "id": "7Nufn8u7Rr35",
        "outputId": "6dd4606a-b1a2-44b2-d48b-ebdb8112bca9"
      },
      "outputs": [
        {
          "output_type": "stream",
          "name": "stdout",
          "text": [
            "10\n",
            "String\n"
          ]
        }
      ],
      "source": [
        "a = 10\n",
        "print(a)\n",
        "a = 'String'\n",
        "print(a)"
      ]
    },
    {
      "cell_type": "markdown",
      "metadata": {
        "id": "BbmaFWJoRr35"
      },
      "source": [
        "# Assign value to multiple variables\n",
        "less typing"
      ]
    },
    {
      "cell_type": "code",
      "execution_count": 5,
      "metadata": {
        "colab": {
          "base_uri": "https://localhost:8080/"
        },
        "id": "ZeDx0V5pRr36",
        "outputId": "9a8278d9-9e4b-45c7-9dbf-e6f94e07a9d2"
      },
      "outputs": [
        {
          "output_type": "stream",
          "name": "stdout",
          "text": [
            "100 100 100\n"
          ]
        }
      ],
      "source": [
        "a = b = c = 100\n",
        "print(a, b, c)\n",
        "# a = 100\n",
        "# b = 100\n",
        "# c = 100"
      ]
    },
    {
      "cell_type": "markdown",
      "metadata": {
        "id": "FupkQl_sRr36"
      },
      "source": [
        "The three variables here are <b>independent</b>, so you can modify one of them without changing others"
      ]
    },
    {
      "cell_type": "code",
      "execution_count": 6,
      "metadata": {
        "colab": {
          "base_uri": "https://localhost:8080/"
        },
        "id": "MouYN9_KRr37",
        "outputId": "d081d371-7e6b-4750-fa25-d85cc992e8be"
      },
      "outputs": [
        {
          "output_type": "stream",
          "name": "stdout",
          "text": [
            "100 200 100\n"
          ]
        }
      ],
      "source": [
        "b = 200\n",
        "print(a, b, c)"
      ]
    },
    {
      "cell_type": "markdown",
      "metadata": {
        "id": "wCxkpCOzRr38"
      },
      "source": [
        "# unpacking tuple to individual variables\n",
        "Assign different values to multiple variables"
      ]
    },
    {
      "cell_type": "code",
      "execution_count": 7,
      "metadata": {
        "colab": {
          "base_uri": "https://localhost:8080/"
        },
        "id": "g0oXYMZ-Rr39",
        "outputId": "e25959ee-c148-43fa-cb6d-723f61422cd2"
      },
      "outputs": [
        {
          "output_type": "stream",
          "name": "stdout",
          "text": [
            "1 2.0 Hello\n"
          ]
        }
      ],
      "source": [
        "a, b, c = 1, 2.0, 'Hello'\n",
        "print(a, b, c)"
      ]
    },
    {
      "cell_type": "code",
      "execution_count": 8,
      "metadata": {
        "id": "HDJ7xdG9Rr39"
      },
      "outputs": [],
      "source": [
        "def my_divide(x, y):\n",
        "    times=x//y\n",
        "    remain=x-y*(x//y)\n",
        "    return times, remain\n",
        "\n",
        "mytimes, myremain=my_divide(17, 4)"
      ]
    },
    {
      "cell_type": "code",
      "execution_count": 9,
      "metadata": {
        "colab": {
          "base_uri": "https://localhost:8080/"
        },
        "id": "z6SiJ6F0Rr39",
        "outputId": "0401130d-1190-4240-fe3a-4e53fb3fd205"
      },
      "outputs": [
        {
          "output_type": "execute_result",
          "data": {
            "text/plain": [
              "(4, 1)"
            ]
          },
          "metadata": {},
          "execution_count": 9
        }
      ],
      "source": [
        "mytimes, myremain"
      ]
    },
    {
      "cell_type": "markdown",
      "metadata": {
        "id": "srEnOfVYRr39"
      },
      "source": [
        "# Built-in data types\n",
        "\n",
        "* Number\n",
        "* String\n",
        "* List\n",
        "* Tuple\n",
        "* Set\n",
        "* Dictionary"
      ]
    },
    {
      "cell_type": "markdown",
      "metadata": {
        "id": "-P4c0BNmRr3-"
      },
      "source": [
        "<b>* Number, String, Tuple are immutable types. You can't change the value in place. New value will have new id in new address.</b>"
      ]
    },
    {
      "cell_type": "code",
      "execution_count": 10,
      "metadata": {
        "colab": {
          "base_uri": "https://localhost:8080/"
        },
        "id": "y3KzlUumRr3-",
        "outputId": "3d533b7d-2a83-4abe-da48-26ce7ff6f674"
      },
      "outputs": [
        {
          "output_type": "stream",
          "name": "stdout",
          "text": [
            "a: 1.536, id of a: Hello, so a: 1.536 is good\n",
            "a: 1.54, id of a: 135325913043920\n",
            "b: Hello, id of b: 135325903135280\n",
            "c: ('abcd', 883, 2.54), id of c: 135325903137152\n"
          ]
        }
      ],
      "source": [
        "a, b, c = 1.536, 'Hello', ('abcd', 883, 2.54)\n",
        "print('a: {0}, id of a: {1}, so a: {0} is good'.format(a, b))\n",
        "print('a: {0:.2f}, id of a: {1}'.format(a, id(a)))\n",
        "print('b: {0}, id of b: {1}'.format(b, id(b)))\n",
        "print('c: {0}, id of c: {1}'.format(c, id(c)))"
      ]
    },
    {
      "cell_type": "code",
      "execution_count": 11,
      "metadata": {
        "colab": {
          "base_uri": "https://localhost:8080/"
        },
        "id": "-i8k5NxPRr3-",
        "outputId": "ffa4b25d-7cdf-4ab7-f588-a5cc9adb0b5b"
      },
      "outputs": [
        {
          "output_type": "stream",
          "name": "stdout",
          "text": [
            "a: 3, id of a: 10757800\n",
            "b: World, id of b: 135325903129008\n",
            "c: ('efgh', 111, 20.54), id of c: 135325903142656\n"
          ]
        }
      ],
      "source": [
        "a, b, c = 3, 'World',  ('efgh', 111, 20.54)\n",
        "print('a: {0}, id of a: {1}'.format(a, id(a)))\n",
        "print('b: {0}, id of b: {1}'.format(b, id(b)))\n",
        "print('c: {0}, id of c: {1}'.format(c, id(c)))"
      ]
    },
    {
      "cell_type": "markdown",
      "metadata": {
        "id": "LQgoIT1GRr3-"
      },
      "source": [
        "<b>Keep in mind, a, b, c are tags and they can be put on anything, while 'hello', 'world', 1.536 are immutable</b>"
      ]
    },
    {
      "cell_type": "markdown",
      "metadata": {
        "id": "Rj4521oxRr3-"
      },
      "source": [
        "<b>* List, Dictionary, Set are mutable types. You can change the value in place and the new value will stay in the same address so they will retain the id.</b>"
      ]
    },
    {
      "cell_type": "code",
      "execution_count": 12,
      "metadata": {
        "colab": {
          "base_uri": "https://localhost:8080/"
        },
        "id": "LzVzGeK3Rr3-",
        "outputId": "05fcfd9c-877d-47b1-b9ce-7f06cc92173f"
      },
      "outputs": [
        {
          "output_type": "stream",
          "name": "stdout",
          "text": [
            "<class 'dict'>\n",
            "mylist: [1, 2, 3, 4], id of mylist: 135325903223296\n",
            "mydict: {'one': 1, 'two': 2}, id of mydict: 135325915134528\n",
            "myset: {'Hebe', 'Tom', 'Jack'}, id of myset: 135325902795520\n"
          ]
        }
      ],
      "source": [
        "mylist = [1, 2, 3, 4]\n",
        "mydict = {'one': 1, 'two': 2}\n",
        "myset = {'Tom', 'Jack', 'Hebe'}\n",
        "mysome = {}\n",
        "print(type(mysome))\n",
        "print('mylist: {0}, id of mylist: {1}'.format(mylist, id(mylist)))\n",
        "print('mydict: {0}, id of mydict: {1}'.format(mydict, id(mydict)))\n",
        "print('myset: {0}, id of myset: {1}'.format(myset, id(myset)))"
      ]
    },
    {
      "cell_type": "code",
      "execution_count": 13,
      "metadata": {
        "colab": {
          "base_uri": "https://localhost:8080/"
        },
        "id": "2v6x2tOqRr3_",
        "outputId": "cd3fc60d-9f09-404c-e667-e6163d6c08bc"
      },
      "outputs": [
        {
          "output_type": "stream",
          "name": "stdout",
          "text": [
            "1999-12-05\n",
            "mylist: [1, 2, 3, 4, 5], id of mylist: 135325903223296\n",
            "mydict: {'one': 1, 'two': 2, 'three': 3}, id of mydict: 135325915134528\n",
            "myset: {'Hebe', 'Lamda', 'Tom', 'Jack'}, id of myset: 135325902795520\n"
          ]
        }
      ],
      "source": [
        "mylist.append(5)\n",
        "mydate = '{0}-{1}-{2}'.format('1999', '12', '05')\n",
        "print(mydate)\n",
        "print('mylist: {0}, id of mylist: {1}'.format(mylist, id(mylist))) #parameter list\n",
        "mydict['three'] =3\n",
        "print('mydict: {0}, id of mydict: {1}'.format(mydict, id(mydict)))\n",
        "myset.add('Lamda')\n",
        "print('myset: {0}, id of myset: {1}'.format(myset, id(myset)))"
      ]
    },
    {
      "cell_type": "markdown",
      "metadata": {
        "id": "MEPco469Rr3_"
      },
      "source": [
        "* return unique list from list"
      ]
    },
    {
      "cell_type": "code",
      "execution_count": 14,
      "metadata": {
        "colab": {
          "base_uri": "https://localhost:8080/"
        },
        "id": "Bkh8UFckRr3_",
        "outputId": "cf6138bc-67c1-40b3-9b4a-5c53068b9681"
      },
      "outputs": [
        {
          "output_type": "stream",
          "name": "stdout",
          "text": [
            "[1, 2, 3, 4, 5, 7]\n"
          ]
        }
      ],
      "source": [
        "mylist = [1,2,3,2,3,4,5,7]\n",
        "norepeat = list(set(mylist))\n",
        "print(norepeat)"
      ]
    },
    {
      "cell_type": "code",
      "execution_count": 15,
      "metadata": {
        "colab": {
          "base_uri": "https://localhost:8080/"
        },
        "id": "q6TeJ4IjRr3_",
        "outputId": "f8d4429f-d971-47c4-aa37-fae720f8f40e"
      },
      "outputs": [
        {
          "output_type": "stream",
          "name": "stdout",
          "text": [
            "{'one': 1, 'two': 2, 'three': 3}\n",
            "1\n"
          ]
        }
      ],
      "source": [
        "print(mydict)\n",
        "print(mydict['one'])"
      ]
    },
    {
      "cell_type": "code",
      "execution_count": 16,
      "metadata": {
        "scrolled": false,
        "colab": {
          "base_uri": "https://localhost:8080/"
        },
        "id": "L7074Az4Rr3_",
        "outputId": "f01e2665-f554-4b83-b5a3-58bd706341ab"
      },
      "outputs": [
        {
          "output_type": "execute_result",
          "data": {
            "text/plain": [
              "{'one': 1,\n",
              " 'two': 2,\n",
              " 'three': 3,\n",
              " 'I want a very long key': 'crazy',\n",
              " 1: 'aw',\n",
              " 'data': {'dataa': ['a', 'b', 'c'], 'meta': 'England'}}"
            ]
          },
          "metadata": {},
          "execution_count": 16
        }
      ],
      "source": [
        "# any immutable value can be used as key\n",
        "mydict['I want a very long key'] = 'crazy'\n",
        "mydict[1] = 'aw'\n",
        "mydict['data'] = {'dataa':['a', 'b', 'c'], 'meta': 'England'}\n",
        "mydict"
      ]
    },
    {
      "cell_type": "code",
      "execution_count": 17,
      "metadata": {
        "id": "c93XmPUeRr3_"
      },
      "outputs": [],
      "source": [
        "mydict[(1,2,\"hello\", True)] = 'odd key'"
      ]
    },
    {
      "cell_type": "code",
      "execution_count": 18,
      "metadata": {
        "scrolled": true,
        "colab": {
          "base_uri": "https://localhost:8080/"
        },
        "id": "jDpH27xRRr4A",
        "outputId": "c7c5b16c-4591-4284-c18d-a2e2dd5ea33a"
      },
      "outputs": [
        {
          "output_type": "execute_result",
          "data": {
            "text/plain": [
              "{'one': 1,\n",
              " 'two': 2,\n",
              " 'three': 3,\n",
              " 'I want a very long key': 'crazy',\n",
              " 1: 'aw',\n",
              " 'data': {'dataa': ['a', 'b', 'c'], 'meta': 'England'},\n",
              " (1, 2, 'hello', True): 'odd key'}"
            ]
          },
          "metadata": {},
          "execution_count": 18
        }
      ],
      "source": [
        "mydict"
      ]
    },
    {
      "cell_type": "code",
      "execution_count": 19,
      "metadata": {
        "colab": {
          "base_uri": "https://localhost:8080/",
          "height": 34
        },
        "id": "2hOwvinlRr4A",
        "outputId": "12fde165-f082-465f-cb1b-75fc3c3aa00d"
      },
      "outputs": [
        {
          "output_type": "execute_result",
          "data": {
            "text/plain": [
              "'odd key'"
            ],
            "application/vnd.google.colaboratory.intrinsic+json": {
              "type": "string"
            }
          },
          "metadata": {},
          "execution_count": 19
        }
      ],
      "source": [
        "mydict[(1,2,\"hello\", True)]"
      ]
    },
    {
      "cell_type": "code",
      "execution_count": 20,
      "metadata": {
        "colab": {
          "base_uri": "https://localhost:8080/",
          "height": 135
        },
        "id": "oOzQHhn1Rr4A",
        "outputId": "0c4a9ad4-1e1d-482d-9880-01b6f5f880c0"
      },
      "outputs": [
        {
          "output_type": "error",
          "ename": "TypeError",
          "evalue": "unhashable type: 'list'",
          "traceback": [
            "\u001b[0;31m---------------------------------------------------------------------------\u001b[0m",
            "\u001b[0;31mTypeError\u001b[0m                                 Traceback (most recent call last)",
            "\u001b[0;32m<ipython-input-20-1887462102>\u001b[0m in \u001b[0;36m<cell line: 0>\u001b[0;34m()\u001b[0m\n\u001b[0;32m----> 1\u001b[0;31m \u001b[0mmydict\u001b[0m\u001b[0;34m[\u001b[0m\u001b[0;34m[\u001b[0m\u001b[0;36m1\u001b[0m\u001b[0;34m,\u001b[0m\u001b[0;36m2\u001b[0m\u001b[0;34m,\u001b[0m\u001b[0;36m3\u001b[0m\u001b[0;34m]\u001b[0m\u001b[0;34m]\u001b[0m \u001b[0;34m=\u001b[0m \u001b[0;34m'odd key'\u001b[0m\u001b[0;34m\u001b[0m\u001b[0;34m\u001b[0m\u001b[0m\n\u001b[0m",
            "\u001b[0;31mTypeError\u001b[0m: unhashable type: 'list'"
          ]
        }
      ],
      "source": [
        "mydict[[1,2,3]] = 'odd key'"
      ]
    },
    {
      "cell_type": "code",
      "execution_count": 21,
      "metadata": {
        "colab": {
          "base_uri": "https://localhost:8080/"
        },
        "id": "6lpsb3XfRr4A",
        "outputId": "8a8a70be-647b-4159-8394-44c9c1fe6474"
      },
      "outputs": [
        {
          "output_type": "execute_result",
          "data": {
            "text/plain": [
              "dict_items([('one', 1), ('two', 2), ('three', 3), ('I want a very long key', 'crazy'), (1, 'aw'), ('data', {'dataa': ['a', 'b', 'c'], 'meta': 'England'}), ((1, 2, 'hello', True), 'odd key')])"
            ]
          },
          "metadata": {},
          "execution_count": 21
        }
      ],
      "source": [
        "mydict.items()"
      ]
    },
    {
      "cell_type": "code",
      "execution_count": 22,
      "metadata": {
        "scrolled": true,
        "colab": {
          "base_uri": "https://localhost:8080/"
        },
        "id": "M3quZDaTRr4A",
        "outputId": "42f8b38b-405a-409f-be7c-2f79070fd131"
      },
      "outputs": [
        {
          "output_type": "stream",
          "name": "stdout",
          "text": [
            "one\n",
            "two\n",
            "three\n",
            "I want a very long key\n",
            "1\n",
            "data\n",
            "(1, 2, 'hello', True)\n"
          ]
        }
      ],
      "source": [
        "for key, _ in mydict.items():\n",
        "    print(key)"
      ]
    },
    {
      "cell_type": "code",
      "execution_count": 23,
      "metadata": {
        "scrolled": true,
        "colab": {
          "base_uri": "https://localhost:8080/"
        },
        "id": "IbYkrdRbRr4A",
        "outputId": "ffb15894-4fc5-40d7-d60e-713aad1a5396"
      },
      "outputs": [
        {
          "output_type": "execute_result",
          "data": {
            "text/plain": [
              "dict_items([('a', 1), ('b', 2), ('c', 3)])"
            ]
          },
          "metadata": {},
          "execution_count": 23
        }
      ],
      "source": [
        "d={\"a\":1, \"b\":2, \"c\":3}\n",
        "d.items()"
      ]
    },
    {
      "cell_type": "code",
      "execution_count": 24,
      "metadata": {
        "scrolled": true,
        "colab": {
          "base_uri": "https://localhost:8080/"
        },
        "id": "IK2Ksb2iRr4A",
        "outputId": "51f0ef2a-cd9f-4193-8251-cc96e0047bce"
      },
      "outputs": [
        {
          "output_type": "stream",
          "name": "stdout",
          "text": [
            "a\n",
            "b\n",
            "c\n"
          ]
        }
      ],
      "source": [
        "for k, _ in d.items():\n",
        "    print(k)"
      ]
    },
    {
      "cell_type": "code",
      "execution_count": 25,
      "metadata": {
        "colab": {
          "base_uri": "https://localhost:8080/"
        },
        "id": "qWu55z5cRr4B",
        "outputId": "6e9b5672-3120-4b8e-97f5-6cb2b4ed8b65"
      },
      "outputs": [
        {
          "output_type": "stream",
          "name": "stdout",
          "text": [
            "1\n",
            "2\n",
            "3\n"
          ]
        }
      ],
      "source": [
        "for k, v in d.items():\n",
        "    print(v)"
      ]
    },
    {
      "cell_type": "markdown",
      "metadata": {
        "id": "qji66JgoRr4B"
      },
      "source": [
        "# Number\n",
        "* int、float、bool、complex\n",
        "* Python 3 has int，Python 3 doesn't have Long type of Python2.\n",
        "* type() to return the type\n",
        "* True and False are keywords in Python3. Their values are 1 and 0."
      ]
    },
    {
      "cell_type": "code",
      "execution_count": 26,
      "metadata": {
        "colab": {
          "base_uri": "https://localhost:8080/"
        },
        "id": "yFduPPYTRr4B",
        "outputId": "1afc57de-f61f-41e7-cee6-6630d86ecea6"
      },
      "outputs": [
        {
          "output_type": "stream",
          "name": "stdout",
          "text": [
            "<class 'int'> <class 'float'> <class 'bool'> <class 'complex'>\n",
            "e is 6.5\n"
          ]
        }
      ],
      "source": [
        "a, b, c, d = 20, 5.5, True, 4+3j\n",
        "print(type(a), type(b), type(c), type(d))\n",
        "e = b + c\n",
        "print('e is {0}'.format(e))"
      ]
    },
    {
      "cell_type": "code",
      "execution_count": 27,
      "metadata": {
        "colab": {
          "base_uri": "https://localhost:8080/"
        },
        "id": "8eORp5uCRr4B",
        "outputId": "e409d0c6-c497-480d-982c-2651820ba493"
      },
      "outputs": [
        {
          "output_type": "execute_result",
          "data": {
            "text/plain": [
              "1"
            ]
          },
          "metadata": {},
          "execution_count": 27
        }
      ],
      "source": [
        "int(True)"
      ]
    },
    {
      "cell_type": "code",
      "execution_count": 28,
      "metadata": {
        "colab": {
          "base_uri": "https://localhost:8080/"
        },
        "id": "qaRv5fbERr4B",
        "outputId": "d0f47e95-ffb1-435f-da6c-60a452efabf3"
      },
      "outputs": [
        {
          "output_type": "execute_result",
          "data": {
            "text/plain": [
              "1.0"
            ]
          },
          "metadata": {},
          "execution_count": 28
        }
      ],
      "source": [
        "float(True)"
      ]
    },
    {
      "cell_type": "code",
      "execution_count": 29,
      "metadata": {
        "colab": {
          "base_uri": "https://localhost:8080/"
        },
        "id": "nY3I3WgjRr4B",
        "outputId": "805aa5e2-7c37-48d4-db15-1c24db7aff98"
      },
      "outputs": [
        {
          "output_type": "execute_result",
          "data": {
            "text/plain": [
              "True"
            ]
          },
          "metadata": {},
          "execution_count": 29
        }
      ],
      "source": [
        "bool(-3.9999)"
      ]
    },
    {
      "cell_type": "code",
      "execution_count": 30,
      "metadata": {
        "colab": {
          "base_uri": "https://localhost:8080/"
        },
        "id": "y1pnSeNCRr4C",
        "outputId": "acd83bae-5d27-4202-b372-5a652f32ded7"
      },
      "outputs": [
        {
          "output_type": "execute_result",
          "data": {
            "text/plain": [
              "False"
            ]
          },
          "metadata": {},
          "execution_count": 30
        }
      ],
      "source": [
        "bool(0.0)"
      ]
    },
    {
      "cell_type": "code",
      "execution_count": 31,
      "metadata": {
        "colab": {
          "base_uri": "https://localhost:8080/"
        },
        "id": "fvwmAiUPRr4C",
        "outputId": "83ffce06-7e88-4844-8d1c-b2e578305102"
      },
      "outputs": [
        {
          "output_type": "stream",
          "name": "stdout",
          "text": [
            "true\n"
          ]
        }
      ],
      "source": [
        "if 4:\n",
        "    print(\"true\")"
      ]
    },
    {
      "cell_type": "markdown",
      "metadata": {
        "id": "hA_uCky7Rr4C"
      },
      "source": [
        "<b>isinstance is also used to check types</b>"
      ]
    },
    {
      "cell_type": "code",
      "execution_count": 32,
      "metadata": {
        "colab": {
          "base_uri": "https://localhost:8080/"
        },
        "id": "fZVBtDDkRr4C",
        "outputId": "d99655c1-9311-445e-fee6-6783c1bb1465"
      },
      "outputs": [
        {
          "output_type": "stream",
          "name": "stdout",
          "text": [
            "True\n",
            "False\n"
          ]
        }
      ],
      "source": [
        "a = 111\n",
        "print(isinstance(a, int))\n",
        "print(isinstance(True, float))"
      ]
    },
    {
      "cell_type": "markdown",
      "metadata": {
        "id": "roBrkP07Rr4D"
      },
      "source": [
        "Difference between isinstance and type:\n",
        "* type() doesn't check inherited type\n",
        "* isinstance() checkes inherited type"
      ]
    },
    {
      "cell_type": "code",
      "execution_count": 33,
      "metadata": {
        "colab": {
          "base_uri": "https://localhost:8080/"
        },
        "id": "XR5r537qRr4D",
        "outputId": "9acf42d4-14ae-475c-f205-d854679b3100"
      },
      "outputs": [
        {
          "output_type": "stream",
          "name": "stdout",
          "text": [
            "True\n",
            "True\n",
            "True\n",
            "False\n"
          ]
        }
      ],
      "source": [
        "class A:\n",
        "    pass\n",
        "\n",
        "class B(A):\n",
        "    pass\n",
        "\n",
        "print(isinstance(A(), A))  # returns True\n",
        "print(type(A()) == A)      # returns True\n",
        "print(isinstance(B(), A))    # returns True\n",
        "print(type(B()) == A)        # returns False"
      ]
    },
    {
      "cell_type": "markdown",
      "metadata": {
        "id": "HL02Qtw4Rr4D"
      },
      "source": [
        "Manually delete a variable from memory:"
      ]
    },
    {
      "cell_type": "code",
      "execution_count": 39,
      "metadata": {
        "colab": {
          "base_uri": "https://localhost:8080/",
          "height": 184
        },
        "id": "5HTpsBkARr4D",
        "outputId": "5dadbe26-d623-4e50-838a-8ce6e4619105"
      },
      "outputs": [
        {
          "output_type": "stream",
          "name": "stdout",
          "text": [
            "a is 100\n"
          ]
        },
        {
          "output_type": "error",
          "ename": "NameError",
          "evalue": "name 'a' is not defined",
          "traceback": [
            "\u001b[0;31m---------------------------------------------------------------------------\u001b[0m",
            "\u001b[0;31mNameError\u001b[0m                                 Traceback (most recent call last)",
            "\u001b[0;32m<ipython-input-39-250372219>\u001b[0m in \u001b[0;36m<cell line: 0>\u001b[0;34m()\u001b[0m\n\u001b[1;32m      2\u001b[0m \u001b[0mprint\u001b[0m\u001b[0;34m(\u001b[0m\u001b[0;34m'a is {0}'\u001b[0m\u001b[0;34m.\u001b[0m\u001b[0mformat\u001b[0m\u001b[0;34m(\u001b[0m\u001b[0ma\u001b[0m\u001b[0;34m)\u001b[0m\u001b[0;34m)\u001b[0m\u001b[0;34m\u001b[0m\u001b[0;34m\u001b[0m\u001b[0m\n\u001b[1;32m      3\u001b[0m \u001b[0;32mdel\u001b[0m \u001b[0ma\u001b[0m\u001b[0;34m\u001b[0m\u001b[0;34m\u001b[0m\u001b[0m\n\u001b[0;32m----> 4\u001b[0;31m \u001b[0mprint\u001b[0m\u001b[0;34m(\u001b[0m\u001b[0;34m'a is {0}'\u001b[0m\u001b[0;34m.\u001b[0m\u001b[0mformat\u001b[0m\u001b[0;34m(\u001b[0m\u001b[0ma\u001b[0m\u001b[0;34m)\u001b[0m\u001b[0;34m)\u001b[0m\u001b[0;34m\u001b[0m\u001b[0;34m\u001b[0m\u001b[0m\n\u001b[0m",
            "\u001b[0;31mNameError\u001b[0m: name 'a' is not defined"
          ]
        }
      ],
      "source": [
        "a = 100\n",
        "print('a is {0}'.format(a))\n",
        "del a\n",
        "print('a is {0}'.format(a))"
      ]
    },
    {
      "cell_type": "code",
      "execution_count": 40,
      "metadata": {
        "id": "ohtPx1gHRr4D"
      },
      "outputs": [],
      "source": [
        "str='hello'"
      ]
    },
    {
      "cell_type": "code",
      "execution_count": 41,
      "metadata": {
        "colab": {
          "base_uri": "https://localhost:8080/",
          "height": 34
        },
        "id": "NSpncBwgRr4D",
        "outputId": "9dee2288-5b8b-4cb7-c38d-149c09f4f142"
      },
      "outputs": [
        {
          "output_type": "execute_result",
          "data": {
            "text/plain": [
              "'hello'"
            ],
            "application/vnd.google.colaboratory.intrinsic+json": {
              "type": "string"
            }
          },
          "metadata": {},
          "execution_count": 41
        }
      ],
      "source": [
        "str"
      ]
    },
    {
      "cell_type": "code",
      "execution_count": 42,
      "metadata": {
        "id": "obm6sz7uRr4D"
      },
      "outputs": [],
      "source": [
        "del str"
      ]
    },
    {
      "cell_type": "code",
      "execution_count": 43,
      "metadata": {
        "colab": {
          "base_uri": "https://localhost:8080/",
          "height": 34
        },
        "id": "58SscPreRr4E",
        "outputId": "7094095f-c5c4-45bd-8c39-5941fc7a08d2"
      },
      "outputs": [
        {
          "output_type": "execute_result",
          "data": {
            "text/plain": [
              "'3434.3'"
            ],
            "application/vnd.google.colaboratory.intrinsic+json": {
              "type": "string"
            }
          },
          "metadata": {},
          "execution_count": 43
        }
      ],
      "source": [
        "str(3434.3)"
      ]
    },
    {
      "cell_type": "markdown",
      "metadata": {
        "id": "F5JLACM9Rr4E"
      },
      "source": [
        "## Math operations are straightforward\n"
      ]
    },
    {
      "cell_type": "code",
      "execution_count": 44,
      "metadata": {
        "colab": {
          "base_uri": "https://localhost:8080/"
        },
        "id": "bmYuCzAlRr4E",
        "outputId": "67678f8f-9b7e-4514-8ffa-b5223eac2649"
      },
      "outputs": [
        {
          "output_type": "stream",
          "name": "stdout",
          "text": [
            "{'5+4': 9} 2.3 21 1.25 0 2 1024 1.0\n"
          ]
        }
      ],
      "source": [
        "print({'5+4':5+4}, 4.3 - 2, 3 * 7, 5/4, 3 //4, 17 % 3, 2** 10, round(3/4, 0))"
      ]
    },
    {
      "cell_type": "code",
      "execution_count": 45,
      "metadata": {
        "colab": {
          "base_uri": "https://localhost:8080/"
        },
        "id": "ixmNlJlZRr4E",
        "outputId": "f26e94b8-81e6-4666-ddd6-c0c345fb9e33"
      },
      "outputs": [
        {
          "output_type": "execute_result",
          "data": {
            "text/plain": [
              "0"
            ]
          },
          "metadata": {},
          "execution_count": 45
        }
      ],
      "source": [
        "5^5"
      ]
    },
    {
      "cell_type": "markdown",
      "metadata": {
        "id": "e-xSbPBRRr4E"
      },
      "source": [
        "# String\n",
        "* ' or \"，use \\\\ to escape special characters"
      ]
    },
    {
      "cell_type": "markdown",
      "metadata": {
        "id": "iNZpam0uRr4E"
      },
      "source": [
        "Slicing syntax：\n",
        "* Index starts with 0\n",
        "* -1 is the end\n",
        "* \\+ to concatenate strings, * to repeat\n",
        "\n",
        "Slicing rule:\n",
        "\n",
        "* [2:5], where 2：Close, 5:open, i.e., including 2 but excluding 5"
      ]
    },
    {
      "cell_type": "code",
      "execution_count": 46,
      "metadata": {
        "colab": {
          "base_uri": "https://localhost:8080/",
          "height": 34
        },
        "id": "qQ4Yl6VPRr4F",
        "outputId": "edd133cd-985c-493d-be83-7734e090871f"
      },
      "outputs": [
        {
          "output_type": "execute_result",
          "data": {
            "text/plain": [
              "'--------------------'"
            ],
            "application/vnd.google.colaboratory.intrinsic+json": {
              "type": "string"
            }
          },
          "metadata": {},
          "execution_count": 46
        }
      ],
      "source": [
        "x=\"-\"\n",
        "x*20"
      ]
    },
    {
      "cell_type": "code",
      "execution_count": 47,
      "metadata": {
        "colab": {
          "base_uri": "https://localhost:8080/"
        },
        "id": "Vj-Ml7DlRr4F",
        "outputId": "7a2caab1-1cfb-4e84-a18c-7d7164e57f61"
      },
      "outputs": [
        {
          "output_type": "stream",
          "name": "stdout",
          "text": [
            "7\n",
            "abcdefg\n",
            "g\n",
            "abcdef\n",
            "a\n",
            "cde\n",
            "cdefg\n",
            "abcdefggabcdefggabcdefggabcdefggabcdefggabcdefggabcdefggabcdefggabcdefggabcdefgg\n",
            "abcdefgTEST\n",
            "gooooooooooooooooooooooooooooooooooooooooooooooooooooooooooooooooooooooooooooooooooooooooooooooooooooal\n",
            "++++ \n",
            "cdefg\n",
            "['aa', 'b', 'c', 'd']\n"
          ]
        }
      ],
      "source": [
        "s = 'abcdefg'\n",
        "print(len(s))\n",
        "print(s)\n",
        "print(s[-1])\n",
        "# -1 is equivalent to len(s) - 1\n",
        "print(s[0:-1])\n",
        "print(s[0])\n",
        "print(s[2:5])\n",
        "print(s[2:])\n",
        "print((s+s[-1])*10)\n",
        "print(s + 'TEST')\n",
        "print('g' + 'o'*100 + 'al')\n",
        "print(\"++++\", s[6:-1])\n",
        "print(s[2:])\n",
        "mystr = 'aa  b  c  d'\n",
        "print(mystr.split('  '))"
      ]
    },
    {
      "cell_type": "markdown",
      "metadata": {
        "id": "kTYzTkxNRr4F"
      },
      "source": [
        "### \\n, \\t, r"
      ]
    },
    {
      "cell_type": "code",
      "execution_count": 48,
      "metadata": {
        "colab": {
          "base_uri": "https://localhost:8080/"
        },
        "id": "LeVWA-EJRr4F",
        "outputId": "8ee42963-5b94-4bc6-f05a-59dd507372ab"
      },
      "outputs": [
        {
          "output_type": "stream",
          "name": "stdout",
          "text": [
            "I\n",
            "am\there\\d\\o\n",
            "I\\nam\\there\\d\\o\n"
          ]
        }
      ],
      "source": [
        "print('I\\nam\\there\\d\\o')\n",
        "print(r'I\\nam\\there\\d\\o')"
      ]
    },
    {
      "cell_type": "markdown",
      "metadata": {
        "id": "4cGHxSljRr4F"
      },
      "source": [
        "### \"\"\"...\"\"\" or '''...''' for multiple lines"
      ]
    },
    {
      "cell_type": "code",
      "execution_count": 49,
      "metadata": {
        "colab": {
          "base_uri": "https://localhost:8080/"
        },
        "id": "oOGTaFl8Rr4F",
        "outputId": "a32c9825-773c-469d-da1c-ca7151262901"
      },
      "outputs": [
        {
          "output_type": "stream",
          "name": "stdout",
          "text": [
            "\n",
            "This is sample,\n",
            "lsajfljga\n",
            "dsf\n",
            "affjsalg\n",
            "it's very easy.\n",
            "\n"
          ]
        }
      ],
      "source": [
        "notes = \"\"\"\n",
        "This is sample,\n",
        "lsajfljga\n",
        "dsf\n",
        "affjsalg\n",
        "it's very easy.\n",
        "\"\"\"\n",
        "print(notes)"
      ]
    },
    {
      "cell_type": "markdown",
      "metadata": {
        "id": "rRkQlsQBRr4F"
      },
      "source": [
        "<b>Python doesn't have char type，a char is a string with size 1.\n",
        "\n",
        "vs\n",
        "\n",
        "C doesn't have string type but only char type. A string is an array of char.</b>"
      ]
    },
    {
      "cell_type": "code",
      "execution_count": 50,
      "metadata": {
        "colab": {
          "base_uri": "https://localhost:8080/"
        },
        "id": "qUpQ1UHwRr4F",
        "outputId": "4931eeae-29e5-4305-880b-7097ac9c750c"
      },
      "outputs": [
        {
          "output_type": "stream",
          "name": "stdout",
          "text": [
            "a f\n",
            "g b\n",
            "abc\n"
          ]
        }
      ],
      "source": [
        "word = 'abcdefg'\n",
        "print(word[0], word[5])\n",
        "print(word[-1], word[-6])\n",
        "print(word[0:3])"
      ]
    },
    {
      "cell_type": "markdown",
      "metadata": {
        "id": "68o_fUD6Rr4G"
      },
      "source": [
        "Unlike C，Python string is immutable. Assigning new value to an indexed reference，such as word[3] = 'c' will have TypeError\n",
        "\n",
        "TypeError: 'str' object does not support item assignment\n"
      ]
    },
    {
      "cell_type": "code",
      "execution_count": 51,
      "metadata": {
        "id": "Hf1yANzmRr4G",
        "outputId": "9a986701-74af-4a69-8e96-34f7a08ce95a",
        "colab": {
          "base_uri": "https://localhost:8080/",
          "height": 34
        }
      },
      "outputs": [
        {
          "output_type": "execute_result",
          "data": {
            "text/plain": [
              "'d'"
            ],
            "application/vnd.google.colaboratory.intrinsic+json": {
              "type": "string"
            }
          },
          "metadata": {},
          "execution_count": 51
        }
      ],
      "source": [
        "word[3]"
      ]
    },
    {
      "cell_type": "code",
      "execution_count": 52,
      "metadata": {
        "scrolled": true,
        "id": "JMvbKZH1Rr4G",
        "outputId": "f1054f51-36e9-43bb-953b-867b663263d0",
        "colab": {
          "base_uri": "https://localhost:8080/",
          "height": 135
        }
      },
      "outputs": [
        {
          "output_type": "error",
          "ename": "TypeError",
          "evalue": "'str' object does not support item assignment",
          "traceback": [
            "\u001b[0;31m---------------------------------------------------------------------------\u001b[0m",
            "\u001b[0;31mTypeError\u001b[0m                                 Traceback (most recent call last)",
            "\u001b[0;32m<ipython-input-52-1742646793>\u001b[0m in \u001b[0;36m<cell line: 0>\u001b[0;34m()\u001b[0m\n\u001b[0;32m----> 1\u001b[0;31m \u001b[0mword\u001b[0m\u001b[0;34m[\u001b[0m\u001b[0;36m3\u001b[0m\u001b[0;34m]\u001b[0m\u001b[0;34m=\u001b[0m\u001b[0;34m'c'\u001b[0m\u001b[0;34m\u001b[0m\u001b[0;34m\u001b[0m\u001b[0m\n\u001b[0m",
            "\u001b[0;31mTypeError\u001b[0m: 'str' object does not support item assignment"
          ]
        }
      ],
      "source": [
        "word[3]='c'"
      ]
    },
    {
      "cell_type": "code",
      "execution_count": 53,
      "metadata": {
        "id": "p6i9hI7cRr4G",
        "outputId": "3bc401a2-4a73-462c-e48c-13d0281fcfee",
        "colab": {
          "base_uri": "https://localhost:8080/"
        }
      },
      "outputs": [
        {
          "output_type": "stream",
          "name": "stdout",
          "text": [
            "9843040\n"
          ]
        }
      ],
      "source": [
        "a='abc'\n",
        "print(id(a))"
      ]
    },
    {
      "cell_type": "code",
      "execution_count": 54,
      "metadata": {
        "id": "lrxLxGf0Rr4G",
        "outputId": "f823f91b-e5c6-4820-971a-13eb0b643884",
        "colab": {
          "base_uri": "https://localhost:8080/"
        }
      },
      "outputs": [
        {
          "output_type": "stream",
          "name": "stdout",
          "text": [
            "135326207752112\n"
          ]
        }
      ],
      "source": [
        "b='def'\n",
        "print(id(b))"
      ]
    },
    {
      "cell_type": "code",
      "execution_count": 55,
      "metadata": {
        "id": "2RX378Q4Rr4G",
        "outputId": "f6d33f93-bc03-49a6-fce8-fcab56de7b00",
        "colab": {
          "base_uri": "https://localhost:8080/",
          "height": 34
        }
      },
      "outputs": [
        {
          "output_type": "execute_result",
          "data": {
            "text/plain": [
              "'abcdef'"
            ],
            "application/vnd.google.colaboratory.intrinsic+json": {
              "type": "string"
            }
          },
          "metadata": {},
          "execution_count": 55
        }
      ],
      "source": [
        "a=a+b\n",
        "a"
      ]
    },
    {
      "cell_type": "code",
      "execution_count": 56,
      "metadata": {
        "id": "KOL9-6NARr4G",
        "outputId": "252a1b9c-1fce-4100-f2c3-c6f45333f299",
        "colab": {
          "base_uri": "https://localhost:8080/"
        }
      },
      "outputs": [
        {
          "output_type": "execute_result",
          "data": {
            "text/plain": [
              "135325914965808"
            ]
          },
          "metadata": {},
          "execution_count": 56
        }
      ],
      "source": [
        "id(a)"
      ]
    },
    {
      "cell_type": "markdown",
      "metadata": {
        "id": "6Ha8I2XjRr4G"
      },
      "source": [
        "# Tuple\n",
        "* A tuple is a fixed-length, immutable sequence of Python objects.\n",
        "* Tuple is immutable\n",
        "* (), where elements are seperated by comma.\n",
        "* The elements don't have to be the same type.\n",
        "* String is a special type of tuple."
      ]
    },
    {
      "cell_type": "code",
      "execution_count": 57,
      "metadata": {
        "colab": {
          "base_uri": "https://localhost:8080/"
        },
        "id": "_NWjx6jORr4G",
        "outputId": "248ac65b-927b-46a2-8a09-81a939bcf40d"
      },
      "outputs": [
        {
          "output_type": "stream",
          "name": "stdout",
          "text": [
            "('abc', 1234, 2.355, 'Cup')\n",
            "abc\n",
            "(1234, 2.355)\n",
            "(2.355, 'Cup')\n",
            "('good', 888, 'good', 888)\n",
            "('abc', 1234, 2.355, 'Cup', 'good', 888)\n"
          ]
        }
      ],
      "source": [
        "my_tuple = ('abc', 1234, 2.355, 'Cup')\n",
        "tinytuple = ('good', 888)\n",
        "print (my_tuple)\n",
        "print (my_tuple[0])\n",
        "print (my_tuple[1:3])\n",
        "print (my_tuple[2:])\n",
        "print (tinytuple * 2)\n",
        "print (my_tuple + tinytuple)"
      ]
    },
    {
      "cell_type": "code",
      "execution_count": 58,
      "metadata": {
        "scrolled": false,
        "colab": {
          "base_uri": "https://localhost:8080/",
          "height": 135
        },
        "id": "wwqDU-WkRr4G",
        "outputId": "65e2dacc-2cb1-4452-9406-8a5b9e24c383"
      },
      "outputs": [
        {
          "output_type": "error",
          "ename": "TypeError",
          "evalue": "'tuple' object does not support item assignment",
          "traceback": [
            "\u001b[0;31m---------------------------------------------------------------------------\u001b[0m",
            "\u001b[0;31mTypeError\u001b[0m                                 Traceback (most recent call last)",
            "\u001b[0;32m<ipython-input-58-3804773461>\u001b[0m in \u001b[0;36m<cell line: 0>\u001b[0;34m()\u001b[0m\n\u001b[0;32m----> 1\u001b[0;31m \u001b[0mmy_tuple\u001b[0m\u001b[0;34m[\u001b[0m\u001b[0;36m0\u001b[0m\u001b[0;34m]\u001b[0m \u001b[0;34m=\u001b[0m \u001b[0;34m'cde'\u001b[0m \u001b[0;31m#TypeError: 'tuple' object does not support item assignment\u001b[0m\u001b[0;34m\u001b[0m\u001b[0;34m\u001b[0m\u001b[0m\n\u001b[0m",
            "\u001b[0;31mTypeError\u001b[0m: 'tuple' object does not support item assignment"
          ]
        }
      ],
      "source": [
        "my_tuple[0] = 'cde' #TypeError: 'tuple' object does not support item assignment"
      ]
    },
    {
      "cell_type": "code",
      "execution_count": 59,
      "metadata": {
        "colab": {
          "base_uri": "https://localhost:8080/"
        },
        "id": "WCRgbVlJRr4H",
        "outputId": "3868b254-9bc4-4bf4-8aa8-9c0b5cd865e8"
      },
      "outputs": [
        {
          "output_type": "execute_result",
          "data": {
            "text/plain": [
              "(4, 5, 6)"
            ]
          },
          "metadata": {},
          "execution_count": 59
        }
      ],
      "source": [
        "tup = 4, 5, 6\n",
        "tup"
      ]
    },
    {
      "cell_type": "code",
      "execution_count": 60,
      "metadata": {
        "colab": {
          "base_uri": "https://localhost:8080/"
        },
        "id": "SzSinUJ1Rr4H",
        "outputId": "1f64678e-371a-4c24-b661-d6050a5379f7"
      },
      "outputs": [
        {
          "output_type": "execute_result",
          "data": {
            "text/plain": [
              "((4, 5, 6), (7, 8))"
            ]
          },
          "metadata": {},
          "execution_count": 60
        }
      ],
      "source": [
        "nested_tup = (4, 5, 6), (7, 8)\n",
        "nested_tup"
      ]
    },
    {
      "cell_type": "code",
      "execution_count": 61,
      "metadata": {
        "colab": {
          "base_uri": "https://localhost:8080/"
        },
        "id": "tSPmfdARRr4H",
        "outputId": "d69aeca5-e31b-477f-d493-af7c6ca3c5c5"
      },
      "outputs": [
        {
          "output_type": "stream",
          "name": "stdout",
          "text": [
            "(4, 0, 2)\n"
          ]
        },
        {
          "output_type": "execute_result",
          "data": {
            "text/plain": [
              "('a', 'b', 'c')"
            ]
          },
          "metadata": {},
          "execution_count": 61
        }
      ],
      "source": [
        "print(tuple([4, 0, 2]))\n",
        "tup = tuple('abc')\n",
        "tup"
      ]
    },
    {
      "cell_type": "code",
      "execution_count": 62,
      "metadata": {
        "colab": {
          "base_uri": "https://localhost:8080/"
        },
        "id": "MWd84vvkRr4H",
        "outputId": "b76eeaaa-bec7-455a-be9b-5ac6fa24c4e9"
      },
      "outputs": [
        {
          "output_type": "execute_result",
          "data": {
            "text/plain": [
              "True"
            ]
          },
          "metadata": {},
          "execution_count": 62
        }
      ],
      "source": [
        "'a' in ['a', 'b', 'c']"
      ]
    },
    {
      "cell_type": "code",
      "execution_count": 63,
      "metadata": {
        "colab": {
          "base_uri": "https://localhost:8080/"
        },
        "id": "DHu3XAFIRr4H",
        "outputId": "e14cbc47-b6e7-4b7f-b8b8-e6ef7403c141"
      },
      "outputs": [
        {
          "output_type": "execute_result",
          "data": {
            "text/plain": [
              "True"
            ]
          },
          "metadata": {},
          "execution_count": 63
        }
      ],
      "source": [
        "'a' in ('a', 'b', 'c')"
      ]
    },
    {
      "cell_type": "code",
      "execution_count": 64,
      "metadata": {
        "colab": {
          "base_uri": "https://localhost:8080/",
          "height": 34
        },
        "id": "HMyV0OpqRr4H",
        "outputId": "8a5f8fbf-74d8-49de-c6ad-9f76f28c99da"
      },
      "outputs": [
        {
          "output_type": "execute_result",
          "data": {
            "text/plain": [
              "'a'"
            ],
            "application/vnd.google.colaboratory.intrinsic+json": {
              "type": "string"
            }
          },
          "metadata": {},
          "execution_count": 64
        }
      ],
      "source": [
        "tup[0]"
      ]
    },
    {
      "cell_type": "code",
      "execution_count": 66,
      "metadata": {
        "scrolled": true,
        "colab": {
          "base_uri": "https://localhost:8080/",
          "height": 151
        },
        "id": "qEQniheJRr4H",
        "outputId": "b76f7796-75bd-4c22-bf21-113f9e87d844"
      },
      "outputs": [
        {
          "output_type": "error",
          "ename": "TypeError",
          "evalue": "'tuple' object does not support item assignment",
          "traceback": [
            "\u001b[0;31m---------------------------------------------------------------------------\u001b[0m",
            "\u001b[0;31mTypeError\u001b[0m                                 Traceback (most recent call last)",
            "\u001b[0;32m<ipython-input-66-2632982720>\u001b[0m in \u001b[0;36m<cell line: 0>\u001b[0;34m()\u001b[0m\n\u001b[1;32m      1\u001b[0m \u001b[0mtup\u001b[0m \u001b[0;34m=\u001b[0m \u001b[0mtuple\u001b[0m\u001b[0;34m(\u001b[0m\u001b[0;34m[\u001b[0m\u001b[0;34m'foo'\u001b[0m\u001b[0;34m,\u001b[0m \u001b[0;34m[\u001b[0m\u001b[0;36m1\u001b[0m\u001b[0;34m,\u001b[0m \u001b[0;36m2\u001b[0m\u001b[0;34m]\u001b[0m\u001b[0;34m,\u001b[0m \u001b[0;32mTrue\u001b[0m\u001b[0;34m]\u001b[0m\u001b[0;34m)\u001b[0m\u001b[0;34m\u001b[0m\u001b[0;34m\u001b[0m\u001b[0m\n\u001b[0;32m----> 2\u001b[0;31m \u001b[0mtup\u001b[0m\u001b[0;34m[\u001b[0m\u001b[0;36m1\u001b[0m\u001b[0;34m]\u001b[0m \u001b[0;34m=\u001b[0m \u001b[0;32mFalse\u001b[0m\u001b[0;34m\u001b[0m\u001b[0;34m\u001b[0m\u001b[0m\n\u001b[0m",
            "\u001b[0;31mTypeError\u001b[0m: 'tuple' object does not support item assignment"
          ]
        }
      ],
      "source": [
        "tup = tuple(['foo', [1, 2], True])\n",
        "tup[1] = False"
      ]
    },
    {
      "cell_type": "code",
      "execution_count": 67,
      "metadata": {
        "colab": {
          "base_uri": "https://localhost:8080/"
        },
        "id": "ixJWfQw1Rr4H",
        "outputId": "5f3a2907-239c-4eb5-b14f-c45dca1e98b9"
      },
      "outputs": [
        {
          "output_type": "execute_result",
          "data": {
            "text/plain": [
              "('foo', [1, 2], True)"
            ]
          },
          "metadata": {},
          "execution_count": 67
        }
      ],
      "source": [
        "tup # conceptually, tup = (address1, address2, address3)"
      ]
    },
    {
      "cell_type": "code",
      "execution_count": 296,
      "metadata": {
        "colab": {
          "base_uri": "https://localhost:8080/",
          "height": 135
        },
        "id": "pCtEKJQ1Rr4H",
        "outputId": "5aa06196-42f3-44ac-8b37-a2ecc52efc35"
      },
      "outputs": [
        {
          "output_type": "error",
          "ename": "TypeError",
          "evalue": "'tuple' object does not support item assignment",
          "traceback": [
            "\u001b[0;31m---------------------------------------------------------------------------\u001b[0m",
            "\u001b[0;31mTypeError\u001b[0m                                 Traceback (most recent call last)",
            "\u001b[0;32m<ipython-input-296-753709214>\u001b[0m in \u001b[0;36m<cell line: 0>\u001b[0;34m()\u001b[0m\n\u001b[0;32m----> 1\u001b[0;31m \u001b[0mtup\u001b[0m\u001b[0;34m[\u001b[0m\u001b[0;36m1\u001b[0m\u001b[0;34m]\u001b[0m \u001b[0;34m=\u001b[0m \u001b[0;32mFalse\u001b[0m \u001b[0;31m#change address2 to address of value \"False\"\u001b[0m\u001b[0;34m\u001b[0m\u001b[0;34m\u001b[0m\u001b[0m\n\u001b[0m",
            "\u001b[0;31mTypeError\u001b[0m: 'tuple' object does not support item assignment"
          ]
        }
      ],
      "source": [
        "tup[1] = False #change address2 to address of value \"False\""
      ]
    },
    {
      "cell_type": "code",
      "execution_count": 69,
      "metadata": {
        "colab": {
          "base_uri": "https://localhost:8080/"
        },
        "id": "ObOAQxFPRr4H",
        "outputId": "1a945ece-e952-4eb4-f890-353c5f2ee11d"
      },
      "outputs": [
        {
          "output_type": "execute_result",
          "data": {
            "text/plain": [
              "('foo', [1, 2, 3], True)"
            ]
          },
          "metadata": {},
          "execution_count": 69
        }
      ],
      "source": [
        "tup[1].append(3)\n",
        "tup"
      ]
    },
    {
      "cell_type": "code",
      "execution_count": 70,
      "metadata": {
        "colab": {
          "base_uri": "https://localhost:8080/"
        },
        "id": "unENXFiqRr4I",
        "outputId": "cdeff741-674f-486d-b8c3-d8925783f0bc"
      },
      "outputs": [
        {
          "output_type": "execute_result",
          "data": {
            "text/plain": [
              "{0: 0}"
            ]
          },
          "metadata": {},
          "execution_count": 70
        }
      ],
      "source": [
        "x={}\n",
        "x[0]=0\n",
        "x"
      ]
    },
    {
      "cell_type": "code",
      "execution_count": 71,
      "metadata": {
        "colab": {
          "base_uri": "https://localhost:8080/"
        },
        "id": "EXaAtq61Rr4I",
        "outputId": "9ee76416-649d-4b0a-ae4c-3f3537525b8a"
      },
      "outputs": [
        {
          "output_type": "execute_result",
          "data": {
            "text/plain": [
              "('foo', (1, 2), True)"
            ]
          },
          "metadata": {},
          "execution_count": 71
        }
      ],
      "source": [
        "tup=('foo', (1, 2), True)\n",
        "tup"
      ]
    },
    {
      "cell_type": "code",
      "execution_count": 72,
      "metadata": {
        "colab": {
          "base_uri": "https://localhost:8080/"
        },
        "id": "EwDG2lEZRr4I",
        "outputId": "730ec6ad-b17b-4d6a-efd1-22b26b7675e7"
      },
      "outputs": [
        {
          "output_type": "execute_result",
          "data": {
            "text/plain": [
              "('foo', [1, 2, 3, 4], True)"
            ]
          },
          "metadata": {},
          "execution_count": 72
        }
      ],
      "source": [
        "('foo', [1, 2], True)\n",
        "('foo', [1, 2, 3], True)\n",
        "('foo', [1, 2, 3, 4], True)"
      ]
    },
    {
      "cell_type": "code",
      "execution_count": 73,
      "metadata": {
        "id": "joP9IOoHRr4I"
      },
      "outputs": [],
      "source": [
        "x[tup]=1"
      ]
    },
    {
      "cell_type": "code",
      "execution_count": 74,
      "metadata": {
        "colab": {
          "base_uri": "https://localhost:8080/"
        },
        "id": "DAbsvZGkRr4I",
        "outputId": "c6f65ecf-96e7-4dfe-c23f-9ae68c912ed0"
      },
      "outputs": [
        {
          "output_type": "execute_result",
          "data": {
            "text/plain": [
              "{0: 0, ('foo', (1, 2), True): 1}"
            ]
          },
          "metadata": {},
          "execution_count": 74
        }
      ],
      "source": [
        "x"
      ]
    },
    {
      "cell_type": "code",
      "execution_count": 75,
      "metadata": {
        "colab": {
          "base_uri": "https://localhost:8080/"
        },
        "id": "8ZyX0TbmRr4I",
        "outputId": "39545682-c8c7-447c-b46c-42649869c712"
      },
      "outputs": [
        {
          "output_type": "execute_result",
          "data": {
            "text/plain": [
              "(4, None, 'foo', 6, 0, 'bar')"
            ]
          },
          "metadata": {},
          "execution_count": 75
        }
      ],
      "source": [
        "(4, None, 'foo') + (6, 0) + ('bar',)"
      ]
    },
    {
      "cell_type": "code",
      "execution_count": 76,
      "metadata": {
        "colab": {
          "base_uri": "https://localhost:8080/"
        },
        "id": "9tnk4PyuRr4I",
        "outputId": "95f7db1b-656e-4b8f-e991-39b2cfee695c"
      },
      "outputs": [
        {
          "output_type": "execute_result",
          "data": {
            "text/plain": [
              "('foo', 'bar', 'foo', 'bar', 'foo', 'bar', 'foo', 'bar')"
            ]
          },
          "metadata": {},
          "execution_count": 76
        }
      ],
      "source": [
        "('foo', 'bar') * 4"
      ]
    },
    {
      "cell_type": "markdown",
      "metadata": {
        "id": "jqN0cqD7Rr4I"
      },
      "source": [
        "#### Unpacking tuples"
      ]
    },
    {
      "cell_type": "code",
      "execution_count": 77,
      "metadata": {
        "colab": {
          "base_uri": "https://localhost:8080/"
        },
        "id": "P0ROi_GORr4I",
        "outputId": "8ed2262e-dd46-4ae9-a91c-3a6e161cfe7d"
      },
      "outputs": [
        {
          "output_type": "execute_result",
          "data": {
            "text/plain": [
              "5"
            ]
          },
          "metadata": {},
          "execution_count": 77
        }
      ],
      "source": [
        "tup = (4, 5, 6)\n",
        "a, b, c = tup\n",
        "b"
      ]
    },
    {
      "cell_type": "code",
      "execution_count": 78,
      "metadata": {
        "colab": {
          "base_uri": "https://localhost:8080/"
        },
        "id": "GkmMc1g0Rr4I",
        "outputId": "a33aecc5-5f9b-4835-97d2-89b89da1f403"
      },
      "outputs": [
        {
          "output_type": "execute_result",
          "data": {
            "text/plain": [
              "7"
            ]
          },
          "metadata": {},
          "execution_count": 78
        }
      ],
      "source": [
        "tup = 4, 5, (6, 7)\n",
        "a, b, (c, d) = tup\n",
        "d"
      ]
    },
    {
      "cell_type": "code",
      "execution_count": 79,
      "metadata": {
        "id": "tW_OjXu2Rr4I"
      },
      "outputs": [],
      "source": [
        "tmp = a\n",
        "a = b\n",
        "b = tmp"
      ]
    },
    {
      "cell_type": "code",
      "execution_count": 80,
      "metadata": {
        "colab": {
          "base_uri": "https://localhost:8080/"
        },
        "id": "mhc4L7LiRr4I",
        "outputId": "17a7113e-099d-4e28-8807-c98dc03d7c35"
      },
      "outputs": [
        {
          "output_type": "stream",
          "name": "stdout",
          "text": [
            "1 2\n",
            "2 1\n"
          ]
        }
      ],
      "source": [
        "a, b = 1, 2\n",
        "print(a,b)\n",
        "b, a = a, b\n",
        "print(a, b)"
      ]
    },
    {
      "cell_type": "code",
      "execution_count": 81,
      "metadata": {
        "colab": {
          "base_uri": "https://localhost:8080/"
        },
        "id": "c28SoccGRr4J",
        "outputId": "47dd3d03-1581-4bd2-b961-926717716d7e"
      },
      "outputs": [
        {
          "output_type": "stream",
          "name": "stdout",
          "text": [
            "a=1, b=2, c=3\n",
            "a=4, b=5, c=6\n",
            "a=7, b=8, c=9\n"
          ]
        }
      ],
      "source": [
        "seq = [(1, 2, 3), (4, 5, 6), (7, 8, 9)]\n",
        "for a, b, c in seq:\n",
        "    print('a={0}, b={1}, c={2}'.format(a, b, c))"
      ]
    },
    {
      "cell_type": "code",
      "execution_count": 82,
      "metadata": {
        "colab": {
          "base_uri": "https://localhost:8080/"
        },
        "id": "18RTTmp8Rr4J",
        "outputId": "77a2549b-d248-4e10-bb98-332589402701"
      },
      "outputs": [
        {
          "output_type": "stream",
          "name": "stdout",
          "text": [
            "1 2\n",
            "[3, 4, 5]\n"
          ]
        }
      ],
      "source": [
        "values = 1, 2, 3, 4, 5\n",
        "a, b, *rest = values\n",
        "print(a, b)\n",
        "print(rest)"
      ]
    },
    {
      "cell_type": "code",
      "execution_count": 83,
      "metadata": {
        "id": "XATLn-19Rr4J"
      },
      "outputs": [],
      "source": [
        "list_values=[1,2,3]\n",
        "head, *list_values=list_values"
      ]
    },
    {
      "cell_type": "code",
      "execution_count": 84,
      "metadata": {
        "colab": {
          "base_uri": "https://localhost:8080/"
        },
        "id": "kW2m3nFVRr4J",
        "outputId": "b6ff0276-8387-457a-f97f-e5932c78fdde"
      },
      "outputs": [
        {
          "output_type": "execute_result",
          "data": {
            "text/plain": [
              "1"
            ]
          },
          "metadata": {},
          "execution_count": 84
        }
      ],
      "source": [
        "head"
      ]
    },
    {
      "cell_type": "code",
      "execution_count": 85,
      "metadata": {
        "colab": {
          "base_uri": "https://localhost:8080/"
        },
        "id": "s00N0--WRr4J",
        "outputId": "57d77969-b5a0-4d5f-da41-dfa397bda591"
      },
      "outputs": [
        {
          "output_type": "execute_result",
          "data": {
            "text/plain": [
              "[2, 3]"
            ]
          },
          "metadata": {},
          "execution_count": 85
        }
      ],
      "source": [
        "list_values"
      ]
    },
    {
      "cell_type": "code",
      "execution_count": 86,
      "metadata": {
        "id": "f6ouvKFuRr4J"
      },
      "outputs": [],
      "source": [
        "def myprod(values):\n",
        "    if len(values)==1:\n",
        "        return values[0]\n",
        "    head, *values=values\n",
        "    print(head, values)\n",
        "    return head*myprod(values)"
      ]
    },
    {
      "cell_type": "code",
      "execution_count": 87,
      "metadata": {
        "colab": {
          "base_uri": "https://localhost:8080/"
        },
        "id": "NXWHWLAuRr4J",
        "outputId": "a3d9bfb1-dd03-4e04-d209-6c3db2616ffc"
      },
      "outputs": [
        {
          "output_type": "stream",
          "name": "stdout",
          "text": [
            "1 [2, 3, 4, 5]\n",
            "2 [3, 4, 5]\n",
            "3 [4, 5]\n",
            "4 [5]\n"
          ]
        },
        {
          "output_type": "execute_result",
          "data": {
            "text/plain": [
              "120"
            ]
          },
          "metadata": {},
          "execution_count": 87
        }
      ],
      "source": [
        "myprod(list(range(1,6)))"
      ]
    },
    {
      "cell_type": "code",
      "execution_count": 88,
      "metadata": {
        "colab": {
          "base_uri": "https://localhost:8080/"
        },
        "id": "NMc5yOj9Rr4J",
        "outputId": "94345dad-d47a-4303-f1d7-f44ddca076e5"
      },
      "outputs": [
        {
          "output_type": "execute_result",
          "data": {
            "text/plain": [
              "[1, 2, 3, 4, 5]"
            ]
          },
          "metadata": {},
          "execution_count": 88
        }
      ],
      "source": [
        "list(range(1,6))"
      ]
    },
    {
      "cell_type": "code",
      "execution_count": 89,
      "metadata": {
        "colab": {
          "base_uri": "https://localhost:8080/"
        },
        "id": "dZmO574uRr4J",
        "outputId": "aa4d244a-287c-4c05-ad19-d96417fb975b"
      },
      "outputs": [
        {
          "output_type": "execute_result",
          "data": {
            "text/plain": [
              "120"
            ]
          },
          "metadata": {},
          "execution_count": 89
        }
      ],
      "source": [
        "2*3*4*5"
      ]
    },
    {
      "cell_type": "code",
      "execution_count": 90,
      "metadata": {
        "colab": {
          "base_uri": "https://localhost:8080/"
        },
        "id": "vgh2AHa_Rr4J",
        "outputId": "62920991-156a-4809-d923-f76beb7435b6"
      },
      "outputs": [
        {
          "output_type": "execute_result",
          "data": {
            "text/plain": [
              "5"
            ]
          },
          "metadata": {},
          "execution_count": 90
        }
      ],
      "source": [
        "head, *rest, tail=values\n",
        "tail"
      ]
    },
    {
      "cell_type": "code",
      "execution_count": 91,
      "metadata": {
        "colab": {
          "base_uri": "https://localhost:8080/"
        },
        "id": "OdYLrK_dRr4J",
        "outputId": "3081df82-943f-4955-eee4-a0bc1a9a3ebb"
      },
      "outputs": [
        {
          "output_type": "execute_result",
          "data": {
            "text/plain": [
              "[2, 3, 4]"
            ]
          },
          "metadata": {},
          "execution_count": 91
        }
      ],
      "source": [
        "rest"
      ]
    },
    {
      "cell_type": "code",
      "execution_count": 92,
      "metadata": {
        "colab": {
          "base_uri": "https://localhost:8080/"
        },
        "id": "E6L-nOINRr4J",
        "outputId": "9974bf2a-d246-4f16-a728-4365cd3601fd"
      },
      "outputs": [
        {
          "output_type": "stream",
          "name": "stdout",
          "text": [
            "1 5\n"
          ]
        }
      ],
      "source": [
        "head, *_, tail = values\n",
        "print(head, tail)"
      ]
    },
    {
      "cell_type": "code",
      "execution_count": 93,
      "metadata": {
        "colab": {
          "base_uri": "https://localhost:8080/"
        },
        "id": "9kkeV6bPRr4K",
        "outputId": "b0a66734-e64e-450f-d060-eeb7de8b6b8d"
      },
      "outputs": [
        {
          "output_type": "stream",
          "name": "stdout",
          "text": [
            "1 2\n"
          ]
        }
      ],
      "source": [
        "a, b, *_ = values\n",
        "print(a, b)"
      ]
    },
    {
      "cell_type": "markdown",
      "metadata": {
        "id": "XnL-fQ0sRr4K"
      },
      "source": [
        "#### Tuple methods"
      ]
    },
    {
      "cell_type": "code",
      "execution_count": 94,
      "metadata": {
        "colab": {
          "base_uri": "https://localhost:8080/"
        },
        "id": "OMTV3JRCRr4K",
        "outputId": "7319a189-1c98-432d-dbf9-865fa45b59bc"
      },
      "outputs": [
        {
          "output_type": "execute_result",
          "data": {
            "text/plain": [
              "5"
            ]
          },
          "metadata": {},
          "execution_count": 94
        }
      ],
      "source": [
        "a = (1, 2, 2, 2, 3, 4, 2)\n",
        "a.count(2)\n",
        "a.index(4)"
      ]
    },
    {
      "cell_type": "markdown",
      "metadata": {
        "id": "wSoffTicRr4K"
      },
      "source": [
        "# List\n",
        "* List is the most used data structure in Python. It is the building block for other more complex data structure such as Matrix, DataFrame, etc.\n",
        "* List may contain different types or even nested lists.\n",
        "* [], with elements seperated by comma\n",
        "* same slicing rules as string and tuple\n",
        "\n",
        "* index starts with 0\n",
        "* -1 is the end\n",
        "* \\+ and *"
      ]
    },
    {
      "cell_type": "code",
      "execution_count": 95,
      "metadata": {
        "colab": {
          "base_uri": "https://localhost:8080/"
        },
        "id": "GwtLdeLvRr4K",
        "outputId": "4857fce2-593b-4e16-b2ca-6e4ae22fdacc"
      },
      "outputs": [
        {
          "output_type": "execute_result",
          "data": {
            "text/plain": [
              "['foo', 'peekaboo', 'baz']"
            ]
          },
          "metadata": {},
          "execution_count": 95
        }
      ],
      "source": [
        "a_list = [2, 3, 7, None, \"test\"]\n",
        "tup = ('foo', 'bar', 'baz')\n",
        "b_list = list(tup)\n",
        "b_list\n",
        "b_list[1] = 'peekaboo'\n",
        "b_list"
      ]
    },
    {
      "cell_type": "code",
      "execution_count": 96,
      "metadata": {
        "colab": {
          "base_uri": "https://localhost:8080/"
        },
        "id": "pT-WicTBRr4K",
        "outputId": "c37cc1c4-05d3-4baa-eec3-c8d4d1b798b7"
      },
      "outputs": [
        {
          "output_type": "execute_result",
          "data": {
            "text/plain": [
              "range(0, 10000)"
            ]
          },
          "metadata": {},
          "execution_count": 96
        }
      ],
      "source": [
        "range(10000)"
      ]
    },
    {
      "cell_type": "code",
      "execution_count": 97,
      "metadata": {
        "scrolled": true,
        "colab": {
          "base_uri": "https://localhost:8080/"
        },
        "id": "ahXSGHinRr4K",
        "outputId": "b2a6ff0b-6736-421e-b7be-851720ffeaaf"
      },
      "outputs": [
        {
          "output_type": "stream",
          "name": "stdout",
          "text": [
            "range(0, 10)\n",
            "0\n",
            "1\n",
            "2\n",
            "3\n",
            "4\n",
            "5\n",
            "6\n",
            "7\n",
            "8\n",
            "9\n"
          ]
        }
      ],
      "source": [
        "gen = range(10)\n",
        "print(gen)\n",
        "# list(gen)\n",
        "for i in gen:\n",
        "    print(i)"
      ]
    },
    {
      "cell_type": "code",
      "execution_count": 98,
      "metadata": {
        "colab": {
          "base_uri": "https://localhost:8080/"
        },
        "id": "TyvmzwCXRr4K",
        "outputId": "6ce1d688-8f91-475f-afa1-5e8de5c42f4b"
      },
      "outputs": [
        {
          "output_type": "stream",
          "name": "stdout",
          "text": [
            "a\n",
            "b\n",
            "c\n"
          ]
        }
      ],
      "source": [
        "mylist=['a', 'b', 'c']\n",
        "for i in range(len(mylist)):\n",
        "    print(mylist[i])"
      ]
    },
    {
      "cell_type": "code",
      "execution_count": 99,
      "metadata": {
        "colab": {
          "base_uri": "https://localhost:8080/"
        },
        "id": "_FS7VbdFRr4K",
        "outputId": "f3c6daea-b8d3-424e-896b-5e9665b8541f"
      },
      "outputs": [
        {
          "output_type": "execute_result",
          "data": {
            "text/plain": [
              "[(0, 'a'), (1, 'b'), (2, 'c')]"
            ]
          },
          "metadata": {},
          "execution_count": 99
        }
      ],
      "source": [
        "list(enumerate(mylist))"
      ]
    },
    {
      "cell_type": "code",
      "execution_count": 100,
      "metadata": {
        "colab": {
          "base_uri": "https://localhost:8080/"
        },
        "id": "LD41e_S1Rr4K",
        "outputId": "3bcd7090-c96a-4f4d-8653-487bc2460eb1"
      },
      "outputs": [
        {
          "output_type": "stream",
          "name": "stdout",
          "text": [
            "0 a\n",
            "1 b\n",
            "2 c\n"
          ]
        }
      ],
      "source": [
        "for i, value in enumerate(mylist):\n",
        "    print(i, value)"
      ]
    },
    {
      "cell_type": "code",
      "execution_count": 101,
      "metadata": {
        "scrolled": true,
        "colab": {
          "base_uri": "https://localhost:8080/"
        },
        "id": "bFG2sf-2Rr4K",
        "outputId": "b6398fcc-eee3-4cd2-b92c-aa8e23697e5e"
      },
      "outputs": [
        {
          "output_type": "stream",
          "name": "stdout",
          "text": [
            "[1, 2]\n",
            "[2, 'Jack', 3.14]\n",
            "[2, 'Jack']\n",
            "[4, 'Chris', 4, 'Chris']\n",
            "['David', 1, 2, 'Jack', 3.14, 4, 'Chris']\n",
            "===================\n",
            "0 David\n",
            "1 1\n",
            "2 2\n",
            "3 Jack\n",
            "4 3.14\n",
            "0 David\n",
            "1 1\n",
            "2 2\n",
            "3 Jack\n",
            "4 3.14\n",
            "['David', 1, 2, 'Jack', 3.14, 4, 'Chris']\n"
          ]
        }
      ],
      "source": [
        "mylist = ['David', 1, 2, 'Jack', 3.14]\n",
        "tinylist = [4, 'Chris']\n",
        "#print(list)\n",
        "#print(list[0])\n",
        "print(mylist[1:3])\n",
        "print(mylist[2:])\n",
        "print(mylist[2:-1])\n",
        "print(tinylist * 2)\n",
        "print(mylist + tinylist)\n",
        "print(\"===================\")\n",
        "# enumerate(list), add index to element to make a pair (index, value)\n",
        "for index, value in enumerate(mylist):\n",
        "    print(index, value)\n",
        "\n",
        "count = 0\n",
        "for value in mylist:\n",
        "    print(count, value)\n",
        "    count += 1\n",
        "\n",
        "mylist.extend(tinylist)\n",
        "print(mylist)"
      ]
    },
    {
      "cell_type": "code",
      "execution_count": 102,
      "metadata": {
        "colab": {
          "base_uri": "https://localhost:8080/"
        },
        "id": "sOK-LMG7Rr4K",
        "outputId": "d8ce3310-755d-415a-d324-62fc1b443af7"
      },
      "outputs": [
        {
          "output_type": "execute_result",
          "data": {
            "text/plain": [
              "[(0, 'David'), (1, 1), (2, 2), (3, 'Jack'), (4, 3.14), (5, 4), (6, 'Chris')]"
            ]
          },
          "metadata": {},
          "execution_count": 102
        }
      ],
      "source": [
        "list(enumerate(mylist))"
      ]
    },
    {
      "cell_type": "code",
      "execution_count": 103,
      "metadata": {
        "colab": {
          "base_uri": "https://localhost:8080/"
        },
        "id": "RWwD1xdWRr4K",
        "outputId": "48f545ac-7f6e-4752-f8ed-7424aaff254e"
      },
      "outputs": [
        {
          "output_type": "execute_result",
          "data": {
            "text/plain": [
              "[(0, 'a'), (1, 'b'), (2, 'c')]"
            ]
          },
          "metadata": {},
          "execution_count": 103
        }
      ],
      "source": [
        "list(enumerate(['a','b','c']))"
      ]
    },
    {
      "cell_type": "markdown",
      "metadata": {
        "id": "w5BtCXVkRr4L"
      },
      "source": [
        "#### append (without flatten) vs extend (flatten then append)"
      ]
    },
    {
      "cell_type": "code",
      "execution_count": 105,
      "metadata": {
        "colab": {
          "base_uri": "https://localhost:8080/"
        },
        "id": "JAQvK4aPRr4L",
        "outputId": "12378526-38fd-4855-f1da-e297d5fd0414"
      },
      "outputs": [
        {
          "output_type": "stream",
          "name": "stdout",
          "text": [
            "['David', 1, 2, 'Jack', 3.14, 4, 'Chris', 'add', 'add']\n"
          ]
        }
      ],
      "source": [
        "add_member = 'add'\n",
        "mylist.append(add_member)\n",
        "print(mylist)"
      ]
    },
    {
      "cell_type": "code",
      "execution_count": 106,
      "metadata": {
        "colab": {
          "base_uri": "https://localhost:8080/"
        },
        "id": "huy89GotRr4L",
        "outputId": "d24ba45b-7233-4a8b-9981-c84bac6adfc3"
      },
      "outputs": [
        {
          "output_type": "stream",
          "name": "stdout",
          "text": [
            "['David', 1, 2, 'Jack', 3.14, 4, 'Chris', 'add', 'add', [1, 23]]\n"
          ]
        }
      ],
      "source": [
        "mylist.append([1,23])\n",
        "print(mylist)"
      ]
    },
    {
      "cell_type": "code",
      "execution_count": 107,
      "metadata": {
        "colab": {
          "base_uri": "https://localhost:8080/"
        },
        "id": "ACY9U5u6Rr4L",
        "outputId": "2fb37e00-9cb1-4429-c44e-c23ac47e8d95"
      },
      "outputs": [
        {
          "output_type": "stream",
          "name": "stdout",
          "text": [
            "['David', 1, 2, 'Jack', 3.14, 4, 'Chris', 'add', 'add', [1, 23], 1, 23]\n"
          ]
        }
      ],
      "source": [
        "mylist.extend([1,23])\n",
        "print(mylist)"
      ]
    },
    {
      "cell_type": "markdown",
      "metadata": {
        "id": "zH25m_tbRr4L"
      },
      "source": [
        "#### unlike string, the list is mutable"
      ]
    },
    {
      "cell_type": "code",
      "execution_count": 124,
      "metadata": {
        "colab": {
          "base_uri": "https://localhost:8080/"
        },
        "id": "dIQzoV0zRr4L",
        "outputId": "e7f6a794-b40e-4daf-9aee-93623c13ed18"
      },
      "outputs": [
        {
          "output_type": "execute_result",
          "data": {
            "text/plain": [
              "['red', 'baz', 'dwarf', 'foo', 'dwarf']"
            ]
          },
          "metadata": {},
          "execution_count": 124
        }
      ],
      "source": [
        "b_list.append('dwarf')\n",
        "b_list"
      ]
    },
    {
      "cell_type": "code",
      "execution_count": 125,
      "metadata": {
        "colab": {
          "base_uri": "https://localhost:8080/"
        },
        "id": "JDrIcFyVRr4L",
        "outputId": "1eaffd4e-1ffa-4d4c-fd7a-528c091f3810"
      },
      "outputs": [
        {
          "output_type": "execute_result",
          "data": {
            "text/plain": [
              "['red', 'red', 'baz', 'dwarf', 'foo', 'dwarf']"
            ]
          },
          "metadata": {},
          "execution_count": 125
        }
      ],
      "source": [
        "b_list.insert(1, 'red')\n",
        "b_list"
      ]
    },
    {
      "cell_type": "code",
      "execution_count": 126,
      "metadata": {
        "colab": {
          "base_uri": "https://localhost:8080/"
        },
        "id": "wbnqQyI1Rr4L",
        "outputId": "08d1fb3c-d416-473c-cdb4-d165e41585c4"
      },
      "outputs": [
        {
          "output_type": "execute_result",
          "data": {
            "text/plain": [
              "['red', 'red', 'dwarf', 'foo', 'dwarf']"
            ]
          },
          "metadata": {},
          "execution_count": 126
        }
      ],
      "source": [
        "b_list.pop(2)\n",
        "b_list"
      ]
    },
    {
      "cell_type": "code",
      "execution_count": 127,
      "metadata": {
        "colab": {
          "base_uri": "https://localhost:8080/"
        },
        "id": "27hyzxllRr4L",
        "outputId": "8ed5cf88-9882-4212-b7d0-bc8d6886ff4b"
      },
      "outputs": [
        {
          "output_type": "execute_result",
          "data": {
            "text/plain": [
              "['red', 'red', 'dwarf', 'dwarf', 'foo']"
            ]
          },
          "metadata": {},
          "execution_count": 127
        }
      ],
      "source": [
        "b_list.append('foo')\n",
        "b_list\n",
        "b_list.remove('foo')\n",
        "b_list"
      ]
    },
    {
      "cell_type": "code",
      "execution_count": 128,
      "metadata": {
        "colab": {
          "base_uri": "https://localhost:8080/"
        },
        "id": "DkJz9ECfRr4L",
        "outputId": "1ea46fd2-d32a-4c3e-ab30-fae1708cd5bb"
      },
      "outputs": [
        {
          "output_type": "execute_result",
          "data": {
            "text/plain": [
              "True"
            ]
          },
          "metadata": {},
          "execution_count": 128
        }
      ],
      "source": [
        "'dwarf' in b_list"
      ]
    },
    {
      "cell_type": "code",
      "execution_count": 129,
      "metadata": {
        "colab": {
          "base_uri": "https://localhost:8080/"
        },
        "id": "dyC4ardFRr4L",
        "outputId": "23a9f575-b240-4663-82e9-312d5fb004bb"
      },
      "outputs": [
        {
          "output_type": "execute_result",
          "data": {
            "text/plain": [
              "False"
            ]
          },
          "metadata": {},
          "execution_count": 129
        }
      ],
      "source": [
        "'dwarf' not in b_list"
      ]
    },
    {
      "cell_type": "code",
      "execution_count": 130,
      "metadata": {
        "colab": {
          "base_uri": "https://localhost:8080/"
        },
        "id": "YwqjG2JBRr4L",
        "outputId": "6a9d28dc-c18a-410f-b9ac-2533716f0deb"
      },
      "outputs": [
        {
          "output_type": "stream",
          "name": "stdout",
          "text": [
            "[1, 2, 3, 4, 5, 6]\n"
          ]
        }
      ],
      "source": [
        "numberlist = [1, 2, 3, 4, 5, 6]\n",
        "print(numberlist)"
      ]
    },
    {
      "cell_type": "code",
      "execution_count": 131,
      "metadata": {
        "colab": {
          "base_uri": "https://localhost:8080/"
        },
        "id": "8_mxewT1Rr4M",
        "outputId": "6680f1fb-9412-464e-a216-533d3f239c4c"
      },
      "outputs": [
        {
          "output_type": "stream",
          "name": "stdout",
          "text": [
            "[9, 2, 3, 4, 5, 6]\n"
          ]
        }
      ],
      "source": [
        "numberlist[0] = 9\n",
        "print(numberlist)"
      ]
    },
    {
      "cell_type": "code",
      "execution_count": 132,
      "metadata": {
        "colab": {
          "base_uri": "https://localhost:8080/"
        },
        "id": "1l-b2zjyRr4M",
        "outputId": "757ca699-ed01-4dcc-81ab-fc96ad47363e"
      },
      "outputs": [
        {
          "output_type": "stream",
          "name": "stdout",
          "text": [
            "[9, 2, 13, 14, 15, 6]\n"
          ]
        }
      ],
      "source": [
        "numberlist[2: 5] = [13, 14, 15]\n",
        "print(numberlist)"
      ]
    },
    {
      "cell_type": "code",
      "execution_count": 133,
      "metadata": {
        "colab": {
          "base_uri": "https://localhost:8080/"
        },
        "id": "2_-mZy-bRr4M",
        "outputId": "114fe73a-9aee-4185-a1a2-c5f00e2f073f"
      },
      "outputs": [
        {
          "output_type": "stream",
          "name": "stdout",
          "text": [
            "[9, 2, 6]\n"
          ]
        }
      ],
      "source": [
        "numberlist[2:5] = []\n",
        "print(numberlist)"
      ]
    },
    {
      "cell_type": "code",
      "execution_count": 134,
      "metadata": {
        "colab": {
          "base_uri": "https://localhost:8080/"
        },
        "id": "U1RFfthLRr4M",
        "outputId": "68916ec6-e2a6-4e1f-c4c5-ec0feaa3934d"
      },
      "outputs": [
        {
          "output_type": "stream",
          "name": "stdout",
          "text": [
            "[9, 2, 6, 9, 9, 9]\n"
          ]
        }
      ],
      "source": [
        "numberlist.extend([9,9,9])\n",
        "print(numberlist)"
      ]
    },
    {
      "cell_type": "code",
      "execution_count": 135,
      "metadata": {
        "colab": {
          "base_uri": "https://localhost:8080/"
        },
        "id": "ZBCgQzaSRr4M",
        "outputId": "f85940e4-afa3-4d94-8803-38457235104d"
      },
      "outputs": [
        {
          "output_type": "stream",
          "name": "stdout",
          "text": [
            "after remove 9 [2, 6, 9, 9, 9]\n"
          ]
        }
      ],
      "source": [
        "# remove the first occurance\n",
        "numberlist.remove(9)\n",
        "print('after remove 9', numberlist)"
      ]
    },
    {
      "cell_type": "code",
      "execution_count": 136,
      "metadata": {
        "colab": {
          "base_uri": "https://localhost:8080/"
        },
        "id": "eIcV0jIfRr4M",
        "outputId": "95fbd48e-98ee-4b28-904a-8c2861786560"
      },
      "outputs": [
        {
          "output_type": "stream",
          "name": "stdout",
          "text": [
            "popped value:  2\n",
            "after pop 0:  [6, 9, 9, 9]\n"
          ]
        }
      ],
      "source": [
        "# numberlist.remove(100)\n",
        "# remove by index\n",
        "popvalue = numberlist.pop(0)\n",
        "print(\"popped value: \", popvalue)\n",
        "print(\"after pop 0: \", numberlist)"
      ]
    },
    {
      "cell_type": "code",
      "execution_count": 137,
      "metadata": {
        "colab": {
          "base_uri": "https://localhost:8080/"
        },
        "id": "JYQcxRdKRr4M",
        "outputId": "e73c8805-5de5-4a7c-e574-49b5413474de"
      },
      "outputs": [
        {
          "output_type": "stream",
          "name": "stdout",
          "text": [
            "[1, 2, 3, 4]\n",
            "[1, 2]\n",
            "[3, 4]\n"
          ]
        }
      ],
      "source": [
        "mylist = [1,2]\n",
        "yourlist = [3,4]\n",
        "print(mylist  + yourlist)\n",
        "print(mylist)\n",
        "print(yourlist)"
      ]
    },
    {
      "cell_type": "code",
      "execution_count": 138,
      "metadata": {
        "colab": {
          "base_uri": "https://localhost:8080/"
        },
        "id": "41Cwxua6Rr4M",
        "outputId": "da8f2d62-a71b-4b2a-9079-22b7c057a16c"
      },
      "outputs": [
        {
          "output_type": "stream",
          "name": "stdout",
          "text": [
            "[1, 2, 3, 4]\n",
            "[3, 4]\n"
          ]
        }
      ],
      "source": [
        "mylist.extend(yourlist)\n",
        "print(mylist)\n",
        "print(yourlist)"
      ]
    },
    {
      "cell_type": "markdown",
      "metadata": {
        "id": "qyusbkwURr4M"
      },
      "source": [
        "help(list) to show all built-in functions"
      ]
    },
    {
      "cell_type": "code",
      "execution_count": 139,
      "metadata": {
        "colab": {
          "base_uri": "https://localhost:8080/"
        },
        "id": "NqOtiwNrRr4M",
        "outputId": "c89e3321-d967-46d3-92f5-53cc4cba225f"
      },
      "outputs": [
        {
          "output_type": "stream",
          "name": "stdout",
          "text": [
            "Help on class list in module builtins:\n",
            "\n",
            "class list(object)\n",
            " |  list(iterable=(), /)\n",
            " |  \n",
            " |  Built-in mutable sequence.\n",
            " |  \n",
            " |  If no argument is given, the constructor creates a new empty list.\n",
            " |  The argument must be an iterable if specified.\n",
            " |  \n",
            " |  Methods defined here:\n",
            " |  \n",
            " |  __add__(self, value, /)\n",
            " |      Return self+value.\n",
            " |  \n",
            " |  __contains__(self, key, /)\n",
            " |      Return key in self.\n",
            " |  \n",
            " |  __delitem__(self, key, /)\n",
            " |      Delete self[key].\n",
            " |  \n",
            " |  __eq__(self, value, /)\n",
            " |      Return self==value.\n",
            " |  \n",
            " |  __ge__(self, value, /)\n",
            " |      Return self>=value.\n",
            " |  \n",
            " |  __getattribute__(self, name, /)\n",
            " |      Return getattr(self, name).\n",
            " |  \n",
            " |  __getitem__(...)\n",
            " |      x.__getitem__(y) <==> x[y]\n",
            " |  \n",
            " |  __gt__(self, value, /)\n",
            " |      Return self>value.\n",
            " |  \n",
            " |  __iadd__(self, value, /)\n",
            " |      Implement self+=value.\n",
            " |  \n",
            " |  __imul__(self, value, /)\n",
            " |      Implement self*=value.\n",
            " |  \n",
            " |  __init__(self, /, *args, **kwargs)\n",
            " |      Initialize self.  See help(type(self)) for accurate signature.\n",
            " |  \n",
            " |  __iter__(self, /)\n",
            " |      Implement iter(self).\n",
            " |  \n",
            " |  __le__(self, value, /)\n",
            " |      Return self<=value.\n",
            " |  \n",
            " |  __len__(self, /)\n",
            " |      Return len(self).\n",
            " |  \n",
            " |  __lt__(self, value, /)\n",
            " |      Return self<value.\n",
            " |  \n",
            " |  __mul__(self, value, /)\n",
            " |      Return self*value.\n",
            " |  \n",
            " |  __ne__(self, value, /)\n",
            " |      Return self!=value.\n",
            " |  \n",
            " |  __repr__(self, /)\n",
            " |      Return repr(self).\n",
            " |  \n",
            " |  __reversed__(self, /)\n",
            " |      Return a reverse iterator over the list.\n",
            " |  \n",
            " |  __rmul__(self, value, /)\n",
            " |      Return value*self.\n",
            " |  \n",
            " |  __setitem__(self, key, value, /)\n",
            " |      Set self[key] to value.\n",
            " |  \n",
            " |  __sizeof__(self, /)\n",
            " |      Return the size of the list in memory, in bytes.\n",
            " |  \n",
            " |  append(self, object, /)\n",
            " |      Append object to the end of the list.\n",
            " |  \n",
            " |  clear(self, /)\n",
            " |      Remove all items from list.\n",
            " |  \n",
            " |  copy(self, /)\n",
            " |      Return a shallow copy of the list.\n",
            " |  \n",
            " |  count(self, value, /)\n",
            " |      Return number of occurrences of value.\n",
            " |  \n",
            " |  extend(self, iterable, /)\n",
            " |      Extend list by appending elements from the iterable.\n",
            " |  \n",
            " |  index(self, value, start=0, stop=9223372036854775807, /)\n",
            " |      Return first index of value.\n",
            " |      \n",
            " |      Raises ValueError if the value is not present.\n",
            " |  \n",
            " |  insert(self, index, object, /)\n",
            " |      Insert object before index.\n",
            " |  \n",
            " |  pop(self, index=-1, /)\n",
            " |      Remove and return item at index (default last).\n",
            " |      \n",
            " |      Raises IndexError if list is empty or index is out of range.\n",
            " |  \n",
            " |  remove(self, value, /)\n",
            " |      Remove first occurrence of value.\n",
            " |      \n",
            " |      Raises ValueError if the value is not present.\n",
            " |  \n",
            " |  reverse(self, /)\n",
            " |      Reverse *IN PLACE*.\n",
            " |  \n",
            " |  sort(self, /, *, key=None, reverse=False)\n",
            " |      Sort the list in ascending order and return None.\n",
            " |      \n",
            " |      The sort is in-place (i.e. the list itself is modified) and stable (i.e. the\n",
            " |      order of two equal elements is maintained).\n",
            " |      \n",
            " |      If a key function is given, apply it once to each list item and sort them,\n",
            " |      ascending or descending, according to their function values.\n",
            " |      \n",
            " |      The reverse flag can be set to sort in descending order.\n",
            " |  \n",
            " |  ----------------------------------------------------------------------\n",
            " |  Class methods defined here:\n",
            " |  \n",
            " |  __class_getitem__(...)\n",
            " |      See PEP 585\n",
            " |  \n",
            " |  ----------------------------------------------------------------------\n",
            " |  Static methods defined here:\n",
            " |  \n",
            " |  __new__(*args, **kwargs)\n",
            " |      Create and return a new object.  See help(type) for accurate signature.\n",
            " |  \n",
            " |  ----------------------------------------------------------------------\n",
            " |  Data and other attributes defined here:\n",
            " |  \n",
            " |  __hash__ = None\n",
            "\n"
          ]
        }
      ],
      "source": [
        "help(list)"
      ]
    },
    {
      "cell_type": "markdown",
      "metadata": {
        "id": "ISN8hxDNRr4M"
      },
      "source": [
        "#### sort, sorted, reversed list"
      ]
    },
    {
      "cell_type": "code",
      "execution_count": 140,
      "metadata": {
        "colab": {
          "base_uri": "https://localhost:8080/"
        },
        "id": "Xt0jzMlmRr4M",
        "outputId": "48b46c9d-b2d2-4d27-e074-6d50eaf9acdb"
      },
      "outputs": [
        {
          "output_type": "execute_result",
          "data": {
            "text/plain": [
              "[9, 8, 7, 6, 5, 4, 3, 2, 1]"
            ]
          },
          "metadata": {},
          "execution_count": 140
        }
      ],
      "source": [
        "[1,2,3,4,5,6,7,8,9][::-1]"
      ]
    },
    {
      "cell_type": "code",
      "execution_count": 141,
      "metadata": {
        "colab": {
          "base_uri": "https://localhost:8080/"
        },
        "id": "f1QgVWLLRr4M",
        "outputId": "7b69922e-5ddc-4d71-a966-aede61ec9d69"
      },
      "outputs": [
        {
          "output_type": "execute_result",
          "data": {
            "text/plain": [
              "[1, 3, 5, 7, 9]"
            ]
          },
          "metadata": {},
          "execution_count": 141
        }
      ],
      "source": [
        "[1,2,3,4,5,6,7,8,9][::2]"
      ]
    },
    {
      "cell_type": "code",
      "execution_count": 142,
      "metadata": {
        "colab": {
          "base_uri": "https://localhost:8080/"
        },
        "id": "LASKQ74BRr4M",
        "outputId": "2446277f-2ce0-4349-f365-a443537a64d6"
      },
      "outputs": [
        {
          "output_type": "execute_result",
          "data": {
            "text/plain": [
              "[9, 8, 7, 6, 5, 4, 3, 2, 1, 0]"
            ]
          },
          "metadata": {},
          "execution_count": 142
        }
      ],
      "source": [
        "list(range(10))[::-1]"
      ]
    },
    {
      "cell_type": "code",
      "execution_count": 143,
      "metadata": {
        "scrolled": true,
        "colab": {
          "base_uri": "https://localhost:8080/"
        },
        "id": "rzn2SLGQRr4N",
        "outputId": "d7d0b3cd-fa3b-4a2e-ac3f-d0fa5bc661dc"
      },
      "outputs": [
        {
          "output_type": "stream",
          "name": "stdout",
          "text": [
            "3 This\n",
            "2 is\n",
            "1 an\n",
            "0 Apple\n"
          ]
        }
      ],
      "source": [
        "text_list = ['Apple', 'an', 'is', 'This']\n",
        "for i in range(0, len(text_list))[::-1]:\n",
        "    print(i, end=' ')\n",
        "    print(text_list[i])"
      ]
    },
    {
      "cell_type": "code",
      "execution_count": 144,
      "metadata": {
        "scrolled": true,
        "colab": {
          "base_uri": "https://localhost:8080/"
        },
        "id": "HODXS9QtRr4N",
        "outputId": "10d47a27-0b2b-469d-a219-e3e5a6cbc3ff"
      },
      "outputs": [
        {
          "output_type": "execute_result",
          "data": {
            "text/plain": [
              "['This', 'is', 'an', 'Apple']"
            ]
          },
          "metadata": {},
          "execution_count": 144
        }
      ],
      "source": [
        "text_list[::-1]"
      ]
    },
    {
      "cell_type": "code",
      "execution_count": 145,
      "metadata": {
        "colab": {
          "base_uri": "https://localhost:8080/"
        },
        "id": "qUrVGewJRr4N",
        "outputId": "8af71156-a3e3-4e03-861a-3d0ea8cf8488"
      },
      "outputs": [
        {
          "output_type": "execute_result",
          "data": {
            "text/plain": [
              "['This', 'is', 'an', 'Apple']"
            ]
          },
          "metadata": {},
          "execution_count": 145
        }
      ],
      "source": [
        "list(reversed(text_list))"
      ]
    },
    {
      "cell_type": "code",
      "execution_count": 146,
      "metadata": {
        "colab": {
          "base_uri": "https://localhost:8080/"
        },
        "id": "4YSoOT9ORr4N",
        "outputId": "d597950e-5148-452f-a3e7-2e3a714913c7"
      },
      "outputs": [
        {
          "output_type": "execute_result",
          "data": {
            "text/plain": [
              "['This', 'is', 'an', 'Apple']"
            ]
          },
          "metadata": {},
          "execution_count": 146
        }
      ],
      "source": [
        "list(reversed(text_list))"
      ]
    },
    {
      "cell_type": "code",
      "execution_count": 147,
      "metadata": {
        "scrolled": true,
        "colab": {
          "base_uri": "https://localhost:8080/"
        },
        "id": "lfysAomwRr4N",
        "outputId": "813ec5b1-6260-4d2a-cab3-37b0c732cce6"
      },
      "outputs": [
        {
          "output_type": "stream",
          "name": "stdout",
          "text": [
            "['This', 'is', 'an', 'Apple']\n"
          ]
        }
      ],
      "source": [
        "print(list(reversed(text_list)))"
      ]
    },
    {
      "cell_type": "code",
      "execution_count": 148,
      "metadata": {
        "colab": {
          "base_uri": "https://localhost:8080/"
        },
        "id": "Pwbnh6l9Rr4N",
        "outputId": "eae60edb-76f1-4080-f6a8-18e6695107ba"
      },
      "outputs": [
        {
          "output_type": "execute_result",
          "data": {
            "text/plain": [
              "[7, 5, 3, 2, 1]"
            ]
          },
          "metadata": {},
          "execution_count": 148
        }
      ],
      "source": [
        "a = [7, 2, 5, 1, 3]\n",
        "list(reversed(sorted(a)))"
      ]
    },
    {
      "cell_type": "code",
      "execution_count": 149,
      "metadata": {
        "colab": {
          "base_uri": "https://localhost:8080/"
        },
        "id": "1MSl7cwLRr4N",
        "outputId": "f168a7e9-5403-4fa6-d465-d3acd07ee359"
      },
      "outputs": [
        {
          "output_type": "execute_result",
          "data": {
            "text/plain": [
              "[7, 2, 5, 1, 3]"
            ]
          },
          "metadata": {},
          "execution_count": 149
        }
      ],
      "source": [
        "a"
      ]
    },
    {
      "cell_type": "code",
      "execution_count": 150,
      "metadata": {
        "colab": {
          "base_uri": "https://localhost:8080/"
        },
        "id": "xFJL6hiHRr4N",
        "outputId": "13574603-fd9b-4900-b732-9b7c043479fc"
      },
      "outputs": [
        {
          "output_type": "stream",
          "name": "stdout",
          "text": [
            "1\n",
            "2\n",
            "3\n",
            "5\n",
            "7\n"
          ]
        }
      ],
      "source": [
        "for i in sorted(a):\n",
        "    print(i)"
      ]
    },
    {
      "cell_type": "code",
      "execution_count": 151,
      "metadata": {
        "colab": {
          "base_uri": "https://localhost:8080/"
        },
        "id": "-vsbMUZpRr4N",
        "outputId": "dbb34a6a-a011-4bd9-9931-081bb52ace39"
      },
      "outputs": [
        {
          "output_type": "execute_result",
          "data": {
            "text/plain": [
              "[1, 2, 3, 5, 7]"
            ]
          },
          "metadata": {},
          "execution_count": 151
        }
      ],
      "source": [
        "a.sort()\n",
        "a"
      ]
    },
    {
      "cell_type": "code",
      "execution_count": 152,
      "metadata": {
        "colab": {
          "base_uri": "https://localhost:8080/"
        },
        "id": "b7-pC1ZaRr4N",
        "outputId": "15d45cc7-241c-437a-ea54-240dc2738518"
      },
      "outputs": [
        {
          "output_type": "execute_result",
          "data": {
            "text/plain": [
              "['He', 'foxes', 'saw', 'six', 'small']"
            ]
          },
          "metadata": {},
          "execution_count": 152
        }
      ],
      "source": [
        "b = ['saw', 'small', 'He', 'foxes', 'six']\n",
        "b.sort()\n",
        "b"
      ]
    },
    {
      "cell_type": "code",
      "execution_count": 153,
      "metadata": {
        "scrolled": true,
        "colab": {
          "base_uri": "https://localhost:8080/"
        },
        "id": "3asldwSERr4N",
        "outputId": "7163a355-fb65-4796-a3fe-d12d42e147d2"
      },
      "outputs": [
        {
          "output_type": "execute_result",
          "data": {
            "text/plain": [
              "[1, 2, 3, 5, 7]"
            ]
          },
          "metadata": {},
          "execution_count": 153
        }
      ],
      "source": [
        "a = [7, 2, 5, 1, 3]\n",
        "sorted(a)"
      ]
    },
    {
      "cell_type": "markdown",
      "metadata": {
        "id": "V7xFltuMRr4N"
      },
      "source": []
    },
    {
      "cell_type": "markdown",
      "metadata": {
        "id": "U2pj9h6oRr4N"
      },
      "source": [
        "#### zip"
      ]
    },
    {
      "cell_type": "code",
      "execution_count": 154,
      "metadata": {
        "colab": {
          "base_uri": "https://localhost:8080/"
        },
        "id": "1IVWcsTDRr4N",
        "outputId": "c85fa3a0-35c2-4679-94e1-f26cb906fad1"
      },
      "outputs": [
        {
          "output_type": "execute_result",
          "data": {
            "text/plain": [
              "[('foo', 'one', 1), ('bar', 'two', 2), ('baz', 'three', 3)]"
            ]
          },
          "metadata": {},
          "execution_count": 154
        }
      ],
      "source": [
        "seq1 = ['foo', 'bar', 'baz']\n",
        "seq2 = ['one', 'two', 'three']\n",
        "seq3 = [1, 2, 3]\n",
        "x=list(zip(seq1, seq2, seq3))\n",
        "x"
      ]
    },
    {
      "cell_type": "code",
      "execution_count": 155,
      "metadata": {
        "colab": {
          "base_uri": "https://localhost:8080/"
        },
        "id": "k13zKQTKRr4N",
        "outputId": "0e50982e-6f90-472d-b8e9-e6400e9343ef"
      },
      "outputs": [
        {
          "output_type": "execute_result",
          "data": {
            "text/plain": [
              "[('foo', 'bar', 'baz'), ('one', 'two', 'three'), (1, 2, 3)]"
            ]
          },
          "metadata": {},
          "execution_count": 155
        }
      ],
      "source": [
        "list(zip(*x))"
      ]
    },
    {
      "cell_type": "code",
      "execution_count": null,
      "metadata": {
        "scrolled": true,
        "colab": {
          "base_uri": "https://localhost:8080/"
        },
        "id": "lq3LGRZARr4O",
        "outputId": "628517c1-26d2-421d-b82a-104e92e5bca4"
      },
      "outputs": [
        {
          "output_type": "execute_result",
          "data": {
            "text/plain": [
              "{'foo': 'one', 'bar': 'two', 'baz': 'three'}"
            ]
          },
          "metadata": {},
          "execution_count": 141
        }
      ],
      "source": [
        "dict(zip(seq1, seq2))"
      ]
    },
    {
      "cell_type": "code",
      "execution_count": 156,
      "metadata": {
        "id": "7D3v0RkrRr4O"
      },
      "outputs": [],
      "source": [
        "zipped=zip(seq1, seq2)"
      ]
    },
    {
      "cell_type": "code",
      "execution_count": 157,
      "metadata": {
        "colab": {
          "base_uri": "https://localhost:8080/"
        },
        "id": "GctpTPLoRr4O",
        "outputId": "1efb9cc1-4c29-455c-c610-15031444abc0"
      },
      "outputs": [
        {
          "output_type": "execute_result",
          "data": {
            "text/plain": [
              "[('foo', 'one'), ('bar', 'two'), ('baz', 'three')]"
            ]
          },
          "metadata": {},
          "execution_count": 157
        }
      ],
      "source": [
        "list(zipped)"
      ]
    },
    {
      "cell_type": "code",
      "execution_count": 158,
      "metadata": {
        "colab": {
          "base_uri": "https://localhost:8080/"
        },
        "id": "oP1-pYD2Rr4O",
        "outputId": "f04df981-6214-4054-f437-9c07aee4c385"
      },
      "outputs": [
        {
          "output_type": "execute_result",
          "data": {
            "text/plain": [
              "[]"
            ]
          },
          "metadata": {},
          "execution_count": 158
        }
      ],
      "source": [
        "list(zipped)"
      ]
    },
    {
      "cell_type": "code",
      "execution_count": 159,
      "metadata": {
        "colab": {
          "base_uri": "https://localhost:8080/"
        },
        "id": "p4EVpdQ8Rr4O",
        "outputId": "d4813865-5bf2-48ca-89c5-25f437465aaa"
      },
      "outputs": [
        {
          "output_type": "execute_result",
          "data": {
            "text/plain": [
              "{'foo': 'one', 'bar': 'two', 'baz': 'three'}"
            ]
          },
          "metadata": {},
          "execution_count": 159
        }
      ],
      "source": [
        "dict([('foo', 'one'), ('bar', 'two'), ('baz', 'three')])"
      ]
    },
    {
      "cell_type": "code",
      "execution_count": 159,
      "metadata": {
        "id": "uKxkMJ_FRr4O"
      },
      "outputs": [],
      "source": []
    },
    {
      "cell_type": "code",
      "execution_count": 160,
      "metadata": {
        "colab": {
          "base_uri": "https://localhost:8080/"
        },
        "id": "5EhOLPnzRr4O",
        "outputId": "b24dc4b8-426f-493e-8a56-26b7a58a191a"
      },
      "outputs": [
        {
          "output_type": "stream",
          "name": "stdout",
          "text": [
            "[]\n",
            "{}\n"
          ]
        }
      ],
      "source": [
        "# zipped\n",
        "print(list(zipped))\n",
        "print(dict(zipped))"
      ]
    },
    {
      "cell_type": "code",
      "execution_count": 161,
      "metadata": {
        "colab": {
          "base_uri": "https://localhost:8080/"
        },
        "id": "2HOWA90ZRr4O",
        "outputId": "8766f562-d13c-40c5-e01e-1bd66b262a1a"
      },
      "outputs": [
        {
          "output_type": "execute_result",
          "data": {
            "text/plain": [
              "[('foo', 'one', False), ('bar', 'two', True)]"
            ]
          },
          "metadata": {},
          "execution_count": 161
        }
      ],
      "source": [
        "seq3 = [False, True]\n",
        "list(zip(seq1, seq2, seq3)) #take the shortest"
      ]
    },
    {
      "cell_type": "code",
      "execution_count": 162,
      "metadata": {
        "scrolled": true,
        "colab": {
          "base_uri": "https://localhost:8080/"
        },
        "id": "MXnJWhfxRr4O",
        "outputId": "252c160d-78a1-48fe-972c-fec814810164"
      },
      "outputs": [
        {
          "output_type": "execute_result",
          "data": {
            "text/plain": [
              "['foo', 'bar', 'baz']"
            ]
          },
          "metadata": {},
          "execution_count": 162
        }
      ],
      "source": [
        "seq1"
      ]
    },
    {
      "cell_type": "code",
      "execution_count": 163,
      "metadata": {
        "scrolled": true,
        "colab": {
          "base_uri": "https://localhost:8080/"
        },
        "id": "S-twTGU6Rr4O",
        "outputId": "447269bc-a742-473e-ca41-fdd39f396d81"
      },
      "outputs": [
        {
          "output_type": "execute_result",
          "data": {
            "text/plain": [
              "['one', 'two', 'three']"
            ]
          },
          "metadata": {},
          "execution_count": 163
        }
      ],
      "source": [
        "seq2"
      ]
    },
    {
      "cell_type": "code",
      "execution_count": 164,
      "metadata": {
        "colab": {
          "base_uri": "https://localhost:8080/"
        },
        "id": "fsvo_bFBRr4O",
        "outputId": "3f317f65-6451-460b-c32d-24975a5277eb"
      },
      "outputs": [
        {
          "output_type": "stream",
          "name": "stdout",
          "text": [
            "('foo', 'one')\n",
            "('bar', 'two')\n",
            "('baz', 'three')\n"
          ]
        }
      ],
      "source": [
        "for i in zip(seq1, seq2): print(i)"
      ]
    },
    {
      "cell_type": "code",
      "execution_count": 165,
      "metadata": {
        "colab": {
          "base_uri": "https://localhost:8080/"
        },
        "id": "Hftl4ZYYRr4O",
        "outputId": "f6d2677a-05a8-43ed-8a77-6895fbc2c65b"
      },
      "outputs": [
        {
          "output_type": "stream",
          "name": "stdout",
          "text": [
            "0\n",
            "1\n",
            "2\n"
          ]
        }
      ],
      "source": [
        "for i, (a, b) in enumerate(zip(seq1, seq2)): print(i)"
      ]
    },
    {
      "cell_type": "code",
      "execution_count": 166,
      "metadata": {
        "colab": {
          "base_uri": "https://localhost:8080/"
        },
        "id": "ywyqY633Rr4O",
        "outputId": "d0188a42-49c8-4745-a86b-ba5e51e4f4d2"
      },
      "outputs": [
        {
          "output_type": "execute_result",
          "data": {
            "text/plain": [
              "[('foo', 'one'), ('bar', 'two'), ('baz', 'three')]"
            ]
          },
          "metadata": {},
          "execution_count": 166
        }
      ],
      "source": [
        "list(zip(seq1, seq2))"
      ]
    },
    {
      "cell_type": "code",
      "execution_count": 167,
      "metadata": {
        "colab": {
          "base_uri": "https://localhost:8080/"
        },
        "id": "H7bq65-HRr4O",
        "outputId": "8a8185b6-cf35-462d-9f2d-b29b6802f64b"
      },
      "outputs": [
        {
          "output_type": "stream",
          "name": "stdout",
          "text": [
            "0: foo, one\n",
            "1: bar, two\n",
            "2: baz, three\n"
          ]
        }
      ],
      "source": [
        "for i, (a, b) in enumerate(zip(seq1, seq2)):\n",
        "    print('{0}: {1}, {2}'.format(i, a, b))"
      ]
    },
    {
      "cell_type": "code",
      "execution_count": 168,
      "metadata": {
        "colab": {
          "base_uri": "https://localhost:8080/"
        },
        "id": "AMBctcvJRr4O",
        "outputId": "65e1eb8e-45b7-411d-8764-5f7c2bab3b3c"
      },
      "outputs": [
        {
          "output_type": "stream",
          "name": "stdout",
          "text": [
            "('Nolan', 'Roger', 'Schilling')\n",
            "('Ryan', 'Clemens', 'Curt')\n"
          ]
        }
      ],
      "source": [
        "pitchers = [('Nolan', 'Ryan'), ('Roger', 'Clemens'),\n",
        "            ('Schilling', 'Curt')]\n",
        "first_names, last_names = zip(*pitchers)\n",
        "print(first_names)\n",
        "print(last_names)"
      ]
    },
    {
      "cell_type": "code",
      "execution_count": 169,
      "metadata": {
        "colab": {
          "base_uri": "https://localhost:8080/"
        },
        "id": "pUJwHb55Rr4P",
        "outputId": "67967a7a-7031-4fad-efd3-eb26d24f48b4"
      },
      "outputs": [
        {
          "output_type": "execute_result",
          "data": {
            "text/plain": [
              "[('Nolan', 'Roger', 'Schilling'), ('Ryan', 'Clemens', 'Curt')]"
            ]
          },
          "metadata": {},
          "execution_count": 169
        }
      ],
      "source": [
        "list(zip(*pitchers))"
      ]
    },
    {
      "cell_type": "markdown",
      "metadata": {
        "id": "2jRVmXenRr4P"
      },
      "source": [
        "#### Binary search and maintaining a sorted list"
      ]
    },
    {
      "cell_type": "code",
      "execution_count": 170,
      "metadata": {
        "colab": {
          "base_uri": "https://localhost:8080/"
        },
        "id": "J9UEs92XRr4P",
        "outputId": "86c52d54-242e-49c8-c175-99da12ff0f66"
      },
      "outputs": [
        {
          "output_type": "stream",
          "name": "stdout",
          "text": [
            "[1, 2, 2, 2, 3, 4, 7]\n",
            "0\n",
            "[1, 2, 2, 2, 3, 4, 7]\n",
            "1\n",
            "4\n",
            "6\n",
            "[1, 2, 2, 2, 3, 4, 6, 7]\n"
          ]
        }
      ],
      "source": [
        "import bisect\n",
        "c = [1, 2,2, 2, 3, 4, 7] #it should be sorted first.\n",
        "print(c)\n",
        "print(bisect.bisect(c, 0))\n",
        "print(c)\n",
        "print(bisect.bisect(c, 1))\n",
        "print(bisect.bisect(c, 2))\n",
        "print(bisect.bisect(c, 5))\n",
        "bisect.insort(c, 6)\n",
        "print(c)"
      ]
    },
    {
      "cell_type": "code",
      "execution_count": 171,
      "metadata": {
        "colab": {
          "base_uri": "https://localhost:8080/"
        },
        "id": "yxvpzXe6Rr4P",
        "outputId": "1ed4a685-2bd4-4bcd-f34d-e4e4951cb6ee"
      },
      "outputs": [
        {
          "output_type": "stream",
          "name": "stdout",
          "text": [
            "0\n",
            "1\n",
            "2\n",
            "3\n",
            "4\n",
            "5\n",
            "6\n",
            "7\n",
            "8\n",
            "[1, 3, 5, 7]\n"
          ]
        }
      ],
      "source": [
        "for i in range(9):\n",
        "    print(i)\n",
        "\n",
        "# list comprehension\n",
        "print([i for i in range(9) if i % 2 == 1])"
      ]
    },
    {
      "cell_type": "markdown",
      "metadata": {
        "id": "hrUVV8PVRr4P"
      },
      "source": [
        "### use list to write a function to convert a multi-line input string into a table\n",
        "`Symbol\tName\tLast Price\tChange\t% Change\tVolume\n",
        "^GSPC\tS&P 500\t2,918.65\t-19.44\t-0.66%\t1.889B\n",
        "^DJI\tDow 30\t26,287.44\t-90.75\t-0.34%\t241.934M\n",
        "^IXIC\tNasdaq\t7,959.14\t-80.02\t-1.00%\t2.003B`"
      ]
    },
    {
      "cell_type": "code",
      "execution_count": 177,
      "metadata": {
        "colab": {
          "base_uri": "https://localhost:8080/"
        },
        "id": "8-P18ULRRr4P",
        "outputId": "03d3b290-adca-4185-d749-bf25697d55ea"
      },
      "outputs": [
        {
          "output_type": "stream",
          "name": "stdout",
          "text": [
            "Symbol\tName\tLast Price\tChange\t% Change\tVolume\t\n",
            "^GSPC\tS&P 500\t2,918.65\t-19.44\t-0.66%\t1.889B\t\n",
            "^DJI\tDow 30\t26,287.44\t-90.75\t-0.34%\t241.934M\t\n",
            "^IXIC\tNasdaq\t7,959.14\t-80.02\t-1.00%\t2.003B\t\n"
          ]
        }
      ],
      "source": [
        "inputstring=\"\"\"\n",
        "Symbol\n",
        "Name\n",
        "Last Price\n",
        "Change\n",
        "% Change\n",
        "Volume\n",
        "^GSPC\n",
        "S&P 500\n",
        "2,918.65\n",
        "-19.44\n",
        "-0.66%\n",
        "1.889B\n",
        "^DJI\n",
        "Dow 30\n",
        "26,287.44\n",
        "-90.75\n",
        "-0.34%\n",
        "241.934M\n",
        "^IXIC\n",
        "Nasdaq\n",
        "7,959.14\n",
        "-80.02\n",
        "-1.00%\n",
        "2.003B\n",
        "\"\"\"\n",
        "\n",
        "for k, v in enumerate(inputstring.strip().split(\"\\n\")):\n",
        "    print(v, end=\"\\t\")\n",
        "    if k % 6 == 5:\n",
        "        print()"
      ]
    },
    {
      "cell_type": "code",
      "execution_count": 178,
      "metadata": {
        "colab": {
          "base_uri": "https://localhost:8080/"
        },
        "id": "tFLjv_iIRr4P",
        "outputId": "07e7e9ac-d84c-4e96-a750-a77288636263"
      },
      "outputs": [
        {
          "output_type": "execute_result",
          "data": {
            "text/plain": [
              "[(0, 'Symbol'),\n",
              " (1, 'Name'),\n",
              " (2, 'Last Price'),\n",
              " (3, 'Change'),\n",
              " (4, '% Change'),\n",
              " (5, 'Volume'),\n",
              " (6, '^GSPC'),\n",
              " (7, 'S&P 500'),\n",
              " (8, '2,918.65'),\n",
              " (9, '-19.44'),\n",
              " (10, '-0.66%'),\n",
              " (11, '1.889B'),\n",
              " (12, '^DJI'),\n",
              " (13, 'Dow 30'),\n",
              " (14, '26,287.44'),\n",
              " (15, '-90.75'),\n",
              " (16, '-0.34%'),\n",
              " (17, '241.934M'),\n",
              " (18, '^IXIC'),\n",
              " (19, 'Nasdaq'),\n",
              " (20, '7,959.14'),\n",
              " (21, '-80.02'),\n",
              " (22, '-1.00%'),\n",
              " (23, '2.003B')]"
            ]
          },
          "metadata": {},
          "execution_count": 178
        }
      ],
      "source": [
        "list(enumerate(inputstring.strip().split('\\n')))"
      ]
    },
    {
      "cell_type": "code",
      "execution_count": 179,
      "metadata": {
        "colab": {
          "base_uri": "https://localhost:8080/",
          "height": 160
        },
        "id": "LTz4TofNRr4P",
        "outputId": "97484096-3822-4f19-9908-9bd3635cf2cb"
      },
      "outputs": [
        {
          "output_type": "execute_result",
          "data": {
            "text/plain": [
              "   0  1  2\n",
              "0  1  2  3\n",
              "1  4  5  6\n",
              "2  7  8  9"
            ],
            "text/html": [
              "\n",
              "  <div id=\"df-75a7d58f-13e6-422b-a377-b8ec5ed403b9\" class=\"colab-df-container\">\n",
              "    <div>\n",
              "<style scoped>\n",
              "    .dataframe tbody tr th:only-of-type {\n",
              "        vertical-align: middle;\n",
              "    }\n",
              "\n",
              "    .dataframe tbody tr th {\n",
              "        vertical-align: top;\n",
              "    }\n",
              "\n",
              "    .dataframe thead th {\n",
              "        text-align: right;\n",
              "    }\n",
              "</style>\n",
              "<table border=\"1\" class=\"dataframe\">\n",
              "  <thead>\n",
              "    <tr style=\"text-align: right;\">\n",
              "      <th></th>\n",
              "      <th>0</th>\n",
              "      <th>1</th>\n",
              "      <th>2</th>\n",
              "    </tr>\n",
              "  </thead>\n",
              "  <tbody>\n",
              "    <tr>\n",
              "      <th>0</th>\n",
              "      <td>1</td>\n",
              "      <td>2</td>\n",
              "      <td>3</td>\n",
              "    </tr>\n",
              "    <tr>\n",
              "      <th>1</th>\n",
              "      <td>4</td>\n",
              "      <td>5</td>\n",
              "      <td>6</td>\n",
              "    </tr>\n",
              "    <tr>\n",
              "      <th>2</th>\n",
              "      <td>7</td>\n",
              "      <td>8</td>\n",
              "      <td>9</td>\n",
              "    </tr>\n",
              "  </tbody>\n",
              "</table>\n",
              "</div>\n",
              "    <div class=\"colab-df-buttons\">\n",
              "\n",
              "  <div class=\"colab-df-container\">\n",
              "    <button class=\"colab-df-convert\" onclick=\"convertToInteractive('df-75a7d58f-13e6-422b-a377-b8ec5ed403b9')\"\n",
              "            title=\"Convert this dataframe to an interactive table.\"\n",
              "            style=\"display:none;\">\n",
              "\n",
              "  <svg xmlns=\"http://www.w3.org/2000/svg\" height=\"24px\" viewBox=\"0 -960 960 960\">\n",
              "    <path d=\"M120-120v-720h720v720H120Zm60-500h600v-160H180v160Zm220 220h160v-160H400v160Zm0 220h160v-160H400v160ZM180-400h160v-160H180v160Zm440 0h160v-160H620v160ZM180-180h160v-160H180v160Zm440 0h160v-160H620v160Z\"/>\n",
              "  </svg>\n",
              "    </button>\n",
              "\n",
              "  <style>\n",
              "    .colab-df-container {\n",
              "      display:flex;\n",
              "      gap: 12px;\n",
              "    }\n",
              "\n",
              "    .colab-df-convert {\n",
              "      background-color: #E8F0FE;\n",
              "      border: none;\n",
              "      border-radius: 50%;\n",
              "      cursor: pointer;\n",
              "      display: none;\n",
              "      fill: #1967D2;\n",
              "      height: 32px;\n",
              "      padding: 0 0 0 0;\n",
              "      width: 32px;\n",
              "    }\n",
              "\n",
              "    .colab-df-convert:hover {\n",
              "      background-color: #E2EBFA;\n",
              "      box-shadow: 0px 1px 2px rgba(60, 64, 67, 0.3), 0px 1px 3px 1px rgba(60, 64, 67, 0.15);\n",
              "      fill: #174EA6;\n",
              "    }\n",
              "\n",
              "    .colab-df-buttons div {\n",
              "      margin-bottom: 4px;\n",
              "    }\n",
              "\n",
              "    [theme=dark] .colab-df-convert {\n",
              "      background-color: #3B4455;\n",
              "      fill: #D2E3FC;\n",
              "    }\n",
              "\n",
              "    [theme=dark] .colab-df-convert:hover {\n",
              "      background-color: #434B5C;\n",
              "      box-shadow: 0px 1px 3px 1px rgba(0, 0, 0, 0.15);\n",
              "      filter: drop-shadow(0px 1px 2px rgba(0, 0, 0, 0.3));\n",
              "      fill: #FFFFFF;\n",
              "    }\n",
              "  </style>\n",
              "\n",
              "    <script>\n",
              "      const buttonEl =\n",
              "        document.querySelector('#df-75a7d58f-13e6-422b-a377-b8ec5ed403b9 button.colab-df-convert');\n",
              "      buttonEl.style.display =\n",
              "        google.colab.kernel.accessAllowed ? 'block' : 'none';\n",
              "\n",
              "      async function convertToInteractive(key) {\n",
              "        const element = document.querySelector('#df-75a7d58f-13e6-422b-a377-b8ec5ed403b9');\n",
              "        const dataTable =\n",
              "          await google.colab.kernel.invokeFunction('convertToInteractive',\n",
              "                                                    [key], {});\n",
              "        if (!dataTable) return;\n",
              "\n",
              "        const docLinkHtml = 'Like what you see? Visit the ' +\n",
              "          '<a target=\"_blank\" href=https://colab.research.google.com/notebooks/data_table.ipynb>data table notebook</a>'\n",
              "          + ' to learn more about interactive tables.';\n",
              "        element.innerHTML = '';\n",
              "        dataTable['output_type'] = 'display_data';\n",
              "        await google.colab.output.renderOutput(dataTable, element);\n",
              "        const docLink = document.createElement('div');\n",
              "        docLink.innerHTML = docLinkHtml;\n",
              "        element.appendChild(docLink);\n",
              "      }\n",
              "    </script>\n",
              "  </div>\n",
              "\n",
              "\n",
              "    <div id=\"df-56684c46-93fb-48a7-8993-8cbb46016ac8\">\n",
              "      <button class=\"colab-df-quickchart\" onclick=\"quickchart('df-56684c46-93fb-48a7-8993-8cbb46016ac8')\"\n",
              "                title=\"Suggest charts\"\n",
              "                style=\"display:none;\">\n",
              "\n",
              "<svg xmlns=\"http://www.w3.org/2000/svg\" height=\"24px\"viewBox=\"0 0 24 24\"\n",
              "     width=\"24px\">\n",
              "    <g>\n",
              "        <path d=\"M19 3H5c-1.1 0-2 .9-2 2v14c0 1.1.9 2 2 2h14c1.1 0 2-.9 2-2V5c0-1.1-.9-2-2-2zM9 17H7v-7h2v7zm4 0h-2V7h2v10zm4 0h-2v-4h2v4z\"/>\n",
              "    </g>\n",
              "</svg>\n",
              "      </button>\n",
              "\n",
              "<style>\n",
              "  .colab-df-quickchart {\n",
              "      --bg-color: #E8F0FE;\n",
              "      --fill-color: #1967D2;\n",
              "      --hover-bg-color: #E2EBFA;\n",
              "      --hover-fill-color: #174EA6;\n",
              "      --disabled-fill-color: #AAA;\n",
              "      --disabled-bg-color: #DDD;\n",
              "  }\n",
              "\n",
              "  [theme=dark] .colab-df-quickchart {\n",
              "      --bg-color: #3B4455;\n",
              "      --fill-color: #D2E3FC;\n",
              "      --hover-bg-color: #434B5C;\n",
              "      --hover-fill-color: #FFFFFF;\n",
              "      --disabled-bg-color: #3B4455;\n",
              "      --disabled-fill-color: #666;\n",
              "  }\n",
              "\n",
              "  .colab-df-quickchart {\n",
              "    background-color: var(--bg-color);\n",
              "    border: none;\n",
              "    border-radius: 50%;\n",
              "    cursor: pointer;\n",
              "    display: none;\n",
              "    fill: var(--fill-color);\n",
              "    height: 32px;\n",
              "    padding: 0;\n",
              "    width: 32px;\n",
              "  }\n",
              "\n",
              "  .colab-df-quickchart:hover {\n",
              "    background-color: var(--hover-bg-color);\n",
              "    box-shadow: 0 1px 2px rgba(60, 64, 67, 0.3), 0 1px 3px 1px rgba(60, 64, 67, 0.15);\n",
              "    fill: var(--button-hover-fill-color);\n",
              "  }\n",
              "\n",
              "  .colab-df-quickchart-complete:disabled,\n",
              "  .colab-df-quickchart-complete:disabled:hover {\n",
              "    background-color: var(--disabled-bg-color);\n",
              "    fill: var(--disabled-fill-color);\n",
              "    box-shadow: none;\n",
              "  }\n",
              "\n",
              "  .colab-df-spinner {\n",
              "    border: 2px solid var(--fill-color);\n",
              "    border-color: transparent;\n",
              "    border-bottom-color: var(--fill-color);\n",
              "    animation:\n",
              "      spin 1s steps(1) infinite;\n",
              "  }\n",
              "\n",
              "  @keyframes spin {\n",
              "    0% {\n",
              "      border-color: transparent;\n",
              "      border-bottom-color: var(--fill-color);\n",
              "      border-left-color: var(--fill-color);\n",
              "    }\n",
              "    20% {\n",
              "      border-color: transparent;\n",
              "      border-left-color: var(--fill-color);\n",
              "      border-top-color: var(--fill-color);\n",
              "    }\n",
              "    30% {\n",
              "      border-color: transparent;\n",
              "      border-left-color: var(--fill-color);\n",
              "      border-top-color: var(--fill-color);\n",
              "      border-right-color: var(--fill-color);\n",
              "    }\n",
              "    40% {\n",
              "      border-color: transparent;\n",
              "      border-right-color: var(--fill-color);\n",
              "      border-top-color: var(--fill-color);\n",
              "    }\n",
              "    60% {\n",
              "      border-color: transparent;\n",
              "      border-right-color: var(--fill-color);\n",
              "    }\n",
              "    80% {\n",
              "      border-color: transparent;\n",
              "      border-right-color: var(--fill-color);\n",
              "      border-bottom-color: var(--fill-color);\n",
              "    }\n",
              "    90% {\n",
              "      border-color: transparent;\n",
              "      border-bottom-color: var(--fill-color);\n",
              "    }\n",
              "  }\n",
              "</style>\n",
              "\n",
              "      <script>\n",
              "        async function quickchart(key) {\n",
              "          const quickchartButtonEl =\n",
              "            document.querySelector('#' + key + ' button');\n",
              "          quickchartButtonEl.disabled = true;  // To prevent multiple clicks.\n",
              "          quickchartButtonEl.classList.add('colab-df-spinner');\n",
              "          try {\n",
              "            const charts = await google.colab.kernel.invokeFunction(\n",
              "                'suggestCharts', [key], {});\n",
              "          } catch (error) {\n",
              "            console.error('Error during call to suggestCharts:', error);\n",
              "          }\n",
              "          quickchartButtonEl.classList.remove('colab-df-spinner');\n",
              "          quickchartButtonEl.classList.add('colab-df-quickchart-complete');\n",
              "        }\n",
              "        (() => {\n",
              "          let quickchartButtonEl =\n",
              "            document.querySelector('#df-56684c46-93fb-48a7-8993-8cbb46016ac8 button');\n",
              "          quickchartButtonEl.style.display =\n",
              "            google.colab.kernel.accessAllowed ? 'block' : 'none';\n",
              "        })();\n",
              "      </script>\n",
              "    </div>\n",
              "\n",
              "  <div id=\"id_26c9dd82-aab4-4a45-b505-d03113008a46\">\n",
              "    <style>\n",
              "      .colab-df-generate {\n",
              "        background-color: #E8F0FE;\n",
              "        border: none;\n",
              "        border-radius: 50%;\n",
              "        cursor: pointer;\n",
              "        display: none;\n",
              "        fill: #1967D2;\n",
              "        height: 32px;\n",
              "        padding: 0 0 0 0;\n",
              "        width: 32px;\n",
              "      }\n",
              "\n",
              "      .colab-df-generate:hover {\n",
              "        background-color: #E2EBFA;\n",
              "        box-shadow: 0px 1px 2px rgba(60, 64, 67, 0.3), 0px 1px 3px 1px rgba(60, 64, 67, 0.15);\n",
              "        fill: #174EA6;\n",
              "      }\n",
              "\n",
              "      [theme=dark] .colab-df-generate {\n",
              "        background-color: #3B4455;\n",
              "        fill: #D2E3FC;\n",
              "      }\n",
              "\n",
              "      [theme=dark] .colab-df-generate:hover {\n",
              "        background-color: #434B5C;\n",
              "        box-shadow: 0px 1px 3px 1px rgba(0, 0, 0, 0.15);\n",
              "        filter: drop-shadow(0px 1px 2px rgba(0, 0, 0, 0.3));\n",
              "        fill: #FFFFFF;\n",
              "      }\n",
              "    </style>\n",
              "    <button class=\"colab-df-generate\" onclick=\"generateWithVariable('my_table')\"\n",
              "            title=\"Generate code using this dataframe.\"\n",
              "            style=\"display:none;\">\n",
              "\n",
              "  <svg xmlns=\"http://www.w3.org/2000/svg\" height=\"24px\"viewBox=\"0 0 24 24\"\n",
              "       width=\"24px\">\n",
              "    <path d=\"M7,19H8.4L18.45,9,17,7.55,7,17.6ZM5,21V16.75L18.45,3.32a2,2,0,0,1,2.83,0l1.4,1.43a1.91,1.91,0,0,1,.58,1.4,1.91,1.91,0,0,1-.58,1.4L9.25,21ZM18.45,9,17,7.55Zm-12,3A5.31,5.31,0,0,0,4.9,8.1,5.31,5.31,0,0,0,1,6.5,5.31,5.31,0,0,0,4.9,4.9,5.31,5.31,0,0,0,6.5,1,5.31,5.31,0,0,0,8.1,4.9,5.31,5.31,0,0,0,12,6.5,5.46,5.46,0,0,0,6.5,12Z\"/>\n",
              "  </svg>\n",
              "    </button>\n",
              "    <script>\n",
              "      (() => {\n",
              "      const buttonEl =\n",
              "        document.querySelector('#id_26c9dd82-aab4-4a45-b505-d03113008a46 button.colab-df-generate');\n",
              "      buttonEl.style.display =\n",
              "        google.colab.kernel.accessAllowed ? 'block' : 'none';\n",
              "\n",
              "      buttonEl.onclick = () => {\n",
              "        google.colab.notebook.generateWithVariable('my_table');\n",
              "      }\n",
              "      })();\n",
              "    </script>\n",
              "  </div>\n",
              "\n",
              "    </div>\n",
              "  </div>\n"
            ],
            "application/vnd.google.colaboratory.intrinsic+json": {
              "type": "dataframe",
              "variable_name": "my_table",
              "summary": "{\n  \"name\": \"my_table\",\n  \"rows\": 3,\n  \"fields\": [\n    {\n      \"column\": 0,\n      \"properties\": {\n        \"dtype\": \"number\",\n        \"std\": 3,\n        \"min\": 1,\n        \"max\": 7,\n        \"num_unique_values\": 3,\n        \"samples\": [\n          1,\n          4,\n          7\n        ],\n        \"semantic_type\": \"\",\n        \"description\": \"\"\n      }\n    },\n    {\n      \"column\": 1,\n      \"properties\": {\n        \"dtype\": \"number\",\n        \"std\": 3,\n        \"min\": 2,\n        \"max\": 8,\n        \"num_unique_values\": 3,\n        \"samples\": [\n          2,\n          5,\n          8\n        ],\n        \"semantic_type\": \"\",\n        \"description\": \"\"\n      }\n    },\n    {\n      \"column\": 2,\n      \"properties\": {\n        \"dtype\": \"number\",\n        \"std\": 3,\n        \"min\": 3,\n        \"max\": 9,\n        \"num_unique_values\": 3,\n        \"samples\": [\n          3,\n          6,\n          9\n        ],\n        \"semantic_type\": \"\",\n        \"description\": \"\"\n      }\n    }\n  ]\n}"
            }
          },
          "metadata": {},
          "execution_count": 179
        }
      ],
      "source": [
        "my_list = [[1,2,3], [4,5,6], [7,8,9]]\n",
        "import pandas as pd\n",
        "my_table = pd.DataFrame(my_list) #We will go details later.\n",
        "my_table"
      ]
    },
    {
      "cell_type": "markdown",
      "metadata": {
        "id": "9m1Lck0hRr4P"
      },
      "source": [
        "## string, list, tuple are all sequence"
      ]
    },
    {
      "cell_type": "markdown",
      "metadata": {
        "id": "3eavYTRDRr4P"
      },
      "source": [
        "# Set\n",
        "* unordered, unique\n",
        "* tell \"is in\" or \"de-duplicate\"\n",
        "* { } or set(), however, to create an empty set, use set() instead of { }, because { } is an empty dict\n",
        "* Syntax: parame = {value1, value2, ... } or set(value)"
      ]
    },
    {
      "cell_type": "code",
      "execution_count": 180,
      "metadata": {
        "colab": {
          "base_uri": "https://localhost:8080/"
        },
        "id": "XMJWy8-7Rr4P",
        "outputId": "09f5db36-e3de-4e8a-c5bc-93d0590db381"
      },
      "outputs": [
        {
          "output_type": "execute_result",
          "data": {
            "text/plain": [
              "{'a', 'b', 'c', 'd', 'r'}"
            ]
          },
          "metadata": {},
          "execution_count": 180
        }
      ],
      "source": [
        "set('abracadabra')"
      ]
    },
    {
      "cell_type": "code",
      "execution_count": 181,
      "metadata": {
        "colab": {
          "base_uri": "https://localhost:8080/"
        },
        "id": "HOsAHIKeRr4P",
        "outputId": "97db8dd8-f6a7-46c7-f0a8-77a7f1874ffb"
      },
      "outputs": [
        {
          "output_type": "execute_result",
          "data": {
            "text/plain": [
              "3"
            ]
          },
          "metadata": {},
          "execution_count": 181
        }
      ],
      "source": [
        "5^6"
      ]
    },
    {
      "cell_type": "code",
      "execution_count": 182,
      "metadata": {
        "colab": {
          "base_uri": "https://localhost:8080/"
        },
        "id": "pQV4KHXPRr4P",
        "outputId": "b927445e-0b31-405e-81e5-b9a1ce3b037c"
      },
      "outputs": [
        {
          "output_type": "stream",
          "name": "stdout",
          "text": [
            "{'Rose', 'Kate', 'Tom', 'Mary', 'Jim'}\n",
            "Rose is in the team\n",
            "a is:  {'c', 'd', 'a', 'b', 'r'}\n",
            "b is:  {'c', 'z', 'a', 'm', 'l'}\n",
            "{'d', 'r', 'b'}\n",
            "{'c', 'd', 'z', 'a', 'm', 'b', 'l', 'r'}\n",
            "{'a', 'c'}\n",
            "{'l', 'r', 'b', 'z', 'm', 'd'}\n"
          ]
        }
      ],
      "source": [
        "team = {'Tom', 'Jim', 'Mary', 'Tom', 'Kate', 'Rose'}\n",
        "print(team) #no duplicate\n",
        "# is in\n",
        "if 'Rose' in team:\n",
        "    print('Rose is in the team')\n",
        "else :\n",
        "    print('Rose is not in the team')\n",
        "\n",
        "# set operations\n",
        "a = set('abracadabra') #because string is a special type of tuple\n",
        "b = set('alacazam')\n",
        "\n",
        "print('a is: ', a)\n",
        "print('b is: ', b)\n",
        "print(a - b)     # diff\n",
        "print(a | b)     # union\n",
        "print(a & b)     # intersection\n",
        "print(a ^ b)     # XOR"
      ]
    },
    {
      "cell_type": "markdown",
      "metadata": {
        "id": "CIiRiQDBRr4P"
      },
      "source": [
        "#### how to remove duplicates and sort"
      ]
    },
    {
      "cell_type": "code",
      "execution_count": 183,
      "metadata": {
        "colab": {
          "base_uri": "https://localhost:8080/"
        },
        "id": "pi8rtWwjRr4P",
        "outputId": "e3d1f827-d7bb-4a44-d6a0-d9d0844d7bdc"
      },
      "outputs": [
        {
          "output_type": "stream",
          "name": "stdout",
          "text": [
            "[3, 5, 7, 8, 9, 10, 12, 45]\n"
          ]
        }
      ],
      "source": [
        "mylist = [10, 9, 9, 12, 3, 5, 45, 7, 8]\n",
        "# print(set(mylist))\n",
        "sorted_list = sorted(list(set(mylist)))\n",
        "print(sorted_list)"
      ]
    },
    {
      "cell_type": "markdown",
      "metadata": {
        "id": "TfYnRh0gRr4Q"
      },
      "source": [
        "# Dictionary\n",
        "* List is ordered collection of objects, while dictionary is unordered collection of objects. (Now Python has OrderedDict)\n",
        "* Unlike list, dictionary accesses element by key, instead of index.\n",
        "* Dictionary is a mapping relationship between key and value.\n",
        "* Key must be immutable, such as string, int, float, so that the key is hashable.\n",
        "* No duplicate key in one dictionary\n",
        "* Dictionary can be nested, such as in json."
      ]
    },
    {
      "cell_type": "code",
      "execution_count": 184,
      "metadata": {
        "scrolled": true,
        "colab": {
          "base_uri": "https://localhost:8080/"
        },
        "id": "w0Er1nT1Rr4Q",
        "outputId": "65d7564c-fc42-4515-efe0-71bb3fbca7f0"
      },
      "outputs": [
        {
          "output_type": "stream",
          "name": "stdout",
          "text": [
            "{'fund1': 'S&P 500', 2: 'Safe Bond', 2.5: 'Safe Bond'}\n",
            "S&P 500 1 2\n",
            "Safe Bond\n",
            "{'name': 'Training', 'code': [1, 5, '6'], 'purpose': 'Base data type'}\n",
            "dict_keys(['name', 'code', 'purpose'])\n",
            "dict_values(['Training', [1, 5, '6'], 'Base data type'])\n"
          ]
        }
      ],
      "source": [
        "dictsample = {}\n",
        "dictsample['fund1'] = 'S&P 500'\n",
        "dictsample[2] = 'Safe Bond'\n",
        "dictsample[2.5] = 'Safe Bond'\n",
        "print(dictsample)\n",
        "\n",
        "tinydict = {'name': 'Training',\n",
        "            'code': [1,5,'6'],\n",
        "            'purpose': \"Base data type\"}\n",
        "print (dictsample['fund1'],\n",
        "       '1',\n",
        "       2)\n",
        "print (dictsample[2])\n",
        "print (tinydict)\n",
        "print (tinydict.keys())\n",
        "print (tinydict.values())"
      ]
    },
    {
      "cell_type": "code",
      "execution_count": 185,
      "metadata": {
        "colab": {
          "base_uri": "https://localhost:8080/"
        },
        "id": "cE96RYD7Rr4Q",
        "outputId": "9c230706-2e8c-4a1f-cc90-34ee441e9f27"
      },
      "outputs": [
        {
          "output_type": "stream",
          "name": "stdout",
          "text": [
            "None\n"
          ]
        }
      ],
      "source": [
        "if 'Name' in tinydict:\n",
        "    print(tinydict['Name'])\n",
        "else:\n",
        "    print(None)"
      ]
    },
    {
      "cell_type": "code",
      "execution_count": 186,
      "metadata": {
        "colab": {
          "base_uri": "https://localhost:8080/"
        },
        "id": "6CCQGJQlRr4Q",
        "outputId": "3b05428c-f7dd-4d03-9620-3c9ea632fa19"
      },
      "outputs": [
        {
          "output_type": "stream",
          "name": "stdout",
          "text": [
            "{'name': 'Training', 'code': [1, 5, '6'], 'purpose': 'Base data type', 'id': ['1']}\n"
          ]
        }
      ],
      "source": [
        "# If you are curious, defaultdict is doing the same thing as below to handle missing keys\n",
        "if tinydict.get('id', None) is None:\n",
        "    tinydict['id'] = ['1']\n",
        "else:\n",
        "     tinydict['id'].append('2')\n",
        "print(tinydict)"
      ]
    },
    {
      "cell_type": "code",
      "execution_count": 187,
      "metadata": {
        "colab": {
          "base_uri": "https://localhost:8080/"
        },
        "id": "MhdR3nKqRr4Q",
        "outputId": "8ef4c4c5-9f5a-4f8b-82c4-e2a7fa657bf1"
      },
      "outputs": [
        {
          "output_type": "stream",
          "name": "stdout",
          "text": [
            "['f1', 'f2', 'f3', 'f4', 'f5', 'f6', 'f7', 'f8', 'f9', 'f10']\n",
            "{'fund': ['f1', 'f2', 'f3', 'f4', 'f5', 'f6', 'f7', 'f8', 'f9', 'f10']}\n",
            "key is :fund, value is ['f1', 'f2', 'f3', 'f4', 'f5', 'f6', 'f7', 'f8', 'f9', 'f10']\n"
          ]
        }
      ],
      "source": [
        "mydict = {}\n",
        "# mydict['fund']\n",
        "for i in range(10):\n",
        "    if mydict.get('fund', None) is None:\n",
        "        mydict['fund'] = ['f{0}'.format(i + 1)]\n",
        "    else:\n",
        "        mydict['fund'].append('f{0}'.format(i + 1))\n",
        "print(mydict['fund'])\n",
        "print(mydict)\n",
        "for key, value in mydict.items():\n",
        "    print('key is :{0}, value is {1}'.format(key, value))\n",
        "# list.append adds one element\n",
        "# list.extend adds a list"
      ]
    },
    {
      "cell_type": "code",
      "execution_count": 188,
      "metadata": {
        "colab": {
          "base_uri": "https://localhost:8080/"
        },
        "id": "LAfYN7LLRr4Q",
        "outputId": "03c42782-29ad-460a-85a5-37aaa0bf3995"
      },
      "outputs": [
        {
          "output_type": "stream",
          "name": "stdout",
          "text": [
            "S&P 500\n",
            "Safe Bond\n",
            "Safe Bond\n"
          ]
        }
      ],
      "source": [
        "for key in dictsample.keys():\n",
        "    print(dictsample[key])"
      ]
    },
    {
      "cell_type": "code",
      "execution_count": 189,
      "metadata": {
        "colab": {
          "base_uri": "https://localhost:8080/"
        },
        "id": "MW0cp4TMRr4Q",
        "outputId": "51182503-226d-40be-bb30-463ea05e019a"
      },
      "outputs": [
        {
          "output_type": "stream",
          "name": "stdout",
          "text": [
            "<class 'dict_values'>\n",
            "S&P 500\n",
            "Safe Bond\n",
            "Safe Bond\n"
          ]
        }
      ],
      "source": [
        "print(type(dictsample.values()))\n",
        "for value in dictsample.values():\n",
        "    print(value)"
      ]
    },
    {
      "cell_type": "code",
      "execution_count": 190,
      "metadata": {
        "colab": {
          "base_uri": "https://localhost:8080/"
        },
        "id": "XkmNkWrPRr4Q",
        "outputId": "f7003ef2-cd88-4db1-9090-934f4266d5d4"
      },
      "outputs": [
        {
          "output_type": "stream",
          "name": "stdout",
          "text": [
            "fund1 :  S&P 500\n",
            "2 :  Safe Bond\n",
            "2.5 :  Safe Bond\n"
          ]
        }
      ],
      "source": [
        "for key, value in dictsample.items():\n",
        "    print(key, ': ', value)"
      ]
    },
    {
      "cell_type": "markdown",
      "metadata": {
        "id": "DzuQWUU6Rr4Q"
      },
      "source": [
        "#### Different ways to use dict()"
      ]
    },
    {
      "cell_type": "code",
      "execution_count": 191,
      "metadata": {
        "colab": {
          "base_uri": "https://localhost:8080/"
        },
        "id": "8FS37v9URr4Q",
        "outputId": "06017de7-b601-4242-84b6-deec69ab33e4"
      },
      "outputs": [
        {
          "output_type": "execute_result",
          "data": {
            "text/plain": [
              "[4, 16, 36]"
            ]
          },
          "metadata": {},
          "execution_count": 191
        }
      ],
      "source": [
        "[x**2 for x in (2, 4, 6)]"
      ]
    },
    {
      "cell_type": "code",
      "execution_count": 192,
      "metadata": {
        "colab": {
          "base_uri": "https://localhost:8080/"
        },
        "id": "vpTXDAb9Rr4Q",
        "outputId": "4005c1f4-17b7-40a5-a088-a1649602fa5e"
      },
      "outputs": [
        {
          "output_type": "execute_result",
          "data": {
            "text/plain": [
              "{2: 4, 4: 16, 6: 36}"
            ]
          },
          "metadata": {},
          "execution_count": 192
        }
      ],
      "source": [
        "{x:x**2 for x in (2, 4, 6)}"
      ]
    },
    {
      "cell_type": "code",
      "execution_count": 193,
      "metadata": {
        "colab": {
          "base_uri": "https://localhost:8080/"
        },
        "id": "4Lj61t19Rr4Q",
        "outputId": "e2cfb6b7-269d-4fa2-9b61-c20b83f039be"
      },
      "outputs": [
        {
          "output_type": "stream",
          "name": "stdout",
          "text": [
            "{2: 4, 4: 16, 6: 36}\n",
            "{'Apple': 1, 'Orange': 2, 'Banana': 3}\n",
            "{'Apple': 1, 'Orange': 2, 'Banana': 3}\n"
          ]
        }
      ],
      "source": [
        "# for x in (2, 4, 6):\n",
        "#     print(x, end=\" \")\n",
        "# print()\n",
        "# print(x)\n",
        "mydict = {x: x**2 for x in (2, 4, 6)}\n",
        "print(mydict)\n",
        "\n",
        "newdict = dict(Apple=1, Orange=2, Banana=3)\n",
        "print(newdict)\n",
        "\n",
        "constructdict = dict([('Apple', 1), ('Orange', 2), ('Banana', 3)])\n",
        "print(constructdict)"
      ]
    },
    {
      "cell_type": "code",
      "execution_count": 194,
      "metadata": {
        "colab": {
          "base_uri": "https://localhost:8080/"
        },
        "id": "a_JjvlSSRr4Q",
        "outputId": "27fe3202-0ce0-4db6-eaec-dabde0fc4e93"
      },
      "outputs": [
        {
          "output_type": "stream",
          "name": "stdout",
          "text": [
            "Help on class dict in module builtins:\n",
            "\n",
            "class dict(object)\n",
            " |  dict() -> new empty dictionary\n",
            " |  dict(mapping) -> new dictionary initialized from a mapping object's\n",
            " |      (key, value) pairs\n",
            " |  dict(iterable) -> new dictionary initialized as if via:\n",
            " |      d = {}\n",
            " |      for k, v in iterable:\n",
            " |          d[k] = v\n",
            " |  dict(**kwargs) -> new dictionary initialized with the name=value pairs\n",
            " |      in the keyword argument list.  For example:  dict(one=1, two=2)\n",
            " |  \n",
            " |  Built-in subclasses:\n",
            " |      StgDict\n",
            " |  \n",
            " |  Methods defined here:\n",
            " |  \n",
            " |  __contains__(self, key, /)\n",
            " |      True if the dictionary has the specified key, else False.\n",
            " |  \n",
            " |  __delitem__(self, key, /)\n",
            " |      Delete self[key].\n",
            " |  \n",
            " |  __eq__(self, value, /)\n",
            " |      Return self==value.\n",
            " |  \n",
            " |  __ge__(self, value, /)\n",
            " |      Return self>=value.\n",
            " |  \n",
            " |  __getattribute__(self, name, /)\n",
            " |      Return getattr(self, name).\n",
            " |  \n",
            " |  __getitem__(...)\n",
            " |      x.__getitem__(y) <==> x[y]\n",
            " |  \n",
            " |  __gt__(self, value, /)\n",
            " |      Return self>value.\n",
            " |  \n",
            " |  __init__(self, /, *args, **kwargs)\n",
            " |      Initialize self.  See help(type(self)) for accurate signature.\n",
            " |  \n",
            " |  __ior__(self, value, /)\n",
            " |      Return self|=value.\n",
            " |  \n",
            " |  __iter__(self, /)\n",
            " |      Implement iter(self).\n",
            " |  \n",
            " |  __le__(self, value, /)\n",
            " |      Return self<=value.\n",
            " |  \n",
            " |  __len__(self, /)\n",
            " |      Return len(self).\n",
            " |  \n",
            " |  __lt__(self, value, /)\n",
            " |      Return self<value.\n",
            " |  \n",
            " |  __ne__(self, value, /)\n",
            " |      Return self!=value.\n",
            " |  \n",
            " |  __or__(self, value, /)\n",
            " |      Return self|value.\n",
            " |  \n",
            " |  __repr__(self, /)\n",
            " |      Return repr(self).\n",
            " |  \n",
            " |  __reversed__(self, /)\n",
            " |      Return a reverse iterator over the dict keys.\n",
            " |  \n",
            " |  __ror__(self, value, /)\n",
            " |      Return value|self.\n",
            " |  \n",
            " |  __setitem__(self, key, value, /)\n",
            " |      Set self[key] to value.\n",
            " |  \n",
            " |  __sizeof__(...)\n",
            " |      D.__sizeof__() -> size of D in memory, in bytes\n",
            " |  \n",
            " |  clear(...)\n",
            " |      D.clear() -> None.  Remove all items from D.\n",
            " |  \n",
            " |  copy(...)\n",
            " |      D.copy() -> a shallow copy of D\n",
            " |  \n",
            " |  get(self, key, default=None, /)\n",
            " |      Return the value for key if key is in the dictionary, else default.\n",
            " |  \n",
            " |  items(...)\n",
            " |      D.items() -> a set-like object providing a view on D's items\n",
            " |  \n",
            " |  keys(...)\n",
            " |      D.keys() -> a set-like object providing a view on D's keys\n",
            " |  \n",
            " |  pop(...)\n",
            " |      D.pop(k[,d]) -> v, remove specified key and return the corresponding value.\n",
            " |      \n",
            " |      If the key is not found, return the default if given; otherwise,\n",
            " |      raise a KeyError.\n",
            " |  \n",
            " |  popitem(self, /)\n",
            " |      Remove and return a (key, value) pair as a 2-tuple.\n",
            " |      \n",
            " |      Pairs are returned in LIFO (last-in, first-out) order.\n",
            " |      Raises KeyError if the dict is empty.\n",
            " |  \n",
            " |  setdefault(self, key, default=None, /)\n",
            " |      Insert key with a value of default if key is not in the dictionary.\n",
            " |      \n",
            " |      Return the value for key if key is in the dictionary, else default.\n",
            " |  \n",
            " |  update(...)\n",
            " |      D.update([E, ]**F) -> None.  Update D from dict/iterable E and F.\n",
            " |      If E is present and has a .keys() method, then does:  for k in E: D[k] = E[k]\n",
            " |      If E is present and lacks a .keys() method, then does:  for k, v in E: D[k] = v\n",
            " |      In either case, this is followed by: for k in F:  D[k] = F[k]\n",
            " |  \n",
            " |  values(...)\n",
            " |      D.values() -> an object providing a view on D's values\n",
            " |  \n",
            " |  ----------------------------------------------------------------------\n",
            " |  Class methods defined here:\n",
            " |  \n",
            " |  __class_getitem__(...)\n",
            " |      See PEP 585\n",
            " |  \n",
            " |  fromkeys(iterable, value=None, /)\n",
            " |      Create a new dictionary with keys from iterable and values set to value.\n",
            " |  \n",
            " |  ----------------------------------------------------------------------\n",
            " |  Static methods defined here:\n",
            " |  \n",
            " |  __new__(*args, **kwargs)\n",
            " |      Create and return a new object.  See help(type) for accurate signature.\n",
            " |  \n",
            " |  ----------------------------------------------------------------------\n",
            " |  Data and other attributes defined here:\n",
            " |  \n",
            " |  __hash__ = None\n",
            "\n"
          ]
        }
      ],
      "source": [
        "help(dict)"
      ]
    },
    {
      "cell_type": "markdown",
      "metadata": {
        "id": "GZb7ALT7Rr4Q"
      },
      "source": [
        "#### Sort dict"
      ]
    },
    {
      "cell_type": "code",
      "execution_count": 195,
      "metadata": {
        "colab": {
          "base_uri": "https://localhost:8080/"
        },
        "id": "gWLCujIdRr4R",
        "outputId": "625a3dbb-0814-4999-9180-3425397445b8"
      },
      "outputs": [
        {
          "output_type": "stream",
          "name": "stdout",
          "text": [
            "[('0_value', 5), ('1_share', 'F2'), ('2_fund', 'F1')]\n",
            "{'0_value': 5, '1_share': 'F2', '2_fund': 'F1'}\n",
            "[('0_value', 5), ('2_fund', 'F1'), ('1_share', 'F2')]\n",
            "{'0_value': 5, '2_fund': 'F1', '1_share': 'F2'}\n"
          ]
        }
      ],
      "source": [
        "my_dict = {'2_fund': 'F1', '0_value': 5, '1_share': 'F2'}\n",
        "# sort by key\n",
        "print(sorted(my_dict.items(),key=lambda x: str(x[0])))\n",
        "print(dict(sorted(my_dict.items(),key=lambda x: str(x[0]))))\n",
        "# sort by value\n",
        "print(sorted(my_dict.items(),key=lambda x: str(x[1])))\n",
        "# create another dict from the sorted items\n",
        "print(dict(sorted(my_dict.items(),key=lambda x: str(x[1]))))"
      ]
    },
    {
      "cell_type": "code",
      "execution_count": 196,
      "metadata": {
        "scrolled": true,
        "colab": {
          "base_uri": "https://localhost:8080/",
          "height": 240
        },
        "id": "1HSieLNbRr4R",
        "outputId": "38fc6c37-f63e-4942-b426-1953683bc8b4"
      },
      "outputs": [
        {
          "output_type": "stream",
          "name": "stdout",
          "text": [
            "[{'fund': 'a', 'share': 100}, {'fund': 'b', 'share': 200}]\n"
          ]
        },
        {
          "output_type": "display_data",
          "data": {
            "text/plain": [
              "  fund  share\n",
              "0    a    100\n",
              "1    b    200"
            ],
            "text/html": [
              "\n",
              "  <div id=\"df-12397355-9d14-4e84-ae2a-257358176d4c\" class=\"colab-df-container\">\n",
              "    <div>\n",
              "<style scoped>\n",
              "    .dataframe tbody tr th:only-of-type {\n",
              "        vertical-align: middle;\n",
              "    }\n",
              "\n",
              "    .dataframe tbody tr th {\n",
              "        vertical-align: top;\n",
              "    }\n",
              "\n",
              "    .dataframe thead th {\n",
              "        text-align: right;\n",
              "    }\n",
              "</style>\n",
              "<table border=\"1\" class=\"dataframe\">\n",
              "  <thead>\n",
              "    <tr style=\"text-align: right;\">\n",
              "      <th></th>\n",
              "      <th>fund</th>\n",
              "      <th>share</th>\n",
              "    </tr>\n",
              "  </thead>\n",
              "  <tbody>\n",
              "    <tr>\n",
              "      <th>0</th>\n",
              "      <td>a</td>\n",
              "      <td>100</td>\n",
              "    </tr>\n",
              "    <tr>\n",
              "      <th>1</th>\n",
              "      <td>b</td>\n",
              "      <td>200</td>\n",
              "    </tr>\n",
              "  </tbody>\n",
              "</table>\n",
              "</div>\n",
              "    <div class=\"colab-df-buttons\">\n",
              "\n",
              "  <div class=\"colab-df-container\">\n",
              "    <button class=\"colab-df-convert\" onclick=\"convertToInteractive('df-12397355-9d14-4e84-ae2a-257358176d4c')\"\n",
              "            title=\"Convert this dataframe to an interactive table.\"\n",
              "            style=\"display:none;\">\n",
              "\n",
              "  <svg xmlns=\"http://www.w3.org/2000/svg\" height=\"24px\" viewBox=\"0 -960 960 960\">\n",
              "    <path d=\"M120-120v-720h720v720H120Zm60-500h600v-160H180v160Zm220 220h160v-160H400v160Zm0 220h160v-160H400v160ZM180-400h160v-160H180v160Zm440 0h160v-160H620v160ZM180-180h160v-160H180v160Zm440 0h160v-160H620v160Z\"/>\n",
              "  </svg>\n",
              "    </button>\n",
              "\n",
              "  <style>\n",
              "    .colab-df-container {\n",
              "      display:flex;\n",
              "      gap: 12px;\n",
              "    }\n",
              "\n",
              "    .colab-df-convert {\n",
              "      background-color: #E8F0FE;\n",
              "      border: none;\n",
              "      border-radius: 50%;\n",
              "      cursor: pointer;\n",
              "      display: none;\n",
              "      fill: #1967D2;\n",
              "      height: 32px;\n",
              "      padding: 0 0 0 0;\n",
              "      width: 32px;\n",
              "    }\n",
              "\n",
              "    .colab-df-convert:hover {\n",
              "      background-color: #E2EBFA;\n",
              "      box-shadow: 0px 1px 2px rgba(60, 64, 67, 0.3), 0px 1px 3px 1px rgba(60, 64, 67, 0.15);\n",
              "      fill: #174EA6;\n",
              "    }\n",
              "\n",
              "    .colab-df-buttons div {\n",
              "      margin-bottom: 4px;\n",
              "    }\n",
              "\n",
              "    [theme=dark] .colab-df-convert {\n",
              "      background-color: #3B4455;\n",
              "      fill: #D2E3FC;\n",
              "    }\n",
              "\n",
              "    [theme=dark] .colab-df-convert:hover {\n",
              "      background-color: #434B5C;\n",
              "      box-shadow: 0px 1px 3px 1px rgba(0, 0, 0, 0.15);\n",
              "      filter: drop-shadow(0px 1px 2px rgba(0, 0, 0, 0.3));\n",
              "      fill: #FFFFFF;\n",
              "    }\n",
              "  </style>\n",
              "\n",
              "    <script>\n",
              "      const buttonEl =\n",
              "        document.querySelector('#df-12397355-9d14-4e84-ae2a-257358176d4c button.colab-df-convert');\n",
              "      buttonEl.style.display =\n",
              "        google.colab.kernel.accessAllowed ? 'block' : 'none';\n",
              "\n",
              "      async function convertToInteractive(key) {\n",
              "        const element = document.querySelector('#df-12397355-9d14-4e84-ae2a-257358176d4c');\n",
              "        const dataTable =\n",
              "          await google.colab.kernel.invokeFunction('convertToInteractive',\n",
              "                                                    [key], {});\n",
              "        if (!dataTable) return;\n",
              "\n",
              "        const docLinkHtml = 'Like what you see? Visit the ' +\n",
              "          '<a target=\"_blank\" href=https://colab.research.google.com/notebooks/data_table.ipynb>data table notebook</a>'\n",
              "          + ' to learn more about interactive tables.';\n",
              "        element.innerHTML = '';\n",
              "        dataTable['output_type'] = 'display_data';\n",
              "        await google.colab.output.renderOutput(dataTable, element);\n",
              "        const docLink = document.createElement('div');\n",
              "        docLink.innerHTML = docLinkHtml;\n",
              "        element.appendChild(docLink);\n",
              "      }\n",
              "    </script>\n",
              "  </div>\n",
              "\n",
              "\n",
              "    <div id=\"df-5bc7908c-6c7d-4067-8266-fee3828cbf77\">\n",
              "      <button class=\"colab-df-quickchart\" onclick=\"quickchart('df-5bc7908c-6c7d-4067-8266-fee3828cbf77')\"\n",
              "                title=\"Suggest charts\"\n",
              "                style=\"display:none;\">\n",
              "\n",
              "<svg xmlns=\"http://www.w3.org/2000/svg\" height=\"24px\"viewBox=\"0 0 24 24\"\n",
              "     width=\"24px\">\n",
              "    <g>\n",
              "        <path d=\"M19 3H5c-1.1 0-2 .9-2 2v14c0 1.1.9 2 2 2h14c1.1 0 2-.9 2-2V5c0-1.1-.9-2-2-2zM9 17H7v-7h2v7zm4 0h-2V7h2v10zm4 0h-2v-4h2v4z\"/>\n",
              "    </g>\n",
              "</svg>\n",
              "      </button>\n",
              "\n",
              "<style>\n",
              "  .colab-df-quickchart {\n",
              "      --bg-color: #E8F0FE;\n",
              "      --fill-color: #1967D2;\n",
              "      --hover-bg-color: #E2EBFA;\n",
              "      --hover-fill-color: #174EA6;\n",
              "      --disabled-fill-color: #AAA;\n",
              "      --disabled-bg-color: #DDD;\n",
              "  }\n",
              "\n",
              "  [theme=dark] .colab-df-quickchart {\n",
              "      --bg-color: #3B4455;\n",
              "      --fill-color: #D2E3FC;\n",
              "      --hover-bg-color: #434B5C;\n",
              "      --hover-fill-color: #FFFFFF;\n",
              "      --disabled-bg-color: #3B4455;\n",
              "      --disabled-fill-color: #666;\n",
              "  }\n",
              "\n",
              "  .colab-df-quickchart {\n",
              "    background-color: var(--bg-color);\n",
              "    border: none;\n",
              "    border-radius: 50%;\n",
              "    cursor: pointer;\n",
              "    display: none;\n",
              "    fill: var(--fill-color);\n",
              "    height: 32px;\n",
              "    padding: 0;\n",
              "    width: 32px;\n",
              "  }\n",
              "\n",
              "  .colab-df-quickchart:hover {\n",
              "    background-color: var(--hover-bg-color);\n",
              "    box-shadow: 0 1px 2px rgba(60, 64, 67, 0.3), 0 1px 3px 1px rgba(60, 64, 67, 0.15);\n",
              "    fill: var(--button-hover-fill-color);\n",
              "  }\n",
              "\n",
              "  .colab-df-quickchart-complete:disabled,\n",
              "  .colab-df-quickchart-complete:disabled:hover {\n",
              "    background-color: var(--disabled-bg-color);\n",
              "    fill: var(--disabled-fill-color);\n",
              "    box-shadow: none;\n",
              "  }\n",
              "\n",
              "  .colab-df-spinner {\n",
              "    border: 2px solid var(--fill-color);\n",
              "    border-color: transparent;\n",
              "    border-bottom-color: var(--fill-color);\n",
              "    animation:\n",
              "      spin 1s steps(1) infinite;\n",
              "  }\n",
              "\n",
              "  @keyframes spin {\n",
              "    0% {\n",
              "      border-color: transparent;\n",
              "      border-bottom-color: var(--fill-color);\n",
              "      border-left-color: var(--fill-color);\n",
              "    }\n",
              "    20% {\n",
              "      border-color: transparent;\n",
              "      border-left-color: var(--fill-color);\n",
              "      border-top-color: var(--fill-color);\n",
              "    }\n",
              "    30% {\n",
              "      border-color: transparent;\n",
              "      border-left-color: var(--fill-color);\n",
              "      border-top-color: var(--fill-color);\n",
              "      border-right-color: var(--fill-color);\n",
              "    }\n",
              "    40% {\n",
              "      border-color: transparent;\n",
              "      border-right-color: var(--fill-color);\n",
              "      border-top-color: var(--fill-color);\n",
              "    }\n",
              "    60% {\n",
              "      border-color: transparent;\n",
              "      border-right-color: var(--fill-color);\n",
              "    }\n",
              "    80% {\n",
              "      border-color: transparent;\n",
              "      border-right-color: var(--fill-color);\n",
              "      border-bottom-color: var(--fill-color);\n",
              "    }\n",
              "    90% {\n",
              "      border-color: transparent;\n",
              "      border-bottom-color: var(--fill-color);\n",
              "    }\n",
              "  }\n",
              "</style>\n",
              "\n",
              "      <script>\n",
              "        async function quickchart(key) {\n",
              "          const quickchartButtonEl =\n",
              "            document.querySelector('#' + key + ' button');\n",
              "          quickchartButtonEl.disabled = true;  // To prevent multiple clicks.\n",
              "          quickchartButtonEl.classList.add('colab-df-spinner');\n",
              "          try {\n",
              "            const charts = await google.colab.kernel.invokeFunction(\n",
              "                'suggestCharts', [key], {});\n",
              "          } catch (error) {\n",
              "            console.error('Error during call to suggestCharts:', error);\n",
              "          }\n",
              "          quickchartButtonEl.classList.remove('colab-df-spinner');\n",
              "          quickchartButtonEl.classList.add('colab-df-quickchart-complete');\n",
              "        }\n",
              "        (() => {\n",
              "          let quickchartButtonEl =\n",
              "            document.querySelector('#df-5bc7908c-6c7d-4067-8266-fee3828cbf77 button');\n",
              "          quickchartButtonEl.style.display =\n",
              "            google.colab.kernel.accessAllowed ? 'block' : 'none';\n",
              "        })();\n",
              "      </script>\n",
              "    </div>\n",
              "\n",
              "  <div id=\"id_9eb93d00-7c3d-4187-bfd0-3ea3f1045847\">\n",
              "    <style>\n",
              "      .colab-df-generate {\n",
              "        background-color: #E8F0FE;\n",
              "        border: none;\n",
              "        border-radius: 50%;\n",
              "        cursor: pointer;\n",
              "        display: none;\n",
              "        fill: #1967D2;\n",
              "        height: 32px;\n",
              "        padding: 0 0 0 0;\n",
              "        width: 32px;\n",
              "      }\n",
              "\n",
              "      .colab-df-generate:hover {\n",
              "        background-color: #E2EBFA;\n",
              "        box-shadow: 0px 1px 2px rgba(60, 64, 67, 0.3), 0px 1px 3px 1px rgba(60, 64, 67, 0.15);\n",
              "        fill: #174EA6;\n",
              "      }\n",
              "\n",
              "      [theme=dark] .colab-df-generate {\n",
              "        background-color: #3B4455;\n",
              "        fill: #D2E3FC;\n",
              "      }\n",
              "\n",
              "      [theme=dark] .colab-df-generate:hover {\n",
              "        background-color: #434B5C;\n",
              "        box-shadow: 0px 1px 3px 1px rgba(0, 0, 0, 0.15);\n",
              "        filter: drop-shadow(0px 1px 2px rgba(0, 0, 0, 0.3));\n",
              "        fill: #FFFFFF;\n",
              "      }\n",
              "    </style>\n",
              "    <button class=\"colab-df-generate\" onclick=\"generateWithVariable('my_table')\"\n",
              "            title=\"Generate code using this dataframe.\"\n",
              "            style=\"display:none;\">\n",
              "\n",
              "  <svg xmlns=\"http://www.w3.org/2000/svg\" height=\"24px\"viewBox=\"0 0 24 24\"\n",
              "       width=\"24px\">\n",
              "    <path d=\"M7,19H8.4L18.45,9,17,7.55,7,17.6ZM5,21V16.75L18.45,3.32a2,2,0,0,1,2.83,0l1.4,1.43a1.91,1.91,0,0,1,.58,1.4,1.91,1.91,0,0,1-.58,1.4L9.25,21ZM18.45,9,17,7.55Zm-12,3A5.31,5.31,0,0,0,4.9,8.1,5.31,5.31,0,0,0,1,6.5,5.31,5.31,0,0,0,4.9,4.9,5.31,5.31,0,0,0,6.5,1,5.31,5.31,0,0,0,8.1,4.9,5.31,5.31,0,0,0,12,6.5,5.46,5.46,0,0,0,6.5,12Z\"/>\n",
              "  </svg>\n",
              "    </button>\n",
              "    <script>\n",
              "      (() => {\n",
              "      const buttonEl =\n",
              "        document.querySelector('#id_9eb93d00-7c3d-4187-bfd0-3ea3f1045847 button.colab-df-generate');\n",
              "      buttonEl.style.display =\n",
              "        google.colab.kernel.accessAllowed ? 'block' : 'none';\n",
              "\n",
              "      buttonEl.onclick = () => {\n",
              "        google.colab.notebook.generateWithVariable('my_table');\n",
              "      }\n",
              "      })();\n",
              "    </script>\n",
              "  </div>\n",
              "\n",
              "    </div>\n",
              "  </div>\n"
            ],
            "application/vnd.google.colaboratory.intrinsic+json": {
              "type": "dataframe",
              "variable_name": "my_table",
              "summary": "{\n  \"name\": \"my_table\",\n  \"rows\": 2,\n  \"fields\": [\n    {\n      \"column\": \"fund\",\n      \"properties\": {\n        \"dtype\": \"string\",\n        \"num_unique_values\": 2,\n        \"samples\": [\n          \"b\",\n          \"a\"\n        ],\n        \"semantic_type\": \"\",\n        \"description\": \"\"\n      }\n    },\n    {\n      \"column\": \"share\",\n      \"properties\": {\n        \"dtype\": \"number\",\n        \"std\": 70,\n        \"min\": 100,\n        \"max\": 200,\n        \"num_unique_values\": 2,\n        \"samples\": [\n          200,\n          100\n        ],\n        \"semantic_type\": \"\",\n        \"description\": \"\"\n      }\n    }\n  ]\n}"
            }
          },
          "metadata": {}
        },
        {
          "output_type": "stream",
          "name": "stdout",
          "text": [
            "0 fund       a\n",
            "share    100\n",
            "Name: 0, dtype: object\n",
            "1 fund       b\n",
            "share    200\n",
            "Name: 1, dtype: object\n"
          ]
        }
      ],
      "source": [
        "from IPython.display import display\n",
        "\n",
        "my_list_contain_dict = [{'fund': 'a', 'share': 100},{'fund': 'b', 'share': 200}]\n",
        "print(my_list_contain_dict)\n",
        "import pandas as pd\n",
        "my_table = pd.DataFrame(my_list_contain_dict)\n",
        "my_table\n",
        "display(my_table)\n",
        "for index, row in my_table.iterrows():\n",
        "    print(index, row)"
      ]
    },
    {
      "cell_type": "markdown",
      "metadata": {
        "id": "Ym4SyP0QRr4R"
      },
      "source": [
        "#### Creating dicts from sequences"
      ]
    },
    {
      "cell_type": "code",
      "execution_count": 198,
      "metadata": {
        "id": "1tdAz9TcRr4R"
      },
      "outputs": [],
      "source": [
        "key_list = ['name', 'age', 'city', 'country']\n",
        "value_list = ['John', 25, 'NYC', 'USA']\n",
        "\n",
        "mapping = {}\n",
        "for key, value in zip(key_list, value_list):\n",
        "    mapping[key] = value"
      ]
    },
    {
      "cell_type": "code",
      "execution_count": 199,
      "metadata": {
        "id": "LA22gt2rRr4R",
        "colab": {
          "base_uri": "https://localhost:8080/"
        },
        "outputId": "97367962-114c-4bd5-911d-7ecd82cd053e"
      },
      "outputs": [
        {
          "output_type": "execute_result",
          "data": {
            "text/plain": [
              "{0: 4, 1: 3, 2: 2, 3: 1, 4: 0}"
            ]
          },
          "metadata": {},
          "execution_count": 199
        }
      ],
      "source": [
        "mapping = dict(zip(range(5), reversed(range(5))))\n",
        "mapping"
      ]
    },
    {
      "cell_type": "code",
      "execution_count": 202,
      "metadata": {
        "id": "GcZUVJhNRr4R"
      },
      "outputs": [],
      "source": [
        "some_dict = {'apple': 5, 'banana': 3, 'orange': 8}\n",
        "key = 'grape'\n",
        "default_value = 0\n",
        "\n",
        "if key in some_dict:\n",
        "    value = some_dict[key]\n",
        "else:\n",
        "    value = default_value\n",
        "\n"
      ]
    },
    {
      "cell_type": "code",
      "execution_count": 203,
      "metadata": {
        "id": "YGcgtb0DRr4R"
      },
      "outputs": [],
      "source": [
        "value = some_dict.get(key, default_value)"
      ]
    },
    {
      "cell_type": "code",
      "execution_count": 204,
      "metadata": {
        "id": "SkVo8M9BRr4R",
        "colab": {
          "base_uri": "https://localhost:8080/"
        },
        "outputId": "2a91ce79-4e69-47e0-aa30-4cf7776e04dc"
      },
      "outputs": [
        {
          "output_type": "execute_result",
          "data": {
            "text/plain": [
              "0"
            ]
          },
          "metadata": {},
          "execution_count": 204
        }
      ],
      "source": [
        "x={1:2, 3:4}\n",
        "x.get(6, 0)"
      ]
    },
    {
      "cell_type": "code",
      "execution_count": 205,
      "metadata": {
        "id": "Y1DCbv76Rr4R",
        "colab": {
          "base_uri": "https://localhost:8080/"
        },
        "outputId": "3e0e1717-5614-4ae3-d541-47f7cdd8756b"
      },
      "outputs": [
        {
          "output_type": "execute_result",
          "data": {
            "text/plain": [
              "{'a': ['apple', 'atom'], 'b': ['bat', 'bar', 'book']}"
            ]
          },
          "metadata": {},
          "execution_count": 205
        }
      ],
      "source": [
        "words = ['apple', 'bat', 'bar', 'atom', 'book']\n",
        "by_letter = {}\n",
        "for word in words:\n",
        "    letter = word[0]\n",
        "    if letter not in by_letter:\n",
        "        by_letter[letter] = [word]\n",
        "    else:\n",
        "        by_letter[letter].append(word)\n",
        "by_letter"
      ]
    },
    {
      "cell_type": "markdown",
      "metadata": {
        "id": "IdwGE8D6Rr4R"
      },
      "source": [
        "### List, Set, and Dict Comprehensions"
      ]
    },
    {
      "cell_type": "code",
      "execution_count": 206,
      "metadata": {
        "colab": {
          "base_uri": "https://localhost:8080/"
        },
        "id": "tTEejsU4Rr4R",
        "outputId": "68e81181-120a-401e-c495-166e53f8eaf3"
      },
      "outputs": [
        {
          "output_type": "execute_result",
          "data": {
            "text/plain": [
              "['BAT', 'CAR', 'DOVE', 'PYTHON']"
            ]
          },
          "metadata": {},
          "execution_count": 206
        }
      ],
      "source": [
        "strings = ['a', 'as', 'bat', 'car', 'dove', 'python']\n",
        "[x.upper() for x in strings if len(x) > 2]"
      ]
    },
    {
      "cell_type": "markdown",
      "metadata": {
        "id": "mXSBxcLpRr4R"
      },
      "source": [
        "* dict_comp = { xx:yy}"
      ]
    },
    {
      "cell_type": "markdown",
      "metadata": {
        "id": "3GGl9COPRr4R"
      },
      "source": [
        "* set_comp = { xx, yy}"
      ]
    },
    {
      "cell_type": "code",
      "execution_count": 207,
      "metadata": {
        "colab": {
          "base_uri": "https://localhost:8080/"
        },
        "id": "BwhNVETyRr4R",
        "outputId": "2fe22ae9-1943-4357-d330-698b8e3199f8"
      },
      "outputs": [
        {
          "output_type": "execute_result",
          "data": {
            "text/plain": [
              "{1, 2, 3, 4, 6}"
            ]
          },
          "metadata": {},
          "execution_count": 207
        }
      ],
      "source": [
        "unique_lengths = {len(x) for x in strings}\n",
        "unique_lengths"
      ]
    },
    {
      "cell_type": "code",
      "execution_count": 208,
      "metadata": {
        "colab": {
          "base_uri": "https://localhost:8080/"
        },
        "id": "81BI7audRr4S",
        "outputId": "2894e170-0ddb-4573-c59c-d05e8f890860"
      },
      "outputs": [
        {
          "output_type": "execute_result",
          "data": {
            "text/plain": [
              "{1, 2, 3, 4, 6}"
            ]
          },
          "metadata": {},
          "execution_count": 208
        }
      ],
      "source": [
        "set(map(len, strings))"
      ]
    },
    {
      "cell_type": "code",
      "execution_count": 209,
      "metadata": {
        "colab": {
          "base_uri": "https://localhost:8080/"
        },
        "id": "CHJpji6ZRr4S",
        "outputId": "22686592-2d5b-4c48-9107-af4847ebd4fa"
      },
      "outputs": [
        {
          "output_type": "execute_result",
          "data": {
            "text/plain": [
              "{'a': 0, 'as': 1, 'bat': 2, 'car': 3, 'dove': 4, 'python': 5}"
            ]
          },
          "metadata": {},
          "execution_count": 209
        }
      ],
      "source": [
        "loc_mapping = {val : index for index, val in enumerate(strings)}\n",
        "loc_mapping"
      ]
    },
    {
      "cell_type": "markdown",
      "metadata": {
        "id": "aGFW69xrRr4S"
      },
      "source": [
        "#### Nested list comprehensions"
      ]
    },
    {
      "cell_type": "code",
      "execution_count": 210,
      "metadata": {
        "id": "OCkPCOQ9Rr4S"
      },
      "outputs": [],
      "source": [
        "all_data = [['John', 'Emily', 'Michael', 'Mary', 'Steven'],\n",
        "            ['Maria', 'Juan', 'Javier', 'Natalia', 'Pilar']]"
      ]
    },
    {
      "cell_type": "code",
      "execution_count": 211,
      "metadata": {
        "colab": {
          "base_uri": "https://localhost:8080/"
        },
        "id": "ATnPm9kQRr4S",
        "outputId": "5f0edd7f-e2c8-4f9a-8b11-ffecd6193e0e"
      },
      "outputs": [
        {
          "output_type": "execute_result",
          "data": {
            "text/plain": [
              "['Steven']"
            ]
          },
          "metadata": {},
          "execution_count": 211
        }
      ],
      "source": [
        "names_of_interest = []\n",
        "for names in all_data:\n",
        "    enough_es = [name for name in names if name.count('e') >= 2]\n",
        "    names_of_interest.extend(enough_es)\n",
        "names_of_interest"
      ]
    },
    {
      "cell_type": "code",
      "execution_count": 212,
      "metadata": {
        "colab": {
          "base_uri": "https://localhost:8080/"
        },
        "id": "fA6v4fdzRr4S",
        "outputId": "159d0adc-f313-4815-897a-1755c33a30e3"
      },
      "outputs": [
        {
          "output_type": "execute_result",
          "data": {
            "text/plain": [
              "['Steven']"
            ]
          },
          "metadata": {},
          "execution_count": 212
        }
      ],
      "source": [
        "result = [name for names in all_data for name in names\n",
        "          if name.count('e') >= 2]\n",
        "result"
      ]
    },
    {
      "cell_type": "code",
      "execution_count": 213,
      "metadata": {
        "colab": {
          "base_uri": "https://localhost:8080/"
        },
        "id": "7Gp5vangRr4S",
        "outputId": "fa35d381-c002-4a0c-fe7c-fa6dadca6b6f"
      },
      "outputs": [
        {
          "output_type": "execute_result",
          "data": {
            "text/plain": [
              "[1, 2, 3, 4, 5, 6, 7, 8, 9]"
            ]
          },
          "metadata": {},
          "execution_count": 213
        }
      ],
      "source": [
        "some_tuples = [(1, 2, 3), (4, 5, 6), (7, 8, 9)]\n",
        "flattened = [x for tup in some_tuples for x in tup]\n",
        "flattened"
      ]
    },
    {
      "cell_type": "code",
      "execution_count": 214,
      "metadata": {
        "id": "u7E9L49lRr4S"
      },
      "outputs": [],
      "source": [
        "flattened = []\n",
        "\n",
        "for tup in some_tuples:\n",
        "    for x in tup:\n",
        "        flattened.append(x)"
      ]
    },
    {
      "cell_type": "code",
      "execution_count": 215,
      "metadata": {
        "colab": {
          "base_uri": "https://localhost:8080/"
        },
        "id": "O8g6IiGkRr4S",
        "outputId": "676bb0fb-4ff5-4417-b266-33ed08e9d993"
      },
      "outputs": [
        {
          "output_type": "execute_result",
          "data": {
            "text/plain": [
              "[[], [6], [7, 8, 9]]"
            ]
          },
          "metadata": {},
          "execution_count": 215
        }
      ],
      "source": [
        "[[x for x in tup if x>5] for tup in some_tuples]"
      ]
    },
    {
      "cell_type": "markdown",
      "metadata": {
        "id": "F6BYvAGnRr4S"
      },
      "source": [
        "## Functions"
      ]
    },
    {
      "cell_type": "code",
      "execution_count": 216,
      "metadata": {
        "id": "74gRGhNFRr4S"
      },
      "outputs": [],
      "source": [
        "def my_function(x, y, z=1.5):\n",
        "    if z > 1:\n",
        "        return z * (x + y)\n",
        "    else:\n",
        "        return z / (x + y)"
      ]
    },
    {
      "cell_type": "code",
      "execution_count": 217,
      "metadata": {
        "id": "nNLlMaUhRr4S"
      },
      "outputs": [],
      "source": [
        "def func2(x):\n",
        "    if isinstance(x, int):\n",
        "        if x>0:\n",
        "            return True\n",
        "        elif x==0:\n",
        "            return \"abc\"\n",
        "        else:\n",
        "            return 1,2,3\n",
        "    elif isinstance(x, str):\n",
        "        return \"Great\""
      ]
    },
    {
      "cell_type": "code",
      "execution_count": 218,
      "metadata": {
        "colab": {
          "base_uri": "https://localhost:8080/",
          "height": 34
        },
        "id": "XMJ7YEarRr4S",
        "outputId": "5e5057e5-22c3-41f8-84d6-22e07379d28c"
      },
      "outputs": [
        {
          "output_type": "execute_result",
          "data": {
            "text/plain": [
              "'Great'"
            ],
            "application/vnd.google.colaboratory.intrinsic+json": {
              "type": "string"
            }
          },
          "metadata": {},
          "execution_count": 218
        }
      ],
      "source": [
        "func2('abc')"
      ]
    },
    {
      "cell_type": "code",
      "execution_count": 219,
      "metadata": {
        "colab": {
          "base_uri": "https://localhost:8080/"
        },
        "id": "Blvyqfs3Rr4S",
        "outputId": "6561bcb2-188e-4bf5-d06b-ce951b3a6567"
      },
      "outputs": [
        {
          "output_type": "execute_result",
          "data": {
            "text/plain": [
              "True"
            ]
          },
          "metadata": {},
          "execution_count": 219
        }
      ],
      "source": [
        "isinstance(True, int)"
      ]
    },
    {
      "cell_type": "code",
      "execution_count": 220,
      "metadata": {
        "colab": {
          "base_uri": "https://localhost:8080/"
        },
        "id": "e73yzHbmRr4S",
        "outputId": "de0363af-d6c2-4d05-eb2c-e8eeb1f9aafe"
      },
      "outputs": [
        {
          "output_type": "stream",
          "name": "stdout",
          "text": [
            "0.06363636363636363\n",
            "35.49\n",
            "45.0\n"
          ]
        }
      ],
      "source": [
        "print(my_function(5, 6, z=0.7))\n",
        "print(my_function(3.14, 7, 3.5))\n",
        "print(my_function(10, 20))"
      ]
    },
    {
      "cell_type": "markdown",
      "metadata": {
        "id": "k4PYp8fvRr4S"
      },
      "source": [
        "### Namespaces, Scope, and Local Functions"
      ]
    },
    {
      "cell_type": "code",
      "execution_count": 221,
      "metadata": {
        "id": "zFqt_fnQRr4S"
      },
      "outputs": [],
      "source": [
        "def func():\n",
        "    a = []\n",
        "    for i in range(5):\n",
        "        a.append(i)"
      ]
    },
    {
      "cell_type": "code",
      "execution_count": 222,
      "metadata": {
        "colab": {
          "base_uri": "https://localhost:8080/"
        },
        "id": "4iL_bvshRr4T",
        "outputId": "0d0bb04b-85b8-416a-ea92-6dbcf107cb95"
      },
      "outputs": [
        {
          "output_type": "execute_result",
          "data": {
            "text/plain": [
              "[0, 1, 2, 3, 4]"
            ]
          },
          "metadata": {},
          "execution_count": 222
        }
      ],
      "source": [
        "a = []\n",
        "def func():\n",
        "#     global a\n",
        "#     a=[]\n",
        "    for i in range(5):\n",
        "        a.append(i)\n",
        "func()\n",
        "a"
      ]
    },
    {
      "cell_type": "markdown",
      "metadata": {
        "id": "TyePORx2Rr4T"
      },
      "source": [
        "* Variable is global unless is assigned by value. If you want to keep it global, you have to declare it."
      ]
    },
    {
      "cell_type": "code",
      "execution_count": 223,
      "metadata": {
        "colab": {
          "base_uri": "https://localhost:8080/"
        },
        "id": "NVIH4M-jRr4T",
        "outputId": "a63c42e2-018e-4da5-c468-f17a3c082a81"
      },
      "outputs": [
        {
          "output_type": "stream",
          "name": "stdout",
          "text": [
            "[]\n"
          ]
        }
      ],
      "source": [
        "a = None\n",
        "def bind_a_variable():\n",
        "    global a\n",
        "    a = []\n",
        "bind_a_variable()\n",
        "print(a)"
      ]
    },
    {
      "cell_type": "markdown",
      "metadata": {
        "id": "fP4iRBjcRr4T"
      },
      "source": [
        "### Returning Multiple Values"
      ]
    },
    {
      "cell_type": "code",
      "execution_count": 224,
      "metadata": {
        "id": "jFOYQfvrRr4T"
      },
      "outputs": [],
      "source": [
        "def f():\n",
        "    a = 5\n",
        "    b = 6\n",
        "    c = 7\n",
        "    return a, b, c\n",
        "\n",
        "a, b, c = f()"
      ]
    },
    {
      "cell_type": "code",
      "execution_count": 225,
      "metadata": {
        "colab": {
          "base_uri": "https://localhost:8080/"
        },
        "id": "ZODAKCu7Rr4T",
        "outputId": "24e21f2c-e976-4684-9e27-2d3b5a55e3b4"
      },
      "outputs": [
        {
          "output_type": "execute_result",
          "data": {
            "text/plain": [
              "(5, 6, 7)"
            ]
          },
          "metadata": {},
          "execution_count": 225
        }
      ],
      "source": [
        "return_value = f()\n",
        "return_value"
      ]
    },
    {
      "cell_type": "code",
      "execution_count": 226,
      "metadata": {
        "id": "iqQi2U06Rr4T"
      },
      "outputs": [],
      "source": [
        "def f():\n",
        "    a = 5\n",
        "    b = 6\n",
        "    c = 7\n",
        "    return {'a' : a, 'b' : b, 'c' : c}"
      ]
    },
    {
      "cell_type": "markdown",
      "metadata": {
        "id": "dsvEP9n9Rr4T"
      },
      "source": [
        "### Functions Are Objects"
      ]
    },
    {
      "cell_type": "code",
      "execution_count": 227,
      "metadata": {
        "id": "trHkWaleRr4T"
      },
      "outputs": [],
      "source": [
        "states = ['   Alabama ', 'Georgia!', 'Georgia', 'georgia', 'FlOrIda',\n",
        "          'south   carolina##', 'West virginia?']"
      ]
    },
    {
      "cell_type": "code",
      "execution_count": 228,
      "metadata": {
        "id": "a8SXhRagRr4T"
      },
      "outputs": [],
      "source": [
        "import re\n",
        "\n",
        "def clean_strings(strings):\n",
        "    result = []\n",
        "    for value in strings:\n",
        "        value = value.strip()\n",
        "        value = re.sub('[!#?]', '', value)\n",
        "        value = value.title()\n",
        "        result.append(value)\n",
        "    return result"
      ]
    },
    {
      "cell_type": "code",
      "execution_count": 229,
      "metadata": {
        "colab": {
          "base_uri": "https://localhost:8080/"
        },
        "id": "4b92kA9yRr4T",
        "outputId": "9d97aa52-d9f5-4adb-cca6-08ed100d9c16"
      },
      "outputs": [
        {
          "output_type": "execute_result",
          "data": {
            "text/plain": [
              "['Alabama',\n",
              " 'Georgia',\n",
              " 'Georgia',\n",
              " 'Georgia',\n",
              " 'Florida',\n",
              " 'South   Carolina',\n",
              " 'West Virginia']"
            ]
          },
          "metadata": {},
          "execution_count": 229
        }
      ],
      "source": [
        "clean_strings(states)"
      ]
    },
    {
      "cell_type": "code",
      "execution_count": 230,
      "metadata": {
        "id": "83R67QpDRr4T"
      },
      "outputs": [],
      "source": [
        "def remove_punctuation(value):\n",
        "    return re.sub('[!#?]', '', value)\n",
        "\n",
        "clean_ops = [str.strip, remove_punctuation, str.title]\n",
        "\n",
        "def clean_strings(strings, ops):\n",
        "    result = []\n",
        "    for value in strings:\n",
        "        for function in ops:\n",
        "            value = function(value)\n",
        "        result.append(value)\n",
        "    return result"
      ]
    },
    {
      "cell_type": "code",
      "execution_count": 231,
      "metadata": {
        "colab": {
          "base_uri": "https://localhost:8080/"
        },
        "id": "a4tW7Mt-Rr4T",
        "outputId": "88c934cc-2eb2-41d0-c61c-dda9293e4063"
      },
      "outputs": [
        {
          "output_type": "execute_result",
          "data": {
            "text/plain": [
              "['Alabama',\n",
              " 'Georgia',\n",
              " 'Georgia',\n",
              " 'Georgia',\n",
              " 'Florida',\n",
              " 'South   Carolina',\n",
              " 'West Virginia']"
            ]
          },
          "metadata": {},
          "execution_count": 231
        }
      ],
      "source": [
        "clean_strings(states, clean_ops)"
      ]
    },
    {
      "cell_type": "code",
      "execution_count": 232,
      "metadata": {
        "colab": {
          "base_uri": "https://localhost:8080/"
        },
        "id": "gSNNrA9mRr4T",
        "outputId": "3c568c81-d25b-4850-ae7d-3ca721cc179c"
      },
      "outputs": [
        {
          "output_type": "stream",
          "name": "stdout",
          "text": [
            "   Alabama \n",
            "Georgia\n",
            "Georgia\n",
            "georgia\n",
            "FlOrIda\n",
            "south   carolina\n",
            "West virginia\n"
          ]
        }
      ],
      "source": [
        "for x in map(remove_punctuation, states):\n",
        "    print(x)"
      ]
    },
    {
      "cell_type": "markdown",
      "metadata": {
        "id": "FMbVLKk9Rr4T"
      },
      "source": [
        "### Anonymous (Lambda) Functions"
      ]
    },
    {
      "cell_type": "code",
      "execution_count": 233,
      "metadata": {
        "id": "eWSAy4lXRr4T"
      },
      "outputs": [],
      "source": [
        "def short_function(x):\n",
        "    return x * 2\n",
        "\n",
        "equiv_anon = lambda x: x * 2"
      ]
    },
    {
      "cell_type": "code",
      "execution_count": 234,
      "metadata": {
        "colab": {
          "base_uri": "https://localhost:8080/"
        },
        "id": "JCvtfPHmRr4T",
        "outputId": "1ddf00a8-dc1f-4612-8be2-8bdf1be2859f"
      },
      "outputs": [
        {
          "output_type": "execute_result",
          "data": {
            "text/plain": [
              "4"
            ]
          },
          "metadata": {},
          "execution_count": 234
        }
      ],
      "source": [
        "equiv_anon(2)"
      ]
    },
    {
      "cell_type": "code",
      "execution_count": 235,
      "metadata": {
        "colab": {
          "base_uri": "https://localhost:8080/"
        },
        "id": "O6C8LAbjRr4T",
        "outputId": "210cf382-b30f-412a-e8f8-5d9d2dbcd791"
      },
      "outputs": [
        {
          "output_type": "execute_result",
          "data": {
            "text/plain": [
              "8"
            ]
          },
          "metadata": {},
          "execution_count": 235
        }
      ],
      "source": [
        "(lambda x: x * 2) (4)"
      ]
    },
    {
      "cell_type": "code",
      "execution_count": 236,
      "metadata": {
        "colab": {
          "base_uri": "https://localhost:8080/"
        },
        "id": "4I3BkgpTRr4U",
        "outputId": "aee182c5-90fa-4338-96c0-cacfefa78260"
      },
      "outputs": [
        {
          "output_type": "execute_result",
          "data": {
            "text/plain": [
              "[8, 0, 2, 10, 12]"
            ]
          },
          "metadata": {},
          "execution_count": 236
        }
      ],
      "source": [
        "def apply_to_list(some_list, f):\n",
        "    return [f(x) for x in some_list]\n",
        "\n",
        "ints = [4, 0, 1, 5, 6]\n",
        "apply_to_list(ints, lambda x: x * 2)"
      ]
    },
    {
      "cell_type": "code",
      "execution_count": 237,
      "metadata": {
        "id": "RrPcEtTnRr4U"
      },
      "outputs": [],
      "source": [
        "strings = ['foo', 'card', 'bar', 'aaaa', 'abab']"
      ]
    },
    {
      "cell_type": "code",
      "execution_count": 238,
      "metadata": {
        "colab": {
          "base_uri": "https://localhost:8080/"
        },
        "id": "PofpFSnBRr4U",
        "outputId": "2a8fa6ec-1dc7-4079-b5fd-107f23d4b9f5"
      },
      "outputs": [
        {
          "output_type": "execute_result",
          "data": {
            "text/plain": [
              "['aaaa', 'foo', 'abab', 'bar', 'card']"
            ]
          },
          "metadata": {},
          "execution_count": 238
        }
      ],
      "source": [
        "strings.sort(key=lambda x: len(set(list(x))))\n",
        "strings"
      ]
    },
    {
      "cell_type": "markdown",
      "metadata": {
        "id": "rWmOawmWRr4U"
      },
      "source": [
        "### Currying: Partial Argument Application"
      ]
    },
    {
      "cell_type": "code",
      "execution_count": 239,
      "metadata": {
        "colab": {
          "base_uri": "https://localhost:8080/"
        },
        "id": "-BDuZXKhRr4U",
        "outputId": "3cda08ed-7268-4f30-adaa-1d5e4196dc8e"
      },
      "outputs": [
        {
          "output_type": "execute_result",
          "data": {
            "text/plain": [
              "3"
            ]
          },
          "metadata": {},
          "execution_count": 239
        }
      ],
      "source": [
        "def add_numbers(x, y):\n",
        "    return x + y\n",
        "add_numbers(1,2)"
      ]
    },
    {
      "cell_type": "code",
      "execution_count": 240,
      "metadata": {
        "colab": {
          "base_uri": "https://localhost:8080/"
        },
        "id": "WCZyRe5gRr4U",
        "outputId": "7e4e6039-a7d4-44b8-9815-dc57045fc388"
      },
      "outputs": [
        {
          "output_type": "execute_result",
          "data": {
            "text/plain": [
              "6"
            ]
          },
          "metadata": {},
          "execution_count": 240
        }
      ],
      "source": [
        "add_five = lambda y: add_numbers(5, y)\n",
        "add_five(1)"
      ]
    },
    {
      "cell_type": "code",
      "execution_count": 241,
      "metadata": {
        "id": "mpHGk2a9Rr4U"
      },
      "outputs": [],
      "source": [
        "from functools import partial\n",
        "add_five = partial(add_numbers, 5)"
      ]
    },
    {
      "cell_type": "code",
      "execution_count": 242,
      "metadata": {
        "colab": {
          "base_uri": "https://localhost:8080/"
        },
        "id": "lFjWc3vHRr4U",
        "outputId": "106ca337-bda1-4f84-da3f-29e99f229579"
      },
      "outputs": [
        {
          "output_type": "execute_result",
          "data": {
            "text/plain": [
              "functools.partial(<function add_numbers at 0x7b13c8b56c00>, 5)"
            ]
          },
          "metadata": {},
          "execution_count": 242
        }
      ],
      "source": [
        "partial(add_numbers, 5)"
      ]
    },
    {
      "cell_type": "code",
      "execution_count": 243,
      "metadata": {
        "colab": {
          "base_uri": "https://localhost:8080/"
        },
        "id": "zCwgc0WBRr4U",
        "outputId": "5a25bdbb-c60d-43c6-89c7-52b7314303c5"
      },
      "outputs": [
        {
          "output_type": "execute_result",
          "data": {
            "text/plain": [
              "6"
            ]
          },
          "metadata": {},
          "execution_count": 243
        }
      ],
      "source": [
        "add_five(1)"
      ]
    },
    {
      "cell_type": "markdown",
      "metadata": {
        "id": "5dTIwXnLRr4U"
      },
      "source": [
        "### Generators"
      ]
    },
    {
      "cell_type": "code",
      "execution_count": 244,
      "metadata": {
        "colab": {
          "base_uri": "https://localhost:8080/"
        },
        "id": "aHBEItrZRr4U",
        "outputId": "eea1f705-4a27-4b39-ae06-e15dec203a42"
      },
      "outputs": [
        {
          "output_type": "stream",
          "name": "stdout",
          "text": [
            "a\n",
            "b\n",
            "c\n"
          ]
        }
      ],
      "source": [
        "some_dict = {'a': 1, 'b': 2, 'c': 3}\n",
        "for key in some_dict:\n",
        "    print(key)"
      ]
    },
    {
      "cell_type": "code",
      "execution_count": 245,
      "metadata": {
        "colab": {
          "base_uri": "https://localhost:8080/"
        },
        "id": "gJK_pFPFRr4U",
        "outputId": "2f09dadf-68a1-4f2f-91d5-e4f8a65f0bf4"
      },
      "outputs": [
        {
          "output_type": "execute_result",
          "data": {
            "text/plain": [
              "<dict_keyiterator at 0x7b13c7a9a5c0>"
            ]
          },
          "metadata": {},
          "execution_count": 245
        }
      ],
      "source": [
        "dict_iterator = iter(some_dict)\n",
        "dict_iterator"
      ]
    },
    {
      "cell_type": "code",
      "execution_count": 246,
      "metadata": {
        "colab": {
          "base_uri": "https://localhost:8080/"
        },
        "id": "_97bF4zMRr4U",
        "outputId": "01547a8a-1ac0-410a-b5e8-329681f5150d"
      },
      "outputs": [
        {
          "output_type": "execute_result",
          "data": {
            "text/plain": [
              "['a', 'b', 'c']"
            ]
          },
          "metadata": {},
          "execution_count": 246
        }
      ],
      "source": [
        "list(dict_iterator)"
      ]
    },
    {
      "cell_type": "code",
      "execution_count": 247,
      "metadata": {
        "id": "KIv2-jAdRr4U"
      },
      "outputs": [],
      "source": [
        "def squares(n=10):\n",
        "    print('Generating squares from 1 to {0}'.format(n ** 2))\n",
        "    for i in range(1, n + 1):\n",
        "        yield i ** 2"
      ]
    },
    {
      "cell_type": "code",
      "execution_count": 248,
      "metadata": {
        "scrolled": true,
        "colab": {
          "base_uri": "https://localhost:8080/"
        },
        "id": "Xgu-e6dlRr4U",
        "outputId": "f877560e-208b-4fce-d349-a97f92bdd868"
      },
      "outputs": [
        {
          "output_type": "execute_result",
          "data": {
            "text/plain": [
              "<generator object squares at 0x7b13c8d02b60>"
            ]
          },
          "metadata": {},
          "execution_count": 248
        }
      ],
      "source": [
        "gen = squares()\n",
        "gen"
      ]
    },
    {
      "cell_type": "code",
      "execution_count": 249,
      "metadata": {
        "colab": {
          "base_uri": "https://localhost:8080/"
        },
        "id": "5RzuhKVYRr4U",
        "outputId": "69170d44-5295-4383-cce8-ea946238c482"
      },
      "outputs": [
        {
          "output_type": "stream",
          "name": "stdout",
          "text": [
            "Generating squares from 1 to 100\n"
          ]
        },
        {
          "output_type": "execute_result",
          "data": {
            "text/plain": [
              "[1, 4, 9, 16, 25, 36, 49, 64, 81, 100]"
            ]
          },
          "metadata": {},
          "execution_count": 249
        }
      ],
      "source": [
        "list(gen)"
      ]
    },
    {
      "cell_type": "code",
      "execution_count": 250,
      "metadata": {
        "colab": {
          "base_uri": "https://localhost:8080/"
        },
        "id": "F8R2y7QPRr4U",
        "outputId": "c2abd58f-dcb0-417a-f6c8-9773e3fa9d35"
      },
      "outputs": [
        {
          "output_type": "execute_result",
          "data": {
            "text/plain": [
              "[]"
            ]
          },
          "metadata": {},
          "execution_count": 250
        }
      ],
      "source": [
        "list(gen)"
      ]
    },
    {
      "cell_type": "code",
      "execution_count": 251,
      "metadata": {
        "id": "eqjtIWVGRr4U"
      },
      "outputs": [],
      "source": [
        "for x in gen:\n",
        "    print(x, end=' ')"
      ]
    },
    {
      "cell_type": "markdown",
      "metadata": {
        "id": "CWcXPmLtRr4V"
      },
      "source": [
        "#### Generator expresssions"
      ]
    },
    {
      "cell_type": "code",
      "execution_count": 252,
      "metadata": {
        "colab": {
          "base_uri": "https://localhost:8080/"
        },
        "id": "qDygSuMLRr4V",
        "outputId": "8728da79-b4db-48e6-9a88-3083c8a2d597"
      },
      "outputs": [
        {
          "output_type": "execute_result",
          "data": {
            "text/plain": [
              "<generator object <genexpr> at 0x7b1404602740>"
            ]
          },
          "metadata": {},
          "execution_count": 252
        }
      ],
      "source": [
        "gen = (x ** 2 for x in range(100))\n",
        "gen"
      ]
    },
    {
      "cell_type": "code",
      "execution_count": 253,
      "metadata": {
        "id": "jPXPv9dSRr4V"
      },
      "outputs": [],
      "source": [
        "def _make_gen():\n",
        "    for x in range(100):\n",
        "        yield x ** 2\n",
        "gen = _make_gen()"
      ]
    },
    {
      "cell_type": "code",
      "execution_count": 254,
      "metadata": {
        "colab": {
          "base_uri": "https://localhost:8080/"
        },
        "id": "DoU0tFWtRr4V",
        "outputId": "7f6acecb-6ded-47ec-9f13-6473dd52ddc5"
      },
      "outputs": [
        {
          "output_type": "execute_result",
          "data": {
            "text/plain": [
              "<generator object _make_gen at 0x7b13c8d46f60>"
            ]
          },
          "metadata": {},
          "execution_count": 254
        }
      ],
      "source": [
        "gen"
      ]
    },
    {
      "cell_type": "code",
      "execution_count": 255,
      "metadata": {
        "colab": {
          "base_uri": "https://localhost:8080/"
        },
        "id": "f2hG-yxGRr4V",
        "outputId": "94cfaaa7-b53b-464a-9fee-8ca689d204f6"
      },
      "outputs": [
        {
          "output_type": "execute_result",
          "data": {
            "text/plain": [
              "[0,\n",
              " 1,\n",
              " 4,\n",
              " 9,\n",
              " 16,\n",
              " 25,\n",
              " 36,\n",
              " 49,\n",
              " 64,\n",
              " 81,\n",
              " 100,\n",
              " 121,\n",
              " 144,\n",
              " 169,\n",
              " 196,\n",
              " 225,\n",
              " 256,\n",
              " 289,\n",
              " 324,\n",
              " 361,\n",
              " 400,\n",
              " 441,\n",
              " 484,\n",
              " 529,\n",
              " 576,\n",
              " 625,\n",
              " 676,\n",
              " 729,\n",
              " 784,\n",
              " 841,\n",
              " 900,\n",
              " 961,\n",
              " 1024,\n",
              " 1089,\n",
              " 1156,\n",
              " 1225,\n",
              " 1296,\n",
              " 1369,\n",
              " 1444,\n",
              " 1521,\n",
              " 1600,\n",
              " 1681,\n",
              " 1764,\n",
              " 1849,\n",
              " 1936,\n",
              " 2025,\n",
              " 2116,\n",
              " 2209,\n",
              " 2304,\n",
              " 2401,\n",
              " 2500,\n",
              " 2601,\n",
              " 2704,\n",
              " 2809,\n",
              " 2916,\n",
              " 3025,\n",
              " 3136,\n",
              " 3249,\n",
              " 3364,\n",
              " 3481,\n",
              " 3600,\n",
              " 3721,\n",
              " 3844,\n",
              " 3969,\n",
              " 4096,\n",
              " 4225,\n",
              " 4356,\n",
              " 4489,\n",
              " 4624,\n",
              " 4761,\n",
              " 4900,\n",
              " 5041,\n",
              " 5184,\n",
              " 5329,\n",
              " 5476,\n",
              " 5625,\n",
              " 5776,\n",
              " 5929,\n",
              " 6084,\n",
              " 6241,\n",
              " 6400,\n",
              " 6561,\n",
              " 6724,\n",
              " 6889,\n",
              " 7056,\n",
              " 7225,\n",
              " 7396,\n",
              " 7569,\n",
              " 7744,\n",
              " 7921,\n",
              " 8100,\n",
              " 8281,\n",
              " 8464,\n",
              " 8649,\n",
              " 8836,\n",
              " 9025,\n",
              " 9216,\n",
              " 9409,\n",
              " 9604,\n",
              " 9801]"
            ]
          },
          "metadata": {},
          "execution_count": 255
        }
      ],
      "source": [
        "list(gen)"
      ]
    },
    {
      "cell_type": "code",
      "execution_count": 256,
      "metadata": {
        "colab": {
          "base_uri": "https://localhost:8080/"
        },
        "id": "qLLPoRjrRr4V",
        "outputId": "4ba38375-3059-49b9-e775-9745b1e12482"
      },
      "outputs": [
        {
          "output_type": "execute_result",
          "data": {
            "text/plain": [
              "{0: 0, 1: 1, 2: 4, 3: 9, 4: 16}"
            ]
          },
          "metadata": {},
          "execution_count": 256
        }
      ],
      "source": [
        "sum(x ** 2 for x in range(100))\n",
        "dict((i, i **2) for i in range(5))"
      ]
    },
    {
      "cell_type": "markdown",
      "metadata": {
        "id": "EOH-XsvwRr4V"
      },
      "source": [
        "#### itertools module"
      ]
    },
    {
      "cell_type": "code",
      "execution_count": 257,
      "metadata": {
        "colab": {
          "base_uri": "https://localhost:8080/"
        },
        "id": "JrX-31cJRr4V",
        "outputId": "ec9a19c7-626c-4bc4-8909-67cfd6d0cc71"
      },
      "outputs": [
        {
          "output_type": "stream",
          "name": "stdout",
          "text": [
            "A ['Alan', 'Adam']\n",
            "W ['Wes', 'Will']\n",
            "A ['Albert']\n",
            "S ['Steven']\n"
          ]
        }
      ],
      "source": [
        "import itertools\n",
        "first_letter = lambda x: x[0]\n",
        "names = ['Alan', 'Adam', 'Wes', 'Will', 'Albert', 'Steven']\n",
        "for letter, names in itertools.groupby(names, first_letter):\n",
        "    print(letter, list(names)) # names is a generator"
      ]
    },
    {
      "cell_type": "code",
      "execution_count": 258,
      "metadata": {
        "colab": {
          "base_uri": "https://localhost:8080/"
        },
        "id": "3G6URrVVRr4V",
        "outputId": "fb60c577-d911-4924-9fae-8a319c76e9d1"
      },
      "outputs": [
        {
          "output_type": "execute_result",
          "data": {
            "text/plain": [
              "[('A', <itertools._grouper at 0x7b13c8b5e770>),\n",
              " ('W', <itertools._grouper at 0x7b13c8b5fd00>),\n",
              " ('A', <itertools._grouper at 0x7b13c8b5eb60>),\n",
              " ('S', <itertools._grouper at 0x7b13c8b5e8f0>)]"
            ]
          },
          "metadata": {},
          "execution_count": 258
        }
      ],
      "source": [
        "first_letter = lambda x: x[0]\n",
        "names = ['Alan', 'Adam', 'Wes', 'Will', 'Albert', 'Steven']\n",
        "list(itertools.groupby(names, first_letter))"
      ]
    },
    {
      "cell_type": "markdown",
      "metadata": {
        "id": "eglZtMtgRr4V"
      },
      "source": [
        "### Errors and Exception Handling"
      ]
    },
    {
      "cell_type": "code",
      "execution_count": 259,
      "metadata": {
        "colab": {
          "base_uri": "https://localhost:8080/",
          "height": 151
        },
        "id": "LIgqf-jxRr4V",
        "outputId": "fcc84b59-8b7c-4f1e-f423-52b4c9b89663"
      },
      "outputs": [
        {
          "output_type": "error",
          "ename": "ValueError",
          "evalue": "could not convert string to float: 'something'",
          "traceback": [
            "\u001b[0;31m---------------------------------------------------------------------------\u001b[0m",
            "\u001b[0;31mValueError\u001b[0m                                Traceback (most recent call last)",
            "\u001b[0;32m<ipython-input-259-641199526>\u001b[0m in \u001b[0;36m<cell line: 0>\u001b[0;34m()\u001b[0m\n\u001b[1;32m      1\u001b[0m \u001b[0mfloat\u001b[0m\u001b[0;34m(\u001b[0m\u001b[0;34m'1.2345'\u001b[0m\u001b[0;34m)\u001b[0m\u001b[0;34m\u001b[0m\u001b[0;34m\u001b[0m\u001b[0m\n\u001b[0;32m----> 2\u001b[0;31m \u001b[0mfloat\u001b[0m\u001b[0;34m(\u001b[0m\u001b[0;34m'something'\u001b[0m\u001b[0;34m)\u001b[0m\u001b[0;34m\u001b[0m\u001b[0;34m\u001b[0m\u001b[0m\n\u001b[0m",
            "\u001b[0;31mValueError\u001b[0m: could not convert string to float: 'something'"
          ]
        }
      ],
      "source": [
        "float('1.2345')\n",
        "float('something')"
      ]
    },
    {
      "cell_type": "code",
      "execution_count": 260,
      "metadata": {
        "id": "xP_PD_RFRr4V"
      },
      "outputs": [],
      "source": [
        "def attempt_float(x):\n",
        "    try:\n",
        "        return float(x)\n",
        "    except:\n",
        "        return x"
      ]
    },
    {
      "cell_type": "code",
      "execution_count": 261,
      "metadata": {
        "id": "KHplzXPIRr4V",
        "colab": {
          "base_uri": "https://localhost:8080/"
        },
        "outputId": "c7a7398f-7612-498d-9f1d-e6e139b3ebef"
      },
      "outputs": [
        {
          "output_type": "execute_result",
          "data": {
            "text/plain": [
              "1.2345"
            ]
          },
          "metadata": {},
          "execution_count": 261
        }
      ],
      "source": [
        "attempt_float('1.2345')"
      ]
    },
    {
      "cell_type": "code",
      "execution_count": 262,
      "metadata": {
        "id": "0GP30rorRr4V",
        "colab": {
          "base_uri": "https://localhost:8080/",
          "height": 34
        },
        "outputId": "a2b8c16a-6bed-4f53-ab04-35a6d5d85057"
      },
      "outputs": [
        {
          "output_type": "execute_result",
          "data": {
            "text/plain": [
              "'something'"
            ],
            "application/vnd.google.colaboratory.intrinsic+json": {
              "type": "string"
            }
          },
          "metadata": {},
          "execution_count": 262
        }
      ],
      "source": [
        "attempt_float('something')"
      ]
    },
    {
      "cell_type": "code",
      "execution_count": 263,
      "metadata": {
        "id": "5FDtZByZRr4V",
        "colab": {
          "base_uri": "https://localhost:8080/"
        },
        "outputId": "139f6cc4-a731-4e8a-82ca-2c96f7374077"
      },
      "outputs": [
        {
          "output_type": "execute_result",
          "data": {
            "text/plain": [
              "(1, 2)"
            ]
          },
          "metadata": {},
          "execution_count": 263
        }
      ],
      "source": [
        "attempt_float((1,2))"
      ]
    },
    {
      "cell_type": "code",
      "execution_count": 264,
      "metadata": {
        "id": "k_i_RTWYRr4V",
        "colab": {
          "base_uri": "https://localhost:8080/",
          "height": 135
        },
        "outputId": "7ae97293-9a2b-4a40-8c8b-ce1b759ccc46"
      },
      "outputs": [
        {
          "output_type": "error",
          "ename": "TypeError",
          "evalue": "float() argument must be a string or a real number, not 'tuple'",
          "traceback": [
            "\u001b[0;31m---------------------------------------------------------------------------\u001b[0m",
            "\u001b[0;31mTypeError\u001b[0m                                 Traceback (most recent call last)",
            "\u001b[0;32m<ipython-input-264-1061708882>\u001b[0m in \u001b[0;36m<cell line: 0>\u001b[0;34m()\u001b[0m\n\u001b[0;32m----> 1\u001b[0;31m \u001b[0mfloat\u001b[0m\u001b[0;34m(\u001b[0m\u001b[0;34m(\u001b[0m\u001b[0;36m1\u001b[0m\u001b[0;34m,\u001b[0m \u001b[0;36m2\u001b[0m\u001b[0;34m)\u001b[0m\u001b[0;34m)\u001b[0m\u001b[0;34m\u001b[0m\u001b[0;34m\u001b[0m\u001b[0m\n\u001b[0m",
            "\u001b[0;31mTypeError\u001b[0m: float() argument must be a string or a real number, not 'tuple'"
          ]
        }
      ],
      "source": [
        "float((1, 2))"
      ]
    },
    {
      "cell_type": "code",
      "execution_count": 265,
      "metadata": {
        "id": "M7BX8z1GRr4V"
      },
      "outputs": [],
      "source": [
        "def attempt_float(x):\n",
        "    try:\n",
        "        return float(x)\n",
        "    except ValueError:\n",
        "        return x"
      ]
    },
    {
      "cell_type": "code",
      "execution_count": 266,
      "metadata": {
        "id": "-28JXpfARr4V",
        "colab": {
          "base_uri": "https://localhost:8080/",
          "height": 250
        },
        "outputId": "9be0ff64-6669-44f5-8223-6cc487a26fb1"
      },
      "outputs": [
        {
          "output_type": "error",
          "ename": "TypeError",
          "evalue": "float() argument must be a string or a real number, not 'tuple'",
          "traceback": [
            "\u001b[0;31m---------------------------------------------------------------------------\u001b[0m",
            "\u001b[0;31mTypeError\u001b[0m                                 Traceback (most recent call last)",
            "\u001b[0;32m<ipython-input-266-3151118377>\u001b[0m in \u001b[0;36m<cell line: 0>\u001b[0;34m()\u001b[0m\n\u001b[0;32m----> 1\u001b[0;31m \u001b[0mattempt_float\u001b[0m\u001b[0;34m(\u001b[0m\u001b[0;34m(\u001b[0m\u001b[0;36m1\u001b[0m\u001b[0;34m,\u001b[0m \u001b[0;36m2\u001b[0m\u001b[0;34m)\u001b[0m\u001b[0;34m)\u001b[0m\u001b[0;34m\u001b[0m\u001b[0;34m\u001b[0m\u001b[0m\n\u001b[0m",
            "\u001b[0;32m<ipython-input-265-1063157278>\u001b[0m in \u001b[0;36mattempt_float\u001b[0;34m(x)\u001b[0m\n\u001b[1;32m      1\u001b[0m \u001b[0;32mdef\u001b[0m \u001b[0mattempt_float\u001b[0m\u001b[0;34m(\u001b[0m\u001b[0mx\u001b[0m\u001b[0;34m)\u001b[0m\u001b[0;34m:\u001b[0m\u001b[0;34m\u001b[0m\u001b[0;34m\u001b[0m\u001b[0m\n\u001b[1;32m      2\u001b[0m     \u001b[0;32mtry\u001b[0m\u001b[0;34m:\u001b[0m\u001b[0;34m\u001b[0m\u001b[0;34m\u001b[0m\u001b[0m\n\u001b[0;32m----> 3\u001b[0;31m         \u001b[0;32mreturn\u001b[0m \u001b[0mfloat\u001b[0m\u001b[0;34m(\u001b[0m\u001b[0mx\u001b[0m\u001b[0;34m)\u001b[0m\u001b[0;34m\u001b[0m\u001b[0;34m\u001b[0m\u001b[0m\n\u001b[0m\u001b[1;32m      4\u001b[0m     \u001b[0;32mexcept\u001b[0m \u001b[0mValueError\u001b[0m\u001b[0;34m:\u001b[0m\u001b[0;34m\u001b[0m\u001b[0;34m\u001b[0m\u001b[0m\n\u001b[1;32m      5\u001b[0m         \u001b[0;32mreturn\u001b[0m \u001b[0mx\u001b[0m\u001b[0;34m\u001b[0m\u001b[0;34m\u001b[0m\u001b[0m\n",
            "\u001b[0;31mTypeError\u001b[0m: float() argument must be a string or a real number, not 'tuple'"
          ]
        }
      ],
      "source": [
        "attempt_float((1, 2))"
      ]
    },
    {
      "cell_type": "code",
      "execution_count": 267,
      "metadata": {
        "id": "hZ1eX5SHRr4V"
      },
      "outputs": [],
      "source": [
        "def attempt_float(x):\n",
        "    try:\n",
        "        return float(x)\n",
        "    except (TypeError, ValueError):\n",
        "        return x"
      ]
    },
    {
      "cell_type": "code",
      "execution_count": 271,
      "metadata": {
        "id": "3tHzYBX3Rr4W",
        "colab": {
          "base_uri": "https://localhost:8080/",
          "height": 201
        },
        "outputId": "ca5e240c-6e44-461e-bedb-3501ed6ff716"
      },
      "outputs": [
        {
          "output_type": "error",
          "ename": "NameError",
          "evalue": "name 'write_to_file' is not defined",
          "traceback": [
            "\u001b[0;31m---------------------------------------------------------------------------\u001b[0m",
            "\u001b[0;31mNameError\u001b[0m                                 Traceback (most recent call last)",
            "\u001b[0;32m<ipython-input-271-3819097384>\u001b[0m in \u001b[0;36m<cell line: 0>\u001b[0;34m()\u001b[0m\n\u001b[1;32m      2\u001b[0m \u001b[0;34m\u001b[0m\u001b[0m\n\u001b[1;32m      3\u001b[0m \u001b[0;32mtry\u001b[0m\u001b[0;34m:\u001b[0m\u001b[0;34m\u001b[0m\u001b[0;34m\u001b[0m\u001b[0m\n\u001b[0;32m----> 4\u001b[0;31m     \u001b[0mwrite_to_file\u001b[0m\u001b[0;34m(\u001b[0m\u001b[0mf\u001b[0m\u001b[0;34m)\u001b[0m\u001b[0;34m\u001b[0m\u001b[0;34m\u001b[0m\u001b[0m\n\u001b[0m\u001b[1;32m      5\u001b[0m \u001b[0;32mfinally\u001b[0m\u001b[0;34m:\u001b[0m\u001b[0;34m\u001b[0m\u001b[0;34m\u001b[0m\u001b[0m\n\u001b[1;32m      6\u001b[0m     \u001b[0mf\u001b[0m\u001b[0;34m.\u001b[0m\u001b[0mclose\u001b[0m\u001b[0;34m(\u001b[0m\u001b[0;34m)\u001b[0m\u001b[0;34m\u001b[0m\u001b[0;34m\u001b[0m\u001b[0m\n",
            "\u001b[0;31mNameError\u001b[0m: name 'write_to_file' is not defined"
          ]
        }
      ],
      "source": [
        "f = open(path, 'w')\n",
        "\n",
        "try:\n",
        "    write_to_file(f)\n",
        "finally:\n",
        "    f.close()"
      ]
    },
    {
      "cell_type": "code",
      "execution_count": 272,
      "metadata": {
        "id": "bmZ0xFj1Rr4W",
        "colab": {
          "base_uri": "https://localhost:8080/"
        },
        "outputId": "d6a22659-4aeb-46dd-decc-419da4e3e73d"
      },
      "outputs": [
        {
          "output_type": "stream",
          "name": "stdout",
          "text": [
            "Failed\n"
          ]
        }
      ],
      "source": [
        "f = open(path, 'w')\n",
        "\n",
        "try:\n",
        "    write_to_file(f)\n",
        "except:\n",
        "    print('Failed')\n",
        "else:\n",
        "    print('Succeeded')\n",
        "finally:\n",
        "    f.close()"
      ]
    },
    {
      "cell_type": "markdown",
      "metadata": {
        "id": "GNV5YjEnRr4W"
      },
      "source": [
        "## Files and the Operating System"
      ]
    },
    {
      "cell_type": "code",
      "execution_count": 273,
      "metadata": {
        "id": "8fFAsC-1Rr4W"
      },
      "outputs": [],
      "source": [
        "path = './array_ex.txt'\n",
        "f = open(path)"
      ]
    },
    {
      "cell_type": "code",
      "execution_count": 274,
      "metadata": {
        "id": "sGlIBnKSRr4W"
      },
      "outputs": [],
      "source": [
        "for line in f:\n",
        "    print(line)"
      ]
    },
    {
      "cell_type": "code",
      "execution_count": 275,
      "metadata": {
        "id": "4oK5WmKURr4W",
        "colab": {
          "base_uri": "https://localhost:8080/"
        },
        "outputId": "21f1d241-78f8-4c19-a625-67616f237119"
      },
      "outputs": [
        {
          "output_type": "execute_result",
          "data": {
            "text/plain": [
              "[]"
            ]
          },
          "metadata": {},
          "execution_count": 275
        }
      ],
      "source": [
        "lines = [list(map(float, x.rstrip().split(','))) for x in open(path)]\n",
        "lines"
      ]
    },
    {
      "cell_type": "code",
      "execution_count": 276,
      "metadata": {
        "id": "Z6gyNBPwRr4W"
      },
      "outputs": [],
      "source": [
        "f.close()"
      ]
    },
    {
      "cell_type": "code",
      "execution_count": 277,
      "metadata": {
        "id": "cQXTXsTtRr4W",
        "colab": {
          "base_uri": "https://localhost:8080/"
        },
        "outputId": "82e63998-beca-45f1-dba1-404db49b8c0d"
      },
      "outputs": [
        {
          "output_type": "stream",
          "name": "stdout",
          "text": [
            "[]\n"
          ]
        }
      ],
      "source": [
        "with open(path) as f:\n",
        "    lines = [x.rstrip() for x in f]\n",
        "    print(lines)"
      ]
    },
    {
      "cell_type": "code",
      "execution_count": 278,
      "metadata": {
        "id": "JVDq009dRr4W",
        "colab": {
          "base_uri": "https://localhost:8080/"
        },
        "outputId": "cd95601d-e408-492b-b590-c070885387be"
      },
      "outputs": [
        {
          "output_type": "stream",
          "name": "stdout",
          "text": [
            "\n"
          ]
        }
      ],
      "source": [
        "path = './array_ex.txt'\n",
        "f = open(path)\n",
        "print(f.read(10))\n",
        "f.close()"
      ]
    },
    {
      "cell_type": "code",
      "execution_count": 279,
      "metadata": {
        "id": "7enVnYljRr4W",
        "colab": {
          "base_uri": "https://localhost:8080/"
        },
        "outputId": "feb4252b-df3b-46cb-c7f5-18f98b9b7ff4"
      },
      "outputs": [
        {
          "output_type": "stream",
          "name": "stdout",
          "text": [
            "b''\n"
          ]
        }
      ],
      "source": [
        "path = './array_ex.txt'\n",
        "f2 = open(path, 'rb')  # Binary mode\n",
        "print(f2.read(10))\n",
        "f2.close()"
      ]
    },
    {
      "cell_type": "code",
      "execution_count": 280,
      "metadata": {
        "id": "uujHmPOjRr4W"
      },
      "outputs": [],
      "source": [
        "f.close()\n",
        "f2.close()"
      ]
    },
    {
      "cell_type": "code",
      "execution_count": 281,
      "metadata": {
        "id": "Zop25LftRr4W",
        "colab": {
          "base_uri": "https://localhost:8080/"
        },
        "outputId": "e7112212-daf5-4110-af5c-8d6700c4fab5"
      },
      "outputs": [
        {
          "output_type": "execute_result",
          "data": {
            "text/plain": [
              "[]"
            ]
          },
          "metadata": {},
          "execution_count": 281
        }
      ],
      "source": [
        "with open('tmp.txt', 'w') as handle:\n",
        "    handle.writelines(x for x in open(path) if len(x) > 1)\n",
        "with open('tmp.txt') as f:\n",
        "    lines = f.readlines()\n",
        "lines"
      ]
    },
    {
      "cell_type": "code",
      "execution_count": 282,
      "metadata": {
        "id": "AUGDBpJFRr4W"
      },
      "outputs": [],
      "source": [
        "import os\n",
        "os.remove('tmp.txt')"
      ]
    },
    {
      "cell_type": "markdown",
      "metadata": {
        "id": "yBXA8N6qRr4W"
      },
      "source": [
        "### Lab exercise of today\n",
        "\n",
        "\n",
        "1. Write a python function to compute the sum of 1, 2, 3, ... to x by a given integer x. I expect recursion and tail recursion.\n",
        "\n",
        "2. The Fibonacci sequence 1, 1, 2, 3, 5, 8, 13, 21…… starts with two 1s, and each term afterwards is the sum of its two predecessors. Please write a function, Fib(n), which takes n as the input parameter. It will return the n-th number in the Fibonacci sequence."
      ]
    },
    {
      "cell_type": "code",
      "execution_count": 283,
      "metadata": {
        "id": "Ht-ZZZC3Rr4W"
      },
      "outputs": [],
      "source": [
        "def rec_sum(x, total=0):\n",
        "    if x == 0:\n",
        "        return total\n",
        "    else:\n",
        "        return rec_sum(x-1, total+x)\n",
        "\n",
        "# x=5\n",
        "# return rec_sum(4, total+5)\n",
        "# return rec_sum(3, total+4)"
      ]
    },
    {
      "cell_type": "code",
      "execution_count": 284,
      "metadata": {
        "id": "07gQayjNRr4W",
        "colab": {
          "base_uri": "https://localhost:8080/"
        },
        "outputId": "03f31c88-08f6-4546-c18b-2bc3cfead4cb"
      },
      "outputs": [
        {
          "output_type": "execute_result",
          "data": {
            "text/plain": [
              "5050"
            ]
          },
          "metadata": {},
          "execution_count": 284
        }
      ],
      "source": [
        "rec_sum(100)"
      ]
    },
    {
      "cell_type": "code",
      "execution_count": 285,
      "metadata": {
        "id": "WtWICEtERr4W"
      },
      "outputs": [],
      "source": [
        "def fib(n):\n",
        "    if n < 0:\n",
        "        print('Error')\n",
        "    elif n == 0:\n",
        "        return 0\n",
        "    elif n == 1 or n == 2:\n",
        "        return 1\n",
        "    else:\n",
        "        return fib(n-1) + fib(n-2)"
      ]
    },
    {
      "cell_type": "code",
      "execution_count": 286,
      "metadata": {
        "id": "1PPJkbaARr4W",
        "colab": {
          "base_uri": "https://localhost:8080/"
        },
        "outputId": "eea36594-8d49-4a7a-d232-c5e0a8d6c07d"
      },
      "outputs": [
        {
          "output_type": "execute_result",
          "data": {
            "text/plain": [
              "21"
            ]
          },
          "metadata": {},
          "execution_count": 286
        }
      ],
      "source": [
        "fib(8)"
      ]
    },
    {
      "cell_type": "markdown",
      "metadata": {
        "id": "NNPehRjERr4W"
      },
      "source": [
        "### Homework\n",
        "\n",
        "#### Problem 1. Write a function squareRoot(x) to compute the square root of the positive number by newton-raphson method.\n",
        "\n",
        "Calculators and computers use Newton's Method to compute square roots. We'll see how to compute $\\sqrt{2}$\n",
        "\n",
        "Finding the square root of 2 is the same thing as solving $x^2 - 2 = 0$. So we set $f(x)=x^2-2$, $f'(x)=2x$, and apply the recursive formula\n",
        "\n",
        "$\\large x_{n+1} = x_n - \\frac{f(x_n)}{f'(x_n)} = x_n -\n",
        "      \\frac{x_n^2-2}{2x_n}$\n",
        "\n",
        "\n",
        "It only takes a few steps to get 10 or 20 decimal places.\n",
        "\n",
        "![image.png](attachment:image.png)"
      ]
    },
    {
      "cell_type": "code",
      "source": [
        "def squareRoot(x):\n",
        "    if x == 0:\n",
        "        return 0\n",
        "\n",
        "    guess = x / 2  # starting guess\n",
        "\n",
        "    for i in range(20):  # max iterations\n",
        "        new_guess = (guess + x / guess) / 2\n",
        "\n",
        "        # check if close enough\n",
        "        if abs(new_guess - guess) < 0.0000001:\n",
        "            return new_guess\n",
        "\n",
        "        guess = new_guess\n",
        "\n",
        "    return guess"
      ],
      "metadata": {
        "id": "LYls6vy6fOa0"
      },
      "execution_count": 293,
      "outputs": []
    },
    {
      "cell_type": "markdown",
      "metadata": {
        "id": "rPe2Yl5IRr4X"
      },
      "source": [
        "#### Problem 2. Write a function myPi(n) to compute pi by Gregory series.\n",
        "\n",
        "![image.png](attachment:image.png)\n",
        "http://mathworld.wolfram.com/PiFormulas.html\n",
        "\n"
      ]
    },
    {
      "cell_type": "code",
      "source": [
        "def myPi(n):\n",
        "    total = 0\n",
        "\n",
        "    for k in range(1, n+1):\n",
        "        # denominator: 1, 3, 5, 7, 9, ...\n",
        "        denominator = 2*k - 1\n",
        "\n",
        "        # alternating signs\n",
        "        if k % 2 == 1:  # odd k = positive\n",
        "            total += 1/denominator\n",
        "        else:  # even k = negative\n",
        "            total -= 1/denominator\n",
        "\n",
        "    return 4 * total\n"
      ],
      "metadata": {
        "id": "r7_4tr8jg0yg"
      },
      "execution_count": 294,
      "outputs": []
    },
    {
      "cell_type": "markdown",
      "metadata": {
        "id": "oi5jKcOmRr4X"
      },
      "source": [
        "#### Problem 3. Filtering Prime Numbers: write Python code to return a list of prime numbers within range from 0 to 1000\n",
        "\n",
        "https://www.youtube.com/watch?v=ej_HfaFsBgY&ab_channel=Examrace"
      ]
    },
    {
      "cell_type": "markdown",
      "metadata": {
        "id": "g4BASCynRr4X"
      },
      "source": [
        "The sieve works by marking the composite numbers- filtering them out. What is left on top are the prime numbers.\n",
        "Steps:\n",
        "* A prime number has only two factors: 1 and itself. A composite number has more than two factors. The number 1 is neither prime nor composite – because it has only one factor (1)- so we remove 1\n",
        "* Now we move on to number 2.  We know that any of the multiples of 2 except 2 cannot be prime- because one of their factors is 2 (in addition to 1 and itself). So we move through multiples of 2 and mark them as composites.\n",
        "* Now we move to number 3- If 3 was a factor of any of the numbers seen so far- it would have been cancelled. But it is not so the only factors of 3 are 3 and 1- and hence it is prime. Therefore if we reach any number and it has not been cancelled it has to be prime. So we mark three as prime. We move through 3 and cancel all its multiples as they cannot be prime.\n",
        "* Lets look at number 4. It has been marked as composite because it had 2 as factor. But what about its multiples? We don’t have to consider its multiples because they would have been cancelled already as they would have been multiples of factors of 4.\n",
        "* Now we look at 5. Since it has not been cancelled we mark it prime and then mark all its multiples as composites.\n",
        "* We only need to do this process till sqrt(1000). Why?"
      ]
    },
    {
      "cell_type": "code",
      "source": [
        "def sieve_primes():\n",
        "    is_prime = [True] * 1001\n",
        "    is_prime[0] = is_prime[1] = False  # 0 and 1 are not prime\n",
        "\n",
        "    for i in range(2, int(1000**0.5) + 1):\n",
        "        if is_prime[i]:\n",
        "            for j in range(i*i, 1001, i):\n",
        "                is_prime[j] = False\n",
        "\n",
        "    primes = []\n",
        "    for i in range(2, 1001):\n",
        "        if is_prime[i]:\n",
        "            primes.append(i)\n",
        "\n",
        "    return primes"
      ],
      "metadata": {
        "id": "YbpIeJUWg8BG"
      },
      "execution_count": 295,
      "outputs": []
    }
  ],
  "metadata": {
    "kernelspec": {
      "display_name": "Python 3 (ipykernel)",
      "language": "python",
      "name": "python3"
    },
    "language_info": {
      "codemirror_mode": {
        "name": "ipython",
        "version": 3
      },
      "file_extension": ".py",
      "mimetype": "text/x-python",
      "name": "python",
      "nbconvert_exporter": "python",
      "pygments_lexer": "ipython3",
      "version": "3.12.4"
    },
    "toc": {
      "base_numbering": 1,
      "nav_menu": {},
      "number_sections": true,
      "sideBar": true,
      "skip_h1_title": false,
      "title_cell": "Table of Contents",
      "title_sidebar": "Contents",
      "toc_cell": false,
      "toc_position": {},
      "toc_section_display": true,
      "toc_window_display": false
    },
    "colab": {
      "provenance": [],
      "collapsed_sections": [
        "uUUYkfuERr32",
        "BbmaFWJoRr35",
        "wCxkpCOzRr38",
        "w5BtCXVkRr4L",
        "hrUVV8PVRr4P"
      ],
      "include_colab_link": true
    }
  },
  "nbformat": 4,
  "nbformat_minor": 0
}